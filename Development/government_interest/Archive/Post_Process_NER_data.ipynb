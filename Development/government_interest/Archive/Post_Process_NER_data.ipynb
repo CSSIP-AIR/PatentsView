{
 "cells": [
  {
   "cell_type": "code",
   "execution_count": 59,
   "metadata": {
    "ExecuteTime": {
     "end_time": "2019-01-30T21:45:57.651274Z",
     "start_time": "2019-01-30T21:45:57.604285Z"
    }
   },
   "outputs": [],
   "source": [
    "import pandas as pd\n",
    "import numpy as np\n",
    "from fuzzywuzzy import fuzz\n",
    "from fuzzywuzzy import process\n",
    "import string\n",
    "import re\n",
    "import os\n",
    "import csv\n",
    "import sys\n",
    "sys.path.append('/project/Development')\n",
    "from helpers import general_helpers\n",
    "\n",
    "def clean_matchlist(match_list):\n",
    "    if len(match_list) == 0:\n",
    "        match_list = np.nan\n",
    "    else:\n",
    "        match_list = '|'.join(match_list)\n",
    "    return match_list\n",
    "def fuzzy_match(org, govt_acc_dict, existing_lookup):\n",
    "    all_possible_long = [item.strip() for item in govt_acc_dict.values()] + [item.strip() for item in existing_lookup.values()]\n",
    "    solid_matches = []\n",
    "    possible_matches = []\n",
    "    results = process.extract(org, all_possible_long, scorer=fuzz.partial_ratio)\n",
    "    first_result = True\n",
    "    for result in results:\n",
    "        score = result[1]\n",
    "        matched_org = result[0]\n",
    "        if score > 90 and len(matched_org) >=6: #small acronyms match too many things\n",
    "            if  matched_org in [\"Army\", \"Air Force\", \"Navy\"]: #special procesing to avoid losing information on longer military division\n",
    "                if len(matched_org) <= len(org) + 4:\n",
    "                    solid_matches.append(matched_org)\n",
    "                else:\n",
    "                    possible_matches.append(matched_org)\n",
    "            else:\n",
    "                solid_matches.append(matched_org)\n",
    "        elif score > 50:\n",
    "            possible_matches.append(matched_org)\n",
    "    return solid_matches,  possible_matches\n",
    "\n",
    "def match(org, govt_acc_dict, existing_lookup):\n",
    "    solid_matches = []\n",
    "    possible_matches = []\n",
    "\n",
    "    for acronym, name in govt_acc_dict.items():\n",
    "        if re.search(r'\\b'+ acronym + r'\\b', org):\n",
    "            solid_matches.append(name)\n",
    "        if name in org:\n",
    "            solid_matches.append(name)\n",
    "    for existing, clean in existing_lookup.items():\n",
    "        if existing in org or clean in org:\n",
    "            solid_matches.append(clean)\n",
    "    solid_fuzzy, possible_fuzzy = fuzzy_match(org, govt_acc_dict, existing_lookup)\n",
    "    solid_matches.extend(solid_fuzzy)\n",
    "    #convert to set to get rid of duplicates\n",
    "    solid_matches = list(set(solid_matches))\n",
    "    possible_matches = list(set(possible_matches))\n",
    "    #only get possible matches if there aren't solid matches\n",
    "    if len(solid_matches)<1: \n",
    "        possible_matches.extend(possible_fuzzy)\n",
    "    #if there are too many solid matches, put them in possible for review\n",
    "    if len(solid_matches) > 2:\n",
    "        possible_matches.extend(solid_matches)\n",
    "        solid_matches = []\n",
    "    #switch empty lists for nan and join them with '|'\n",
    "    solid_matches = clean_matchlist(solid_matches)\n",
    "    possible_matches = clean_matchlist(possible_matches)\n",
    "    return solid_matches, possible_matches\n",
    "def get_data(persistent_files, pre_manual):\n",
    "    existing_lookup_data = pd.read_csv(\"{}/existing_orgs_lookup.csv\".format(persistent_files)).dropna()\n",
    "    existing_lookup = dict(zip(existing_lookup_data['original'], existing_lookup_data['clean']))\n",
    "\n",
    "    government_orgs = pd.read_csv(\"{}/list_of_government_agencies.csv\".format(persistent_files))\n",
    "    govt_acc_dict = dict(zip([item.strip() for item in government_orgs[\"Acronym\"]], [general_helpers.better_title(item.strip()) for item in government_orgs[\"Long_form\"]]))\n",
    "\n",
    "    # #Input from NER round\n",
    "    orgs = pd.read_csv(\"{}/distinctOrgs.txt\".format(pre_manual), delimiter = \"\\t\")\n",
    "\n",
    "    gov_to_skip = ['Government', 'US Government', 'U.S. Government', 'United States Government']\n",
    "    organizations = [item for item in orgs['Organization'] if not item in gov_to_skip ]\n",
    "    \n",
    "    return existing_lookup, govt_acc_dict, organizations\n",
    "    \n",
    "def perform_lookups(existing_lookup, govt_acc_dict, organizations, post_manual, manual_inputs):\n",
    "    all_solid = []\n",
    "    all_possible = []\n",
    "    for org in organizations:#kinda slow, ~7 minutes for 6 months of data\n",
    "        solid_for_org, possible_for_org = match(org, govt_acc_dict, existing_lookup)\n",
    "        all_solid.append(solid_for_org)\n",
    "        all_possible.append(possible_for_org)\n",
    "    results = pd.DataFrame([organizations, all_solid, all_possible]).T\n",
    "    results.columns = ['organization', 'solid', 'possible']\n",
    "    matched = results[~pd.isnull(results['solid'])][['organization', 'solid']]\n",
    "    matched.to_csv('{}/automatically_matched.csv'.format(post_manual), index = False)\n",
    "    to_check = results[~pd.isnull(results['possible'])][['organization', 'possible']]\n",
    "    to_check.to_csv('{}/to_check.csv'.format(manual_inputs), index = False)"
   ]
  },
  {
   "cell_type": "code",
   "execution_count": 60,
   "metadata": {
    "ExecuteTime": {
     "end_time": "2019-01-30T21:55:53.405243Z",
     "start_time": "2019-01-30T21:48:22.438312Z"
    }
   },
   "outputs": [],
   "source": [
    "import configparser\n",
    "config = configparser.ConfigParser()\n",
    "config.read('/project/Development/config.ini')\n",
    "persistent_files = config['FOLDERS']['PERSISTENT_FILES']\n",
    "pre_manual = '{}/government_interest/pre_manual'.format(config['FOLDERS']['WORKING_FOLDER'])\n",
    "manual_inputs = '{}/government_interest/manual_inputs'.format(config['FOLDERS']['WORKING_FOLDER'])\n",
    "post_manual = '{}/government_interest/post_manual'.format(config['FOLDERS']['WORKING_FOLDER'])\n",
    "if not os.path.exists(manual_inputs):\n",
    "    os.mkdir(manual_inputs)\n",
    "if not os.path.exists(post_manual):\n",
    "    os.mkdir(post_manual)\n",
    "existing_lookup, govt_acc_dict, organizations = get_data(persistent_files, pre_manual)\n",
    "perform_lookups(existing_lookup, govt_acc_dict, organizations, post_manual, manual_inputs)"
   ]
  },
  {
   "cell_type": "code",
   "execution_count": 56,
   "metadata": {
    "ExecuteTime": {
     "end_time": "2019-01-30T21:36:52.828514Z",
     "start_time": "2019-01-30T21:36:52.678387Z"
    }
   },
   "outputs": [],
   "source": []
  },
  {
   "cell_type": "code",
   "execution_count": 58,
   "metadata": {
    "ExecuteTime": {
     "end_time": "2019-01-30T21:43:09.743337Z",
     "start_time": "2019-01-30T21:43:09.702709Z"
    }
   },
   "outputs": [],
   "source": []
  },
  {
   "cell_type": "code",
   "execution_count": null,
   "metadata": {
    "ExecuteTime": {
     "end_time": "2019-01-30T20:42:55.552571Z",
     "start_time": "2019-01-30T20:42:55.451820Z"
    }
   },
   "outputs": [],
   "source": []
  },
  {
   "cell_type": "code",
   "execution_count": 57,
   "metadata": {
    "ExecuteTime": {
     "end_time": "2019-01-30T21:38:39.765596Z",
     "start_time": "2019-01-30T21:38:39.715402Z"
    }
   },
   "outputs": [],
   "source": []
  },
  {
   "cell_type": "code",
   "execution_count": null,
   "metadata": {},
   "outputs": [],
   "source": []
  }
 ],
 "metadata": {
  "kernelspec": {
   "display_name": "Python 3",
   "language": "python",
   "name": "python3"
  },
  "varInspector": {
   "cols": {
    "lenName": 16,
    "lenType": 16,
    "lenVar": 40
   },
   "kernels_config": {
    "python": {
     "delete_cmd_postfix": "",
     "delete_cmd_prefix": "del ",
     "library": "var_list.py",
     "varRefreshCmd": "print(var_dic_list())"
    },
    "r": {
     "delete_cmd_postfix": ") ",
     "delete_cmd_prefix": "rm(",
     "library": "var_list.r",
     "varRefreshCmd": "cat(var_dic_list()) "
    }
   },
   "types_to_exclude": [
    "module",
    "function",
    "builtin_function_or_method",
    "instance",
    "_Feature"
   ],
   "window_display": false
  }
 },
 "nbformat": 4,
 "nbformat_minor": 2
}
