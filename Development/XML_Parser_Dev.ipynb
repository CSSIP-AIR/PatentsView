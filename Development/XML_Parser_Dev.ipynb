{
 "cells": [
  {
   "cell_type": "code",
   "execution_count": 279,
   "metadata": {
    "collapsed": false
   },
   "outputs": [],
   "source": [
    "import os\n",
    "import sys\n",
    "import re\n",
    "#update with the path to your config file\n",
    "sys.path.append(\"D:/DataBaseUpdate/To_clone\")\n",
    "from ConfigFiles import config\n",
    "\n",
    "from lxml import etree\n",
    "import csv\n",
    "import unittest\n",
    "from collections import defaultdict"
   ]
  },
  {
   "cell_type": "markdown",
   "metadata": {},
   "source": [
    "## Clean Code"
   ]
  },
  {
   "cell_type": "markdown",
   "metadata": {},
   "source": [
    "#### Helper Functions"
   ]
  },
  {
   "cell_type": "code",
   "execution_count": 280,
   "metadata": {
    "collapsed": true
   },
   "outputs": [],
   "source": [
    "def get_xml(valid_xml_file):\n",
    "    '''\n",
    "    Return a xml object with patent data\n",
    "    :param valid_xml_file: a valid xml object\n",
    "    :return the root object of the xml file, ready to parse\n",
    "    '''\n",
    "    tree = etree.parse(valid_xml_file)\n",
    "    root = tree.getroot()\n",
    "    return root"
   ]
  },
  {
   "cell_type": "code",
   "execution_count": 281,
   "metadata": {
    "collapsed": true
   },
   "outputs": [],
   "source": [
    "def process_patent_numbers(raw_patent_num):\n",
    "    '''\n",
    "    Helper function ot transform patent ids into thier final format\n",
    "    :param raw_patent_num: patent number extracted from the raw XML\n",
    "    :return cleaned patent id.\n",
    "    '''\n",
    "    num = re.findall('\\d+', raw_patent_num)[0] #get the just numbers in string form\n",
    "    if num[0].startswith(\"0\"):\n",
    "        num = num[1:]\n",
    "        let = re.findall('[a-zA-Z]+', raw_patent_num) #get the letter prefixes\n",
    "    if let:\n",
    "        let = let[0]#list to string\n",
    "        clean_patent_num = let + num\n",
    "    else:\n",
    "        clean_patent_num = num\n",
    "    return clean_patent_num\n",
    "    "
   ]
  },
  {
   "cell_type": "code",
   "execution_count": 282,
   "metadata": {
    "collapsed": true
   },
   "outputs": [],
   "source": [
    "def process_date(date):\n",
    "    '''\n",
    "    Takes a date formated as 6 numbers and returns it with dashes and days that are 00 replaced with 01\n",
    "    :params date: a date object formatted as 6 numbers\n",
    "    :returns cleaned up date\n",
    "    '''\n",
    "    if date[6:] != \"00\":\n",
    "        date = date[:4]+'-'+date[4:6]+'-'+date[6:]\n",
    "    else:\n",
    "        date = date[:4]+'-'+date[4:6]+'-'+'01'\n",
    "    return date"
   ]
  },
  {
   "cell_type": "markdown",
   "metadata": {},
   "source": [
    "#### Data Functions"
   ]
  },
  {
   "cell_type": "code",
   "execution_count": 175,
   "metadata": {
    "collapsed": true
   },
   "outputs": [],
   "source": [
    "def get_patent(patent):\n",
    "    '''\n",
    "    :params patent: take the xml object representing a patent\n",
    "    :returns a default diction with all the data for the patent table\n",
    "    '''\n",
    "    #publication reference information\n",
    "    patent_data = defaultdict(lambda x : \"\")\n",
    "    pub_ref_data = patent.findall('.//publication-reference/document-id/')\n",
    "    for field in pub_ref_data:\n",
    "        patent_data[field.tag] = field.text\n",
    "    patent_data['doc-number'] = process_patent_numbers(patent_data['doc-number'])\n",
    "    patent_data['date'] = process_date(patent_data['date'])\n",
    "    #abstract\n",
    "    abst = patent.findall('abstract/p')\n",
    "    if abst: #not all patents have abstracts\n",
    "        #this grabs only the first a paragraph and doesn't overwrite it with none if there is a dangling 'None' paragraph\n",
    "        patent_data['abstract'] = abst[0].text\n",
    "    #title\n",
    "    for patent in patents:\n",
    "        title_data = patent.find('.//invention-title')\n",
    "        if title_data is not None:\n",
    "            patent_data['title'] = title_data.text\n",
    "    return patent_data"
   ]
  },
  {
   "cell_type": "markdown",
   "metadata": {},
   "source": [
    "## To Run Process"
   ]
  },
  {
   "cell_type": "code",
   "execution_count": 210,
   "metadata": {
    "collapsed": false
   },
   "outputs": [],
   "source": [
    "patents = get_xml(\"D:/DataBaseUpdate/Development/Data/ipg171212_clean.xml\")"
   ]
  },
  {
   "cell_type": "markdown",
   "metadata": {},
   "source": [
    "## Working Area"
   ]
  },
  {
   "cell_type": "code",
   "execution_count": 182,
   "metadata": {
    "collapsed": false
   },
   "outputs": [
    {
     "data": {
      "text/plain": [
       "<Element us-patent-grant at 0x1a67a808>"
      ]
     },
     "execution_count": 182,
     "metadata": {},
     "output_type": "execute_result"
    }
   ],
   "source": [
    "patents #is an xml-tree object that has all the patents an information\n",
    "patents[104] #is the element that represnts the 104th patent "
   ]
  },
  {
   "cell_type": "code",
   "execution_count": 141,
   "metadata": {
    "collapsed": true
   },
   "outputs": [],
   "source": [
    "#The main highest level grouings are things like 'abstract','figures', and 'us-bibliographic-data-grant\n",
    "#'us-bibliographic-data-grant' has most of the fields we are working with"
   ]
  },
  {
   "cell_type": "code",
   "execution_count": 268,
   "metadata": {
    "collapsed": true
   },
   "outputs": [],
   "source": [
    "patent = patents[10]"
   ]
  },
  {
   "cell_type": "code",
   "execution_count": null,
   "metadata": {
    "collapsed": false
   },
   "outputs": [],
   "source": [
    "for patent in patents:\n",
    "    get_patent(patent)"
   ]
  }
 ],
 "metadata": {
  "anaconda-cloud": {},
  "kernelspec": {
   "display_name": "Python [default]",
   "language": "python",
   "name": "python2"
  },
  "language_info": {
   "codemirror_mode": {
    "name": "ipython",
    "version": 2
   },
   "file_extension": ".py",
   "mimetype": "text/x-python",
   "name": "python",
   "nbconvert_exporter": "python",
   "pygments_lexer": "ipython2",
   "version": "2.7.12"
  }
 },
 "nbformat": 4,
 "nbformat_minor": 1
}
