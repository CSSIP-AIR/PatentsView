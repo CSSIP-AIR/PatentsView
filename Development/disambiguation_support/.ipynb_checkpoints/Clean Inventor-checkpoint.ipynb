{
 "cells": [
  {
   "cell_type": "code",
   "execution_count": 1,
   "metadata": {
    "ExecuteTime": {
     "end_time": "2019-02-28T20:58:40.213594Z",
     "start_time": "2019-02-28T20:58:39.401178Z"
    }
   },
   "outputs": [],
   "source": [
    "import os\n",
    "import re\n",
    "import pandas as pd\n",
    "import csv\n",
    "import sys\n",
    "project_home = os.environ['PACKAGE_HOME']\n",
    "from Development.helpers import general_helpers\n",
    "import configparser\n",
    "config = configparser.ConfigParser()\n",
    "config.read(project_home + '/Development/config.ini')\n",
    "disambig_folder = '{}/disambig_inputs'.format(config['FOLDERS']['WORKING_FOLDER'])\n",
    "\n",
    "regex_keys = [r\"\\,\\sdeceased\",r\"\\,\\sadministrator\", r\"\\,\\sexecutor\", \n",
    "         r\"\\,\\slegal.+\",r\"\\,\\spersonal.+\" ]\n",
    "regex = re.compile(\"(%s)\" % \"|\".join(regex_keys))\n",
    "\n",
    "inp = csv.reader(open('{}/rawinventor.tsv'.format(disambig_folder),'r'),delimiter='\\t')\n",
    "data = []\n",
    "for e, row in enumerate(inp):\n",
    "    row[5] = re.sub(regex, '', row[5])\n",
    "    data.append(data)\n",
    "outp = csv.writer(open('{}/rawinventor.tsv'.format(disambig_folder),'w'),delimiter='\\t')\n",
    "outp.writerows(data)"
   ]
  },
  {
   "cell_type": "code",
   "execution_count": null,
   "metadata": {
    "ExecuteTime": {
     "start_time": "2019-02-28T22:01:25.985Z"
    }
   },
   "outputs": [],
   "source": [
    "outp = csv.writer(open('{}/rawinventor.tsv'.format(disambig_folder),'w'),delimiter='\\t')\n",
    "outp.writerows(data)"
   ]
  },
  {
   "cell_type": "code",
   "execution_count": null,
   "metadata": {},
   "outputs": [],
   "source": []
  }
 ],
 "metadata": {
  "kernelspec": {
   "display_name": "Python 3",
   "language": "python",
   "name": "python3"
  },
  "language_info": {
   "codemirror_mode": {
    "name": "ipython",
    "version": 3
   },
   "file_extension": ".py",
   "mimetype": "text/x-python",
   "name": "python",
   "nbconvert_exporter": "python",
   "pygments_lexer": "ipython3",
   "version": "3.6.7"
  },
  "varInspector": {
   "cols": {
    "lenName": 16,
    "lenType": 16,
    "lenVar": 40
   },
   "kernels_config": {
    "python": {
     "delete_cmd_postfix": "",
     "delete_cmd_prefix": "del ",
     "library": "var_list.py",
     "varRefreshCmd": "print(var_dic_list())"
    },
    "r": {
     "delete_cmd_postfix": ") ",
     "delete_cmd_prefix": "rm(",
     "library": "var_list.r",
     "varRefreshCmd": "cat(var_dic_list()) "
    }
   },
   "types_to_exclude": [
    "module",
    "function",
    "builtin_function_or_method",
    "instance",
    "_Feature"
   ],
   "window_display": false
  }
 },
 "nbformat": 4,
 "nbformat_minor": 2
}
