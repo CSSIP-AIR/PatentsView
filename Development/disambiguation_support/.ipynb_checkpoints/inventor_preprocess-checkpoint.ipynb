{
 "cells": [
  {
   "cell_type": "code",
   "execution_count": null,
   "metadata": {
    "ExecuteTime": {
     "end_time": "2019-02-13T15:51:52.023318Z",
     "start_time": "2019-02-13T15:51:52.007330Z"
    }
   },
   "outputs": [],
   "source": [
    "# Script to identify inventors and add new column\n",
    "# identifiers: \"legal\", \"administrator\", \"executor\", \"representative\", \"deceased\""
   ]
  },
  {
   "cell_type": "code",
   "execution_count": 1,
   "metadata": {
    "ExecuteTime": {
     "end_time": "2019-02-19T22:58:19.394420Z",
     "start_time": "2019-02-19T22:58:18.524871Z"
    }
   },
   "outputs": [],
   "source": [
    "import MySQLdb\n",
    "import os\n",
    "import csv\n",
    "import sys\n",
    "import re\n",
    "sys.path.append('/project/Development')\n",
    "from helpers import general_helpers\n",
    "import configparser\n",
    "import pandas as pd\n",
    "from collections import defaultdict"
   ]
  },
  {
   "cell_type": "code",
   "execution_count": null,
   "metadata": {
    "ExecuteTime": {
     "end_time": "2019-02-19T15:28:09.395543Z",
     "start_time": "2019-02-19T15:28:09.388050Z"
    }
   },
   "outputs": [],
   "source": [
    "# get lists of the rows where last name has \", legal ... | , executor, , administrator, deceased\"\n",
    "#     tables = ['rawinventor']\n",
    "#     identifier_re = ['.+deceased', '.+legal', '.+administrator', '.+executor', '.+personal representative']\n",
    "\n",
    "        "
   ]
  },
  {
   "cell_type": "markdown",
   "metadata": {},
   "source": [
    "## Testing"
   ]
  },
  {
   "cell_type": "code",
   "execution_count": null,
   "metadata": {
    "ExecuteTime": {
     "end_time": "2019-02-19T21:36:41.884257Z",
     "start_time": "2019-02-19T21:36:41.774065Z"
    }
   },
   "outputs": [],
   "source": [
    "# testing for all the different regex identifiers\n",
    "# query to extract all raw inventor for stripping identifiers\n",
    "q_result = db_con.execute(\"select name_last from {} where name_last REGEXP '.+deceased' limit 10\".format(table))\n",
    "results = [r[0] for r in q_result]\n",
    "print(results)\n",
    "\n",
    "\n",
    "# q_result = db_con.execute(\"select name_last from {} where name_last REGEXP '.+administrator' limit 10\".format(table))\n",
    "# results = [r[0] for r in q_result]\n",
    "# print(results)\n",
    "\n",
    "\n",
    "# q_result = db_con.execute(\"select name_last from {} where name_last REGEXP '.+executor.+' limit 10\".format(table))\n",
    "# results = [r[0] for r in q_result]\n",
    "# print(results)\n",
    "\n",
    "# q_result = db_con.execute(\"select name_last from {} where name_last REGEXP '.+legal.+' limit 10\".format(table))\n",
    "# results = [r[0] for r in q_result]\n",
    "# print(results)\n",
    "\n",
    "\n",
    "# q_result = db_con.execute(\"select name_last from {} where name_last REGEXP '.+personal.+' limit 10\".format(table))\n",
    "# results = [r[0] for r in q_result]\n",
    "# print(results)\n",
    "\n"
   ]
  },
  {
   "cell_type": "markdown",
   "metadata": {},
   "source": [
    "### Set up connection + query last_name"
   ]
  },
  {
   "cell_type": "code",
   "execution_count": 2,
   "metadata": {
    "ExecuteTime": {
     "end_time": "2019-02-19T22:59:34.893803Z",
     "start_time": "2019-02-19T22:59:33.504860Z"
    },
    "run_control": {
     "marked": false
    }
   },
   "outputs": [
    {
     "name": "stdout",
     "output_type": "stream",
     "text": [
      "['uuid', 'patent_id', 'inventor_id', 'rawlocation_id', 'name_first', 'name_last', 'sequence', 'rule_47']\n"
     ]
    }
   ],
   "source": [
    "config = configparser.ConfigParser()\n",
    "config.read('/project/Development/config.ini')\n",
    "db_con = general_helpers.connect_to_db(config['DATABASE']['HOST'], config['DATABASE']['USERNAME'], config['DATABASE']['PASSWORD'], config['DATABASE']['NEW_DB'])\n",
    "    \n",
    "table = \"rawinventor\"\n",
    "col_data = db_con.execute(\"show columns from {}\".format(table))\n",
    "cols = [c[0] for c in col_data]\n",
    "print(cols)\n",
    "\n",
    "# query to extract all raw inventor for stripping identifiers\n",
    "# - should be for all rows in rawinventor --- using limits + deceased for testing\n",
    "\n",
    "#q_result = db_con.execute(\"select patent_id, name_last from {} limit 1000 \".format(table))\n",
    "\n",
    "q_result = db_con.execute(\"select patent_id, name_last from {} where name_last REGEXP '.deceased' limit 1000 \".format(table))\n",
    "   \n",
    "   \n",
    "    "
   ]
  },
  {
   "cell_type": "code",
   "execution_count": 3,
   "metadata": {
    "ExecuteTime": {
     "end_time": "2019-02-19T22:59:58.291315Z",
     "start_time": "2019-02-19T22:59:58.265350Z"
    }
   },
   "outputs": [
    {
     "name": "stdout",
     "output_type": "stream",
     "text": [
      "1000\n",
      "1000\n",
      "Lacour, deceased\n"
     ]
    }
   ],
   "source": [
    "##### Process returned query data\n",
    "result_list = [r for r in q_result]\n",
    "     \n",
    "results_pid, results_lname = zip(*result_list)\n",
    "results_pid = list(results_pid)\n",
    "results_lname = list(results_lname)\n",
    "    \n",
    "\n",
    "print(len(results_pid))\n",
    "print(len(results_lname))\n",
    "print(results_lname[0])"
   ]
  },
  {
   "cell_type": "code",
   "execution_count": 1,
   "metadata": {
    "ExecuteTime": {
     "end_time": "2019-02-20T03:26:28.923731Z",
     "start_time": "2019-02-20T03:26:28.890477Z"
    }
   },
   "outputs": [
    {
     "data": {
      "text/plain": [
       "['Jones, deceased', 'Smith, administrator', 'Frank, legal representative']"
      ]
     },
     "execution_count": 1,
     "metadata": {},
     "output_type": "execute_result"
    }
   ],
   "source": [
    "test = ['Jones, deceased', 'Smith, administrator', 'Frank, legal representative']\n",
    "test"
   ]
  },
  {
   "cell_type": "code",
   "execution_count": null,
   "metadata": {},
   "outputs": [],
   "source": [
    "regex_keys = [r\"\\,\\sdeceased\",r\"\\,\\sadministrator\", r\"\\,\\sexecutor\", \n",
    "             r\"\\,\\slegal.+\",r\"\\,\\spersonal.+\" ]\n",
    "regex = re.compile(\"(%s)\" % \"|\".join(map(re.escape, dict.keys())))"
   ]
  },
  {
   "cell_type": "code",
   "execution_count": 4,
   "metadata": {
    "ExecuteTime": {
     "end_time": "2019-02-19T23:00:28.291664Z",
     "start_time": "2019-02-19T23:00:28.270694Z"
    }
   },
   "outputs": [
    {
     "name": "stdout",
     "output_type": "stream",
     "text": [
      "done with decease\n",
      "done with admin\n",
      "done with exec\n",
      "done with legal\n",
      "done with personal\n",
      "['Lacour', 'McArthur', 'Kondo', 'Christie', 'Babicka']\n"
     ]
    }
   ],
   "source": [
    "# Strip identifiers from results_lname\n",
    "\n",
    "clean_decease = [re.sub(r\"\\,\\sdeceased\", \"\", s) for s in results_lname]\n",
    "print(\"done with decease\")\n",
    "clean_admin = [re.sub(r\"\\,\\sadministrator\", \"\", s) for s in clean_decease]\n",
    "print(\"done with admin\")\n",
    "clean_exec = [re.sub(r\"\\,\\sexecutor\", \"\", s) for s in clean_admin]\n",
    "print(\"done with exec\")\n",
    "\n",
    "# rep shows up with legal and personal, capture rep\n",
    "clean_legal = [re.sub(r\"\\,\\slegal.+\", \"\", s) for s in clean_exec]\n",
    "print(\"done with legal\")\n",
    "\n",
    "clean_personal = [re.sub(r\"\\,\\spersonal.+\", \"\", s) for s in clean_legal]\n",
    "print(\"done with personal\")\n",
    "\n",
    "# take out representative line, redundant\n",
    "clean_final = clean_personal\n",
    "#clean_final = [re.sub(r\"\\,\\srepresentative\", \"\", s) for s in clean_personal]\n",
    "#print(\"done with representative\")\n",
    "\n",
    "print(clean_final[0:5])\n",
    "\n",
    "clean_df = pd.DataFrame( {\"patent_id\":results_pid, \"last_name\":clean_final})\n"
   ]
  },
  {
   "cell_type": "code",
   "execution_count": 5,
   "metadata": {
    "ExecuteTime": {
     "end_time": "2019-02-19T23:01:00.531266Z",
     "start_time": "2019-02-19T23:01:00.511276Z"
    }
   },
   "outputs": [
    {
     "name": "stdout",
     "output_type": "stream",
     "text": [
      "  patent_id  last_name\n",
      "0   4639452     Lacour\n",
      "1   4628420   McArthur\n",
      "2   4054458      Kondo\n",
      "3   6014378   Christie\n",
      "4   4085206    Babicka\n",
      "5   5690019     Barker\n",
      "6    PP6401  Shoesmith\n",
      "7   4753810    Sergeev\n",
      "8   6977299     Munson\n",
      "9   4352502    Leonard\n",
      "(1000, 2)\n"
     ]
    }
   ],
   "source": [
    "print(clean_df.head(10))\n",
    "print(clean_df.shape)"
   ]
  },
  {
   "cell_type": "markdown",
   "metadata": {},
   "source": [
    "### Query for specifically deceased inventors - create new column to mark this"
   ]
  },
  {
   "cell_type": "code",
   "execution_count": 6,
   "metadata": {
    "ExecuteTime": {
     "end_time": "2019-02-19T23:01:43.499300Z",
     "start_time": "2019-02-19T23:01:33.473349Z"
    }
   },
   "outputs": [
    {
     "name": "stdout",
     "output_type": "stream",
     "text": [
      "6675\n"
     ]
    }
   ],
   "source": [
    "# second query for all deceased - patent id with it --- to create new column and mark this\n",
    "q_decease = db_con.execute(\"select patent_id, name_last from {} where name_last REGEXP '.+deceased'\".format(table))\n",
    "\n",
    "\n",
    "q_list = [r for r in q_decease]\n",
    "\n",
    "# patent id, last name from tuples\n",
    "dead_pid, dead_lname = zip(*q_list)\n",
    "    \n",
    "dead_pid = list(dead_pid)\n",
    "dead_lname = list(dead_lname)\n",
    "    \n",
    "print(len(dead_pid))\n",
    "#print(dead_lname)\n",
    "\n",
    "# default dict int: deceased = 1, not deceased = 0\n",
    "deceased = defaultdict(int) # default 0\n",
    "\n",
    "# add keys \n",
    "for pat in results_pid:\n",
    "    deceased[pat] = 0\n",
    "    \n",
    "for pat in dead_pid:\n",
    "    deceased[pat] += 1\n",
    "\n",
    "clean_df['deceased_status'] = clean_df['patent_id'].map(deceased)\n",
    "\n",
    "        \n",
    "\n",
    "    "
   ]
  },
  {
   "cell_type": "code",
   "execution_count": 12,
   "metadata": {
    "ExecuteTime": {
     "end_time": "2019-02-19T23:13:30.215355Z",
     "start_time": "2019-02-19T23:13:30.200368Z"
    }
   },
   "outputs": [
    {
     "name": "stdout",
     "output_type": "stream",
     "text": [
      "  patent_id last_name  deceased_status\n",
      "0   4639452    Lacour                1\n",
      "1   4628420  McArthur                1\n",
      "2   4054458     Kondo                1\n",
      "3   6014378  Christie                1\n",
      "4   4085206   Babicka                1\n"
     ]
    }
   ],
   "source": [
    "print(clean_df.head(5))"
   ]
  },
  {
   "cell_type": "markdown",
   "metadata": {},
   "source": [
    "### Create Temp Table - see what data looks like"
   ]
  },
  {
   "cell_type": "code",
   "execution_count": 10,
   "metadata": {
    "ExecuteTime": {
     "end_time": "2019-02-19T23:06:31.897067Z",
     "start_time": "2019-02-19T23:06:31.816371Z"
    }
   },
   "outputs": [],
   "source": [
    "#db_con.execute(\"drop table temp_rawinv_nish\")\n",
    "#clean_df.to_sql(\"temp_rawinv_nish\", con=db_con, index=False)\n"
   ]
  },
  {
   "cell_type": "code",
   "execution_count": 14,
   "metadata": {
    "ExecuteTime": {
     "end_time": "2019-02-19T23:13:56.287310Z",
     "start_time": "2019-02-19T23:13:56.231312Z"
    }
   },
   "outputs": [],
   "source": [
    "check = db_con.execute(\"select * from temp_rawinv_nish\".format(table))\n",
    "\n",
    "#for r in check:\n",
    "#    print(r)"
   ]
  }
 ],
 "metadata": {
  "kernelspec": {
   "display_name": "Python 3",
   "language": "python",
   "name": "python3"
  },
  "language_info": {
   "codemirror_mode": {
    "name": "ipython",
    "version": 3
   },
   "file_extension": ".py",
   "mimetype": "text/x-python",
   "name": "python",
   "nbconvert_exporter": "python",
   "pygments_lexer": "ipython3",
   "version": "3.6.7"
  },
  "varInspector": {
   "cols": {
    "lenName": 16,
    "lenType": 16,
    "lenVar": 40
   },
   "kernels_config": {
    "python": {
     "delete_cmd_postfix": "",
     "delete_cmd_prefix": "del ",
     "library": "var_list.py",
     "varRefreshCmd": "print(var_dic_list())"
    },
    "r": {
     "delete_cmd_postfix": ") ",
     "delete_cmd_prefix": "rm(",
     "library": "var_list.r",
     "varRefreshCmd": "cat(var_dic_list()) "
    }
   },
   "types_to_exclude": [
    "module",
    "function",
    "builtin_function_or_method",
    "instance",
    "_Feature"
   ],
   "window_display": false
  }
 },
 "nbformat": 4,
 "nbformat_minor": 2
}
