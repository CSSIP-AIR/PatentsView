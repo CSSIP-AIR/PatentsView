{
 "cells": [
  {
   "cell_type": "code",
   "execution_count": 2,
   "metadata": {
    "ExecuteTime": {
     "end_time": "2019-02-28T22:45:16.669673Z",
     "start_time": "2019-02-28T22:42:50.650775Z"
    }
   },
   "outputs": [
    {
     "name": "stdout",
     "output_type": "stream",
     "text": [
      "0\n",
      "1000000\n",
      "2000000\n",
      "3000000\n",
      "4000000\n",
      "5000000\n",
      "6000000\n",
      "7000000\n",
      "8000000\n",
      "9000000\n",
      "10000000\n",
      "11000000\n",
      "12000000\n",
      "13000000\n",
      "14000000\n",
      "15000000\n",
      "16000000\n"
     ]
    }
   ],
   "source": [
    "import os\n",
    "import re\n",
    "import pandas as pd\n",
    "import csv\n",
    "import sys\n",
    "project_home = os.environ['PACKAGE_HOME']\n",
    "from Development.helpers import general_helpers\n",
    "import configparser\n",
    "config = configparser.ConfigParser()\n",
    "config.read(project_home + '/Development/config.ini')\n",
    "disambig_folder = '{}/disambig_inputs'.format(config['FOLDERS']['WORKING_FOLDER'])\n",
    "\n",
    "regex_keys = [r\"\\,\\sdeceased\",r\"\\,\\sadministrator\", r\"\\,\\sexecutor\", \n",
    "         r\"\\,\\slegal.+\",r\"\\,\\spersonal.+\" ]\n",
    "regex = re.compile(\"(%s)\" % \"|\".join(regex_keys))\n",
    "\n",
    "inp = csv.reader(open('{}/rawinventor.tsv'.format(disambig_folder),'r'),delimiter='\\t')\n",
    "outp = csv.writer(open('{}/rawinventor_clean.tsv'.format(disambig_folder),'w'),delimiter='\\t')\n",
    "\n",
    "for e, row in enumerate(inp):\n",
    "    if e%1000000 == 0:\n",
    "        print(e)\n",
    "    row[5] = re.sub(regex, '', row[5])\n",
    "    outp.writerow(row)"
   ]
  },
  {
   "cell_type": "code",
   "execution_count": null,
   "metadata": {},
   "outputs": [],
   "source": []
  }
 ],
 "metadata": {
  "kernelspec": {
   "display_name": "Python 3",
   "language": "python",
   "name": "python3"
  },
  "language_info": {
   "codemirror_mode": {
    "name": "ipython",
    "version": 3
   },
   "file_extension": ".py",
   "mimetype": "text/x-python",
   "name": "python",
   "nbconvert_exporter": "python",
   "pygments_lexer": "ipython3",
   "version": "3.6.7"
  },
  "varInspector": {
   "cols": {
    "lenName": 16,
    "lenType": 16,
    "lenVar": 40
   },
   "kernels_config": {
    "python": {
     "delete_cmd_postfix": "",
     "delete_cmd_prefix": "del ",
     "library": "var_list.py",
     "varRefreshCmd": "print(var_dic_list())"
    },
    "r": {
     "delete_cmd_postfix": ") ",
     "delete_cmd_prefix": "rm(",
     "library": "var_list.r",
     "varRefreshCmd": "cat(var_dic_list()) "
    }
   },
   "types_to_exclude": [
    "module",
    "function",
    "builtin_function_or_method",
    "instance",
    "_Feature"
   ],
   "window_display": false
  }
 },
 "nbformat": 4,
 "nbformat_minor": 2
}
