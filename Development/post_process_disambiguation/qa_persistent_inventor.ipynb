{
 "cells": [
  {
   "cell_type": "code",
   "execution_count": 1,
   "metadata": {
    "ExecuteTime": {
     "end_time": "2020-02-14T04:39:56.632101Z",
     "start_time": "2020-02-14T04:39:56.054802Z"
    }
   },
   "outputs": [],
   "source": [
    "import MySQLdb\n",
    "import os\n",
    "import csv\n",
    "import sys\n",
    "import pandas as pd\n",
    "import tqdm\n",
    "import sqlalchemy\n",
    "import re\n",
    "project_home = os.environ['PACKAGE_HOME']\n",
    "from Development.helpers import general_helpers\n",
    "from datetime import datetime\n",
    "import configparser\n",
    "config = configparser.ConfigParser()\n",
    "config.read(project_home + '/Development/config.ini')\n",
    "\n",
    "disambig_folder = '{}/{}'.format(config['FOLDERS']['WORKING_FOLDER'],'disambig_output')\n",
    "new_db = config['DATABASE']['NEW_DB']\n",
    "old_db = config['DATABASE']['OLD_DB']\n",
    "\n",
    "engine = general_helpers.connect_to_db(config['DATABASE']['HOST'], config['DATABASE']['USERNAME'], config['DATABASE']['PASSWORD'], new_db)\n",
    "db_con = engine.connect() \n"
   ]
  },
  {
   "cell_type": "code",
   "execution_count": 5,
   "metadata": {
    "ExecuteTime": {
     "end_time": "2020-02-14T04:41:57.442419Z",
     "start_time": "2020-02-14T04:41:57.438511Z"
    }
   },
   "outputs": [],
   "source": [
    "db = 'patent_20191231'\n",
    "pid_tbl = 'persistent_inventor_disambig'"
   ]
  },
  {
   "cell_type": "code",
   "execution_count": 7,
   "metadata": {
    "ExecuteTime": {
     "end_time": "2020-02-14T04:42:08.030121Z",
     "start_time": "2020-02-14T04:42:08.014883Z"
    }
   },
   "outputs": [
    {
     "name": "stdout",
     "output_type": "stream",
     "text": [
      "['current_rawinventor_id', 'old_rawinventor_id', 'disamb_inventor_id_20170808', 'disamb_inventor_id_20171003', 'disamb_inventor_id_20171226', 'disamb_inventor_id_20180528', 'disamb_inventor_id_20181127', 'disamb_inventor_id_20190312', 'disamb_inventor_id_20190820', 'disamb_inventor_id_20191008', 'disamb_inventor_id_20191231']\n"
     ]
    }
   ],
   "source": [
    "# get columns \n",
    "result = db_con.execute('show columns from {0}.{1}'.format(db, pid_tbl))\n",
    "pid_cols = [x[0] for x in result]\n",
    "print(pid_cols)"
   ]
  },
  {
   "cell_type": "code",
   "execution_count": 8,
   "metadata": {
    "ExecuteTime": {
     "end_time": "2020-02-14T04:42:12.735826Z",
     "start_time": "2020-02-14T04:42:12.714775Z"
    }
   },
   "outputs": [
    {
     "data": {
      "text/plain": [
       "['disamb_inventor_id_20170808',\n",
       " 'disamb_inventor_id_20171003',\n",
       " 'disamb_inventor_id_20171226',\n",
       " 'disamb_inventor_id_20180528',\n",
       " 'disamb_inventor_id_20181127',\n",
       " 'disamb_inventor_id_20190312',\n",
       " 'disamb_inventor_id_20190820',\n",
       " 'disamb_inventor_id_20191008',\n",
       " 'disamb_inventor_id_20191231']"
      ]
     },
     "execution_count": 8,
     "metadata": {},
     "output_type": "execute_result"
    }
   ],
   "source": [
    "disambig_cols = [x for x in pid_cols if x.startswith('disamb')]\n",
    "disambig_cols"
   ]
  },
  {
   "cell_type": "markdown",
   "metadata": {},
   "source": [
    "### QA Metric 1:  Change in inventor ids between data updates"
   ]
  },
  {
   "cell_type": "code",
   "execution_count": 9,
   "metadata": {
    "ExecuteTime": {
     "end_time": "2020-02-14T04:42:16.773774Z",
     "start_time": "2020-02-14T04:42:16.766880Z"
    }
   },
   "outputs": [
    {
     "data": {
      "text/plain": [
       "[('disamb_inventor_id_20170808', 'disamb_inventor_id_20171003'),\n",
       " ('disamb_inventor_id_20171003', 'disamb_inventor_id_20171226'),\n",
       " ('disamb_inventor_id_20171226', 'disamb_inventor_id_20180528'),\n",
       " ('disamb_inventor_id_20180528', 'disamb_inventor_id_20181127'),\n",
       " ('disamb_inventor_id_20181127', 'disamb_inventor_id_20190312'),\n",
       " ('disamb_inventor_id_20190312', 'disamb_inventor_id_20190820'),\n",
       " ('disamb_inventor_id_20190820', 'disamb_inventor_id_20191008'),\n",
       " ('disamb_inventor_id_20191008', 'disamb_inventor_id_20191231')]"
      ]
     },
     "execution_count": 9,
     "metadata": {},
     "output_type": "execute_result"
    }
   ],
   "source": [
    "# get all pairs of counts to generate\n",
    "pairs = []\n",
    "for x in range(0,len(disambig_cols) - 1):\n",
    "    pairs.append((disambig_cols[x], disambig_cols[x + 1]))\n",
    "\n",
    "pairs"
   ]
  },
  {
   "cell_type": "code",
   "execution_count": null,
   "metadata": {
    "ExecuteTime": {
     "start_time": "2020-02-14T04:42:21.092Z"
    }
   },
   "outputs": [
    {
     "name": "stdout",
     "output_type": "stream",
     "text": [
      "select count(*) from patent_20191231.persistent_inventor_disambig where disamb_inventor_id_20170808 <> disamb_inventor_id_20171003 and disamb_inventor_id_20170808 <> '';\n",
      "select count(*) from patent_20191231.persistent_inventor_disambig where disamb_inventor_id_20170808 = disamb_inventor_id_20171003;\n",
      "----------------------------------------------------------------\n",
      "\n",
      "select count(*) from patent_20191231.persistent_inventor_disambig where disamb_inventor_id_20171003 <> disamb_inventor_id_20171226 and disamb_inventor_id_20171003 <> '';\n",
      "select count(*) from patent_20191231.persistent_inventor_disambig where disamb_inventor_id_20171003 = disamb_inventor_id_20171226;\n",
      "----------------------------------------------------------------\n",
      "\n",
      "select count(*) from patent_20191231.persistent_inventor_disambig where disamb_inventor_id_20171226 <> disamb_inventor_id_20180528 and disamb_inventor_id_20171226 <> '';\n",
      "select count(*) from patent_20191231.persistent_inventor_disambig where disamb_inventor_id_20171226 = disamb_inventor_id_20180528;\n",
      "----------------------------------------------------------------\n",
      "\n",
      "select count(*) from patent_20191231.persistent_inventor_disambig where disamb_inventor_id_20180528 <> disamb_inventor_id_20181127 and disamb_inventor_id_20180528 <> '';\n",
      "select count(*) from patent_20191231.persistent_inventor_disambig where disamb_inventor_id_20180528 = disamb_inventor_id_20181127;\n",
      "----------------------------------------------------------------\n",
      "\n",
      "select count(*) from patent_20191231.persistent_inventor_disambig where disamb_inventor_id_20181127 <> disamb_inventor_id_20190312 and disamb_inventor_id_20181127 <> '';\n",
      "select count(*) from patent_20191231.persistent_inventor_disambig where disamb_inventor_id_20181127 = disamb_inventor_id_20190312;\n",
      "----------------------------------------------------------------\n",
      "\n",
      "select count(*) from patent_20191231.persistent_inventor_disambig where disamb_inventor_id_20190312 <> disamb_inventor_id_20190820 and disamb_inventor_id_20190312 <> '';\n",
      "select count(*) from patent_20191231.persistent_inventor_disambig where disamb_inventor_id_20190312 = disamb_inventor_id_20190820;\n"
     ]
    }
   ],
   "source": [
    "changed_inv_counts = []\n",
    "equal_inv_counts = []\n",
    "for p in pairs:\n",
    "    c1 = p[0]\n",
    "    c2 = p[1]\n",
    "    sql_stmt = \"select count(*) from {0}.{1} where {2} <> {3} and {2} <> '';\".format(db,pid_tbl, c1, c2)\n",
    "    print(sql_stmt)\n",
    "    result = db_con.execute(sql_stmt)\n",
    "    res_lst = [x[0] for x in result]\n",
    "    changed_inv_counts.append(res_lst[0])\n",
    "    \n",
    "    sql_stmt = 'select count(*) from {0}.{1} where {2} = {3};'.format(db,pid_tbl, c1, c2)\n",
    "    print(sql_stmt)\n",
    "    result = db_con.execute(sql_stmt)\n",
    "    res_lst = [x[0] for x in result]\n",
    "    equal_inv_counts.append(res_lst[0])\n",
    "    \n",
    "    print('----------------------------------------------------------------\\n')"
   ]
  },
  {
   "cell_type": "code",
   "execution_count": null,
   "metadata": {
    "ExecuteTime": {
     "start_time": "2020-02-14T04:42:22.117Z"
    }
   },
   "outputs": [],
   "source": [
    "ratio_ids_changed_equal = []\n",
    "for x in range(0, len(changed_inv_counts)):\n",
    "    ratio_ce = round(changed_inv_counts[x]/equal_inv_counts[x], 3)\n",
    "    ratio_ids_changed_equal.append(ratio_ce)"
   ]
  },
  {
   "cell_type": "code",
   "execution_count": null,
   "metadata": {
    "ExecuteTime": {
     "start_time": "2020-02-14T04:42:23.576Z"
    }
   },
   "outputs": [],
   "source": [
    "c1 = [p[0].strip('disamb_inventor_id_') for p in pairs]\n",
    "c2 = [p[1].strip('disamb_inventor_id_') for p in pairs]\n",
    "df_dict = {'prev_db': c1, 'new_db':c2, 'n_changed_inv_ids':changed_inv_counts, 'n_same_inv_ids':equal_inv_counts,\n",
    "          'ratio_ids_ce': ratio_ids_changed_equal}\n",
    "df = pd.DataFrame(df_dict)\n",
    "df\n",
    "\n"
   ]
  },
  {
   "cell_type": "code",
   "execution_count": null,
   "metadata": {
    "ExecuteTime": {
     "start_time": "2020-02-14T04:42:24.578Z"
    }
   },
   "outputs": [],
   "source": [
    "df.to_csv('qa1_inv_id_change.csv', index=False)"
   ]
  },
  {
   "cell_type": "code",
   "execution_count": null,
   "metadata": {
    "ExecuteTime": {
     "start_time": "2020-02-14T04:42:27.094Z"
    }
   },
   "outputs": [],
   "source": [
    "for idx, dbupdate in enumerate(disambig_cols):\n",
    "    print(idx)\n",
    "    print(dbupdate)"
   ]
  },
  {
   "cell_type": "markdown",
   "metadata": {},
   "source": [
    "### QA Metric 2: Disappearance of Inventors"
   ]
  },
  {
   "cell_type": "code",
   "execution_count": null,
   "metadata": {
    "ExecuteTime": {
     "end_time": "2020-01-22T21:42:00.431079Z",
     "start_time": "2020-01-22T21:39:15.317392Z"
    }
   },
   "outputs": [],
   "source": [
    "# investigate existing _____ null _____ cases\n",
    "middle_null_counts = []\n",
    "col1 = []\n",
    "col2 = []\n",
    "for p in pairs:\n",
    "    prev_dbupdate = p[0]\n",
    "    new_dbupdaate = p[1]\n",
    "    \n",
    "    nested_query_stmt = \"select concat(patent_id, '|', sequence) as identifier from {0}.{1} where {2} is not null);\".format(db, pid_tbl, prevdbupdate)\n",
    "    \n",
    "    outer_query_stmt = \"select count(*) as identifier from {0}.{1} where {2} is null and concat(patent_id, '|', sequence) in (\".format(db, pid_tbl,newdbupdate)\n",
    "\n",
    "    sql_stmt = outer_query_stmt + nested_query_stmt \n",
    "    print(sql_stmt)\n",
    "\n",
    "    result = db_con.execute(sql_stmt)\n",
    "    res_lst = [x[0] for x in result]\n",
    "    middle_null_counts.append(res_lst[0])\n",
    "    col1.append(prevdbupdate)\n",
    "    col2.append(newdbupdate)\n",
    "\n",
    "    print('----------------------------------------------------------------\\n')\n"
   ]
  },
  {
   "cell_type": "code",
   "execution_count": null,
   "metadata": {
    "ExecuteTime": {
     "end_time": "2020-01-22T21:42:00.590279Z",
     "start_time": "2020-01-22T21:42:00.528401Z"
    }
   },
   "outputs": [],
   "source": [
    "\n",
    "c1 = [x.strip('disamb_inventor_id_') for x in col1]\n",
    "c2 = [x.strip('disamb_inventor_id_') for x in col2]\n",
    "df_dict = {'prev_db': c1, 'new_db':c2, 'n_middlenulls':middle_null_counts}\n",
    "df = pd.DataFrame(df_dict)\n",
    "df\n"
   ]
  },
  {
   "cell_type": "code",
   "execution_count": null,
   "metadata": {},
   "outputs": [],
   "source": [
    "df.to_csv('qa2_inv_disappearance.csv', index=False)"
   ]
  },
  {
   "cell_type": "markdown",
   "metadata": {},
   "source": [
    "### QA Metric 3: Size of the Top n Disambiguated Inventor Clusters"
   ]
  },
  {
   "cell_type": "code",
   "execution_count": null,
   "metadata": {
    "ExecuteTime": {
     "end_time": "2020-01-17T19:27:49.292780Z",
     "start_time": "2020-01-17T19:09:45.917986Z"
    }
   },
   "outputs": [],
   "source": [
    "# 118 seconds\n",
    "full_df = pd.DataFrame()\n",
    "\n",
    "for col in disambig_cols:\n",
    "    stmt = 'select {0}, count(*) as n_cluster from {1}.{2} group by {0} order by n_cluster desc limit 21;'.format(col, db, pid_tbl)\n",
    "    \n",
    "    print(stmt)\n",
    "    \n",
    "    result_qry = db_con.execute(stmt)\n",
    "    \n",
    "    results = [x for x in result_qry]\n",
    "\n",
    "\n",
    "    dbupdate_colname = col.strip('disamb_inventor_id_')\n",
    "    ncluster_dbupdate = 'n_cluster' + '_' + dbupdate_colname\n",
    "\n",
    "    db_inv_id = [r[0] for r in results]\n",
    "    n_inv_cluster = [r[1] for r in results]\n",
    "\n",
    "    # create df\n",
    "    df_dict = {dbupdate_colname: db_inv_id, ncluster_dbupdate: n_inv_cluster}\n",
    "    new_df = pd.DataFrame(df_dict)\n",
    "    new_df\n",
    "\n",
    "    # see full clusters across updates\n",
    "    full_df = pd.concat([full_df, new_df], axis=1)\n",
    "    print(full_df.head())\n",
    "\n",
    "\n"
   ]
  },
  {
   "cell_type": "code",
   "execution_count": null,
   "metadata": {
    "ExecuteTime": {
     "end_time": "2020-01-22T21:52:48.765728Z",
     "start_time": "2020-01-22T21:52:48.712096Z"
    }
   },
   "outputs": [],
   "source": [
    "full_df"
   ]
  },
  {
   "cell_type": "code",
   "execution_count": null,
   "metadata": {
    "ExecuteTime": {
     "end_time": "2020-01-17T19:39:01.145713Z",
     "start_time": "2020-01-17T19:39:01.138354Z"
    }
   },
   "outputs": [],
   "source": [
    "full_df.to_csv('top10inventorclusters_by_db.csv', index=False)"
   ]
  },
  {
   "cell_type": "code",
   "execution_count": null,
   "metadata": {
    "ExecuteTime": {
     "end_time": "2020-01-17T20:47:25.982135Z",
     "start_time": "2020-01-17T20:47:25.974504Z"
    }
   },
   "outputs": [],
   "source": [
    "os.getcwd()"
   ]
  }
 ],
 "metadata": {
  "kernelspec": {
   "display_name": "Python 3",
   "language": "python",
   "name": "python3"
  },
  "language_info": {
   "codemirror_mode": {
    "name": "ipython",
    "version": 3
   },
   "file_extension": ".py",
   "mimetype": "text/x-python",
   "name": "python",
   "nbconvert_exporter": "python",
   "pygments_lexer": "ipython3",
   "version": "3.6.7"
  },
  "varInspector": {
   "cols": {
    "lenName": 16,
    "lenType": 16,
    "lenVar": 40
   },
   "kernels_config": {
    "python": {
     "delete_cmd_postfix": "",
     "delete_cmd_prefix": "del ",
     "library": "var_list.py",
     "varRefreshCmd": "print(var_dic_list())"
    },
    "r": {
     "delete_cmd_postfix": ") ",
     "delete_cmd_prefix": "rm(",
     "library": "var_list.r",
     "varRefreshCmd": "cat(var_dic_list()) "
    }
   },
   "types_to_exclude": [
    "module",
    "function",
    "builtin_function_or_method",
    "instance",
    "_Feature"
   ],
   "window_display": false
  }
 },
 "nbformat": 4,
 "nbformat_minor": 2
}
