{
 "cells": [
  {
   "cell_type": "code",
   "execution_count": 21,
   "metadata": {
    "ExecuteTime": {
     "end_time": "2020-02-14T16:32:18.221890Z",
     "start_time": "2020-02-14T16:32:18.113324Z"
    }
   },
   "outputs": [],
   "source": [
    "import MySQLdb\n",
    "import os\n",
    "import csv\n",
    "import sys\n",
    "import pandas as pd\n",
    "import tqdm\n",
    "import sqlalchemy\n",
    "import re\n",
    "project_home = os.environ['PACKAGE_HOME']\n",
    "from Development.helpers import general_helpers\n",
    "from datetime import datetime\n",
    "import configparser\n",
    "config = configparser.ConfigParser()\n",
    "config.read(project_home + '/Development/config.ini')\n",
    "\n",
    "disambig_folder = '{}/{}'.format(config['FOLDERS']['WORKING_FOLDER'],'disambig_output')\n",
    "new_db = config['DATABASE']['NEW_DB']\n",
    "old_db = config['DATABASE']['OLD_DB']\n",
    "\n",
    "engine = general_helpers.connect_to_db(config['DATABASE']['HOST'], config['DATABASE']['USERNAME'], config['DATABASE']['PASSWORD'], new_db)\n",
    "db_con = engine.connect() \n"
   ]
  },
  {
   "cell_type": "code",
   "execution_count": 22,
   "metadata": {
    "ExecuteTime": {
     "end_time": "2020-02-14T16:32:18.541128Z",
     "start_time": "2020-02-14T16:32:18.537140Z"
    }
   },
   "outputs": [],
   "source": [
    "db = 'patent_20191231'\n",
    "pid_tbl = 'persistent_inventor_disambig'"
   ]
  },
  {
   "cell_type": "code",
   "execution_count": 23,
   "metadata": {
    "ExecuteTime": {
     "end_time": "2020-02-14T16:32:18.985349Z",
     "start_time": "2020-02-14T16:32:18.971483Z"
    }
   },
   "outputs": [
    {
     "name": "stdout",
     "output_type": "stream",
     "text": [
      "['current_rawinventor_id', 'old_rawinventor_id', 'disamb_inventor_id_20170808', 'disamb_inventor_id_20171003', 'disamb_inventor_id_20171226', 'disamb_inventor_id_20180528', 'disamb_inventor_id_20181127', 'disamb_inventor_id_20190312', 'disamb_inventor_id_20190820', 'disamb_inventor_id_20191008', 'disamb_inventor_id_20191231']\n"
     ]
    }
   ],
   "source": [
    "# get columns \n",
    "result = db_con.execute('show columns from {0}.{1}'.format(db, pid_tbl))\n",
    "pid_cols = [x[0] for x in result]\n",
    "print(pid_cols)"
   ]
  },
  {
   "cell_type": "code",
   "execution_count": 24,
   "metadata": {
    "ExecuteTime": {
     "end_time": "2020-02-14T16:32:19.669140Z",
     "start_time": "2020-02-14T16:32:19.663059Z"
    }
   },
   "outputs": [
    {
     "data": {
      "text/plain": [
       "['disamb_inventor_id_20170808',\n",
       " 'disamb_inventor_id_20171003',\n",
       " 'disamb_inventor_id_20171226',\n",
       " 'disamb_inventor_id_20180528',\n",
       " 'disamb_inventor_id_20181127',\n",
       " 'disamb_inventor_id_20190312',\n",
       " 'disamb_inventor_id_20190820',\n",
       " 'disamb_inventor_id_20191008',\n",
       " 'disamb_inventor_id_20191231']"
      ]
     },
     "execution_count": 24,
     "metadata": {},
     "output_type": "execute_result"
    }
   ],
   "source": [
    "disambig_cols = [x for x in pid_cols if x.startswith('disamb')]\n",
    "disambig_cols"
   ]
  },
  {
   "cell_type": "markdown",
   "metadata": {},
   "source": [
    "### QA Metric 1:  Change in inventor ids between data updates"
   ]
  },
  {
   "cell_type": "code",
   "execution_count": 25,
   "metadata": {
    "ExecuteTime": {
     "end_time": "2020-02-14T16:32:22.027155Z",
     "start_time": "2020-02-14T16:32:22.016567Z"
    }
   },
   "outputs": [
    {
     "data": {
      "text/plain": [
       "[('disamb_inventor_id_20170808', 'disamb_inventor_id_20171003'),\n",
       " ('disamb_inventor_id_20171003', 'disamb_inventor_id_20171226'),\n",
       " ('disamb_inventor_id_20171226', 'disamb_inventor_id_20180528'),\n",
       " ('disamb_inventor_id_20180528', 'disamb_inventor_id_20181127'),\n",
       " ('disamb_inventor_id_20181127', 'disamb_inventor_id_20190312'),\n",
       " ('disamb_inventor_id_20190312', 'disamb_inventor_id_20190820'),\n",
       " ('disamb_inventor_id_20190820', 'disamb_inventor_id_20191008'),\n",
       " ('disamb_inventor_id_20191008', 'disamb_inventor_id_20191231')]"
      ]
     },
     "execution_count": 25,
     "metadata": {},
     "output_type": "execute_result"
    }
   ],
   "source": [
    "# get all pairs of counts to generate\n",
    "pairs = []\n",
    "for x in range(0,len(disambig_cols) - 1):\n",
    "    pairs.append((disambig_cols[x], disambig_cols[x + 1]))\n",
    "\n",
    "pairs"
   ]
  },
  {
   "cell_type": "code",
   "execution_count": 26,
   "metadata": {
    "ExecuteTime": {
     "end_time": "2020-02-14T16:34:46.924324Z",
     "start_time": "2020-02-14T16:32:26.199977Z"
    }
   },
   "outputs": [
    {
     "name": "stdout",
     "output_type": "stream",
     "text": [
      "select count(*) from patent_20191231.persistent_inventor_disambig where disamb_inventor_id_20170808 <> disamb_inventor_id_20171003 and disamb_inventor_id_20170808 <> '';\n",
      "select count(*) from patent_20191231.persistent_inventor_disambig where disamb_inventor_id_20170808 = disamb_inventor_id_20171003;\n",
      "----------------------------------------------------------------\n",
      "\n",
      "select count(*) from patent_20191231.persistent_inventor_disambig where disamb_inventor_id_20171003 <> disamb_inventor_id_20171226 and disamb_inventor_id_20171003 <> '';\n",
      "select count(*) from patent_20191231.persistent_inventor_disambig where disamb_inventor_id_20171003 = disamb_inventor_id_20171226;\n",
      "----------------------------------------------------------------\n",
      "\n",
      "select count(*) from patent_20191231.persistent_inventor_disambig where disamb_inventor_id_20171226 <> disamb_inventor_id_20180528 and disamb_inventor_id_20171226 <> '';\n",
      "select count(*) from patent_20191231.persistent_inventor_disambig where disamb_inventor_id_20171226 = disamb_inventor_id_20180528;\n",
      "----------------------------------------------------------------\n",
      "\n",
      "select count(*) from patent_20191231.persistent_inventor_disambig where disamb_inventor_id_20180528 <> disamb_inventor_id_20181127 and disamb_inventor_id_20180528 <> '';\n",
      "select count(*) from patent_20191231.persistent_inventor_disambig where disamb_inventor_id_20180528 = disamb_inventor_id_20181127;\n",
      "----------------------------------------------------------------\n",
      "\n",
      "select count(*) from patent_20191231.persistent_inventor_disambig where disamb_inventor_id_20181127 <> disamb_inventor_id_20190312 and disamb_inventor_id_20181127 <> '';\n",
      "select count(*) from patent_20191231.persistent_inventor_disambig where disamb_inventor_id_20181127 = disamb_inventor_id_20190312;\n",
      "----------------------------------------------------------------\n",
      "\n",
      "select count(*) from patent_20191231.persistent_inventor_disambig where disamb_inventor_id_20190312 <> disamb_inventor_id_20190820 and disamb_inventor_id_20190312 <> '';\n",
      "select count(*) from patent_20191231.persistent_inventor_disambig where disamb_inventor_id_20190312 = disamb_inventor_id_20190820;\n",
      "----------------------------------------------------------------\n",
      "\n",
      "select count(*) from patent_20191231.persistent_inventor_disambig where disamb_inventor_id_20190820 <> disamb_inventor_id_20191008 and disamb_inventor_id_20190820 <> '';\n",
      "select count(*) from patent_20191231.persistent_inventor_disambig where disamb_inventor_id_20190820 = disamb_inventor_id_20191008;\n",
      "----------------------------------------------------------------\n",
      "\n",
      "select count(*) from patent_20191231.persistent_inventor_disambig where disamb_inventor_id_20191008 <> disamb_inventor_id_20191231 and disamb_inventor_id_20191008 <> '';\n",
      "select count(*) from patent_20191231.persistent_inventor_disambig where disamb_inventor_id_20191008 = disamb_inventor_id_20191231;\n",
      "----------------------------------------------------------------\n",
      "\n"
     ]
    }
   ],
   "source": [
    "changed_inv_counts = []\n",
    "equal_inv_counts = []\n",
    "for p in pairs:\n",
    "    c1 = p[0]\n",
    "    c2 = p[1]\n",
    "    sql_stmt = \"select count(*) from {0}.{1} where {2} <> {3} and {2} <> '';\".format(db,pid_tbl, c1, c2)\n",
    "    print(sql_stmt)\n",
    "    result = db_con.execute(sql_stmt)\n",
    "    res_lst = [x[0] for x in result]\n",
    "    changed_inv_counts.append(res_lst[0])\n",
    "    \n",
    "    sql_stmt = 'select count(*) from {0}.{1} where {2} = {3};'.format(db,pid_tbl, c1, c2)\n",
    "    print(sql_stmt)\n",
    "    result = db_con.execute(sql_stmt)\n",
    "    res_lst = [x[0] for x in result]\n",
    "    equal_inv_counts.append(res_lst[0])\n",
    "    \n",
    "    print('----------------------------------------------------------------\\n')"
   ]
  },
  {
   "cell_type": "code",
   "execution_count": 27,
   "metadata": {
    "ExecuteTime": {
     "end_time": "2020-02-14T16:34:46.983359Z",
     "start_time": "2020-02-14T16:34:46.976491Z"
    }
   },
   "outputs": [],
   "source": [
    "ratio_ids_changed_equal = []\n",
    "for x in range(0, len(changed_inv_counts)):\n",
    "    ratio_ce = round(changed_inv_counts[x]/equal_inv_counts[x], 3)\n",
    "    ratio_ids_changed_equal.append(ratio_ce)"
   ]
  },
  {
   "cell_type": "code",
   "execution_count": 12,
   "metadata": {
    "ExecuteTime": {
     "end_time": "2020-02-14T04:47:29.544061Z",
     "start_time": "2020-02-14T04:47:29.520314Z"
    }
   },
   "outputs": [
    {
     "data": {
      "text/html": [
       "<div>\n",
       "<style scoped>\n",
       "    .dataframe tbody tr th:only-of-type {\n",
       "        vertical-align: middle;\n",
       "    }\n",
       "\n",
       "    .dataframe tbody tr th {\n",
       "        vertical-align: top;\n",
       "    }\n",
       "\n",
       "    .dataframe thead th {\n",
       "        text-align: right;\n",
       "    }\n",
       "</style>\n",
       "<table border=\"1\" class=\"dataframe\">\n",
       "  <thead>\n",
       "    <tr style=\"text-align: right;\">\n",
       "      <th></th>\n",
       "      <th>prev_db</th>\n",
       "      <th>new_db</th>\n",
       "      <th>n_changed_inv_ids</th>\n",
       "      <th>n_same_inv_ids</th>\n",
       "      <th>ratio_ids_ce</th>\n",
       "    </tr>\n",
       "  </thead>\n",
       "  <tbody>\n",
       "    <tr>\n",
       "      <th>0</th>\n",
       "      <td>20170808</td>\n",
       "      <td>20171003</td>\n",
       "      <td>926330</td>\n",
       "      <td>16347040</td>\n",
       "      <td>0.057</td>\n",
       "    </tr>\n",
       "    <tr>\n",
       "      <th>1</th>\n",
       "      <td>20171003</td>\n",
       "      <td>20171226</td>\n",
       "      <td>1819831</td>\n",
       "      <td>15389206</td>\n",
       "      <td>0.118</td>\n",
       "    </tr>\n",
       "    <tr>\n",
       "      <th>2</th>\n",
       "      <td>20171226</td>\n",
       "      <td>20180528</td>\n",
       "      <td>1768404</td>\n",
       "      <td>15242611</td>\n",
       "      <td>0.116</td>\n",
       "    </tr>\n",
       "    <tr>\n",
       "      <th>3</th>\n",
       "      <td>20180528</td>\n",
       "      <td>20181127</td>\n",
       "      <td>4077845</td>\n",
       "      <td>12864964</td>\n",
       "      <td>0.317</td>\n",
       "    </tr>\n",
       "    <tr>\n",
       "      <th>4</th>\n",
       "      <td>20181127</td>\n",
       "      <td>20190312</td>\n",
       "      <td>4609633</td>\n",
       "      <td>12544169</td>\n",
       "      <td>0.367</td>\n",
       "    </tr>\n",
       "    <tr>\n",
       "      <th>5</th>\n",
       "      <td>20190312</td>\n",
       "      <td>20190820</td>\n",
       "      <td>689637</td>\n",
       "      <td>16244416</td>\n",
       "      <td>0.042</td>\n",
       "    </tr>\n",
       "    <tr>\n",
       "      <th>6</th>\n",
       "      <td>20190820</td>\n",
       "      <td>20191008</td>\n",
       "      <td>586740</td>\n",
       "      <td>16683681</td>\n",
       "      <td>0.035</td>\n",
       "    </tr>\n",
       "    <tr>\n",
       "      <th>7</th>\n",
       "      <td>20191008</td>\n",
       "      <td>20191231</td>\n",
       "      <td>605575</td>\n",
       "      <td>16560029</td>\n",
       "      <td>0.037</td>\n",
       "    </tr>\n",
       "  </tbody>\n",
       "</table>\n",
       "</div>"
      ],
      "text/plain": [
       "    prev_db    new_db  n_changed_inv_ids  n_same_inv_ids  ratio_ids_ce\n",
       "0  20170808  20171003             926330        16347040         0.057\n",
       "1  20171003  20171226            1819831        15389206         0.118\n",
       "2  20171226  20180528            1768404        15242611         0.116\n",
       "3  20180528  20181127            4077845        12864964         0.317\n",
       "4  20181127  20190312            4609633        12544169         0.367\n",
       "5  20190312  20190820             689637        16244416         0.042\n",
       "6  20190820  20191008             586740        16683681         0.035\n",
       "7  20191008  20191231             605575        16560029         0.037"
      ]
     },
     "execution_count": 12,
     "metadata": {},
     "output_type": "execute_result"
    }
   ],
   "source": [
    "c1 = [p[0].strip('disamb_inventor_id_') for p in pairs]\n",
    "c2 = [p[1].strip('disamb_inventor_id_') for p in pairs]\n",
    "df_dict = {'prev_db': c1, 'new_db':c2, 'n_changed_inv_ids':changed_inv_counts, 'n_same_inv_ids':equal_inv_counts,\n",
    "          'ratio_ids_ce': ratio_ids_changed_equal}\n",
    "df = pd.DataFrame(df_dict)\n",
    "df\n",
    "\n"
   ]
  },
  {
   "cell_type": "code",
   "execution_count": 15,
   "metadata": {
    "ExecuteTime": {
     "end_time": "2020-02-14T04:48:08.917327Z",
     "start_time": "2020-02-14T04:48:08.911279Z"
    }
   },
   "outputs": [],
   "source": [
    "df.to_csv('qa1_inv_id_change.csv', index=False)"
   ]
  },
  {
   "cell_type": "markdown",
   "metadata": {},
   "source": [
    "### QA Metric 2: Disappearance of Inventors"
   ]
  },
  {
   "cell_type": "code",
   "execution_count": 30,
   "metadata": {
    "ExecuteTime": {
     "end_time": "2020-02-14T16:38:08.516150Z",
     "start_time": "2020-02-14T16:37:25.283828Z"
    }
   },
   "outputs": [
    {
     "name": "stdout",
     "output_type": "stream",
     "text": [
      "select count(*) as identifier from patent_20191231.persistent_inventor_disambig_type_2 where disamb_inventor_id_20171003 is null and concat(patent_id, '|', sequence) in (select concat(patent_id, '|', sequence) as identifier from patent_20191231.persistent_inventor_disambig_type_2 where disamb_inventor_id_20170808 is not null);\n",
      "----------------------------------------------------------------\n",
      "\n",
      "select count(*) as identifier from patent_20191231.persistent_inventor_disambig_type_2 where disamb_inventor_id_20171226 is null and concat(patent_id, '|', sequence) in (select concat(patent_id, '|', sequence) as identifier from patent_20191231.persistent_inventor_disambig_type_2 where disamb_inventor_id_20171003 is not null);\n",
      "----------------------------------------------------------------\n",
      "\n",
      "select count(*) as identifier from patent_20191231.persistent_inventor_disambig_type_2 where disamb_inventor_id_20180528 is null and concat(patent_id, '|', sequence) in (select concat(patent_id, '|', sequence) as identifier from patent_20191231.persistent_inventor_disambig_type_2 where disamb_inventor_id_20171226 is not null);\n",
      "----------------------------------------------------------------\n",
      "\n",
      "select count(*) as identifier from patent_20191231.persistent_inventor_disambig_type_2 where disamb_inventor_id_20181127 is null and concat(patent_id, '|', sequence) in (select concat(patent_id, '|', sequence) as identifier from patent_20191231.persistent_inventor_disambig_type_2 where disamb_inventor_id_20180528 is not null);\n",
      "----------------------------------------------------------------\n",
      "\n",
      "select count(*) as identifier from patent_20191231.persistent_inventor_disambig_type_2 where disamb_inventor_id_20190312 is null and concat(patent_id, '|', sequence) in (select concat(patent_id, '|', sequence) as identifier from patent_20191231.persistent_inventor_disambig_type_2 where disamb_inventor_id_20181127 is not null);\n",
      "----------------------------------------------------------------\n",
      "\n",
      "select count(*) as identifier from patent_20191231.persistent_inventor_disambig_type_2 where disamb_inventor_id_20190820 is null and concat(patent_id, '|', sequence) in (select concat(patent_id, '|', sequence) as identifier from patent_20191231.persistent_inventor_disambig_type_2 where disamb_inventor_id_20190312 is not null);\n",
      "----------------------------------------------------------------\n",
      "\n",
      "select count(*) as identifier from patent_20191231.persistent_inventor_disambig_type_2 where disamb_inventor_id_20191008 is null and concat(patent_id, '|', sequence) in (select concat(patent_id, '|', sequence) as identifier from patent_20191231.persistent_inventor_disambig_type_2 where disamb_inventor_id_20190820 is not null);\n",
      "----------------------------------------------------------------\n",
      "\n"
     ]
    }
   ],
   "source": [
    "# investigate existing _____ null _____ cases\n",
    "middle_null_counts = []\n",
    "col1 = []\n",
    "col2 = []\n",
    "pid_tbl = 'persistent_inventor_disambig_type_2'\n",
    "for p in pairs[:-1]:\n",
    "    prevdbupdate = p[0]\n",
    "    newdbupdate = p[1]\n",
    "    \n",
    "    nested_query_stmt = \"select concat(patent_id, '|', sequence) as identifier from {0}.{1} where {2} is not null);\".format(db, pid_tbl, prevdbupdate)\n",
    "    \n",
    "    outer_query_stmt = \"select count(*) as identifier from {0}.{1} where {2} is null and concat(patent_id, '|', sequence) in (\".format(db, pid_tbl,newdbupdate)\n",
    "\n",
    "    sql_stmt = outer_query_stmt + nested_query_stmt \n",
    "    print(sql_stmt)\n",
    "\n",
    "    result = db_con.execute(sql_stmt)\n",
    "    res_lst = [x[0] for x in result]\n",
    "    middle_null_counts.append(res_lst[0])\n",
    "    col1.append(prevdbupdate)\n",
    "    col2.append(newdbupdate)\n",
    "\n",
    "    print('----------------------------------------------------------------\\n')\n"
   ]
  },
  {
   "cell_type": "code",
   "execution_count": 33,
   "metadata": {
    "ExecuteTime": {
     "end_time": "2020-02-14T16:38:30.014714Z",
     "start_time": "2020-02-14T16:38:29.998376Z"
    }
   },
   "outputs": [
    {
     "data": {
      "text/html": [
       "<div>\n",
       "<style scoped>\n",
       "    .dataframe tbody tr th:only-of-type {\n",
       "        vertical-align: middle;\n",
       "    }\n",
       "\n",
       "    .dataframe tbody tr th {\n",
       "        vertical-align: top;\n",
       "    }\n",
       "\n",
       "    .dataframe thead th {\n",
       "        text-align: right;\n",
       "    }\n",
       "</style>\n",
       "<table border=\"1\" class=\"dataframe\">\n",
       "  <thead>\n",
       "    <tr style=\"text-align: right;\">\n",
       "      <th></th>\n",
       "      <th>prev_db</th>\n",
       "      <th>new_db</th>\n",
       "      <th>n_middlenulls</th>\n",
       "    </tr>\n",
       "  </thead>\n",
       "  <tbody>\n",
       "    <tr>\n",
       "      <th>0</th>\n",
       "      <td>20170808</td>\n",
       "      <td>20171003</td>\n",
       "      <td>0</td>\n",
       "    </tr>\n",
       "    <tr>\n",
       "      <th>1</th>\n",
       "      <td>20171003</td>\n",
       "      <td>20171226</td>\n",
       "      <td>0</td>\n",
       "    </tr>\n",
       "    <tr>\n",
       "      <th>2</th>\n",
       "      <td>20171226</td>\n",
       "      <td>20180528</td>\n",
       "      <td>0</td>\n",
       "    </tr>\n",
       "    <tr>\n",
       "      <th>3</th>\n",
       "      <td>20180528</td>\n",
       "      <td>20181127</td>\n",
       "      <td>0</td>\n",
       "    </tr>\n",
       "    <tr>\n",
       "      <th>4</th>\n",
       "      <td>20181127</td>\n",
       "      <td>20190312</td>\n",
       "      <td>0</td>\n",
       "    </tr>\n",
       "    <tr>\n",
       "      <th>5</th>\n",
       "      <td>20190312</td>\n",
       "      <td>20190820</td>\n",
       "      <td>0</td>\n",
       "    </tr>\n",
       "    <tr>\n",
       "      <th>6</th>\n",
       "      <td>20190820</td>\n",
       "      <td>20191008</td>\n",
       "      <td>0</td>\n",
       "    </tr>\n",
       "  </tbody>\n",
       "</table>\n",
       "</div>"
      ],
      "text/plain": [
       "    prev_db    new_db  n_middlenulls\n",
       "0  20170808  20171003              0\n",
       "1  20171003  20171226              0\n",
       "2  20171226  20180528              0\n",
       "3  20180528  20181127              0\n",
       "4  20181127  20190312              0\n",
       "5  20190312  20190820              0\n",
       "6  20190820  20191008              0"
      ]
     },
     "execution_count": 33,
     "metadata": {},
     "output_type": "execute_result"
    }
   ],
   "source": [
    "\n",
    "c1 = [x.strip('disamb_inventor_id_') for x in col1]\n",
    "c2 = [x.strip('disamb_inventor_id_') for x in col2]\n",
    "df_dict = {'prev_db': c1, 'new_db':c2, 'n_middlenulls':middle_null_counts}\n",
    "df = pd.DataFrame(df_dict)\n",
    "df\n"
   ]
  },
  {
   "cell_type": "code",
   "execution_count": 34,
   "metadata": {
    "ExecuteTime": {
     "end_time": "2020-02-14T16:38:33.160378Z",
     "start_time": "2020-02-14T16:38:33.153050Z"
    }
   },
   "outputs": [],
   "source": [
    "df.to_csv('qa2_inv_disappearance.csv', index=False)"
   ]
  },
  {
   "cell_type": "markdown",
   "metadata": {},
   "source": [
    "### QA Metric 3: Size of the Top n Disambiguated Inventor Clusters"
   ]
  },
  {
   "cell_type": "code",
   "execution_count": null,
   "metadata": {
    "ExecuteTime": {
     "start_time": "2020-02-14T16:42:13.251Z"
    }
   },
   "outputs": [
    {
     "name": "stdout",
     "output_type": "stream",
     "text": [
      "select disamb_inventor_id_20170808, count(*) as n_cluster from patent_20191231.persistent_inventor_disambig_type_2 group by disamb_inventor_id_20170808 order by n_cluster desc limit 21;\n",
      "    20170808  n_cluster_20170808\n",
      "0                        2206122\n",
      "1  3967981-1                5046\n",
      "2  5329616-1                4772\n",
      "3  4632910-2                3847\n",
      "4  4039851-2                3397\n",
      "select disamb_inventor_id_20171003, count(*) as n_cluster from patent_20191231.persistent_inventor_disambig_type_2 group by disamb_inventor_id_20171003 order by n_cluster desc limit 21;\n"
     ]
    }
   ],
   "source": [
    "# 118 seconds\n",
    "full_df = pd.DataFrame()\n",
    "\n",
    "for col in disambig_cols:\n",
    "    stmt = 'select {0}, count(*) as n_cluster from {1}.{2} group by {0} order by n_cluster desc limit 21;'.format(col, db, pid_tbl)\n",
    "    \n",
    "    print(stmt)\n",
    "    \n",
    "    result_qry = db_con.execute(stmt)\n",
    "    \n",
    "    results = [x for x in result_qry]\n",
    "\n",
    "\n",
    "    dbupdate_colname = col.strip('disamb_inventor_id_')\n",
    "    ncluster_dbupdate = 'n_cluster' + '_' + dbupdate_colname\n",
    "\n",
    "    db_inv_id = [r[0] for r in results]\n",
    "    n_inv_cluster = [r[1] for r in results]\n",
    "\n",
    "    # create df\n",
    "    df_dict = {dbupdate_colname: db_inv_id, ncluster_dbupdate: n_inv_cluster}\n",
    "    new_df = pd.DataFrame(df_dict)\n",
    "    new_df\n",
    "\n",
    "    # see full clusters across updates\n",
    "    full_df = pd.concat([full_df, new_df], axis=1)\n",
    "    print(full_df.head())\n",
    "\n",
    "\n"
   ]
  },
  {
   "cell_type": "code",
   "execution_count": null,
   "metadata": {
    "ExecuteTime": {
     "end_time": "2020-01-22T21:52:48.765728Z",
     "start_time": "2020-01-22T21:52:48.712096Z"
    }
   },
   "outputs": [],
   "source": [
    "full_df"
   ]
  },
  {
   "cell_type": "code",
   "execution_count": null,
   "metadata": {
    "ExecuteTime": {
     "end_time": "2020-01-17T19:39:01.145713Z",
     "start_time": "2020-01-17T19:39:01.138354Z"
    }
   },
   "outputs": [],
   "source": [
    "full_df.to_csv('top10inventorclusters_by_db.csv', index=False)"
   ]
  },
  {
   "cell_type": "code",
   "execution_count": null,
   "metadata": {
    "ExecuteTime": {
     "end_time": "2020-01-17T20:47:25.982135Z",
     "start_time": "2020-01-17T20:47:25.974504Z"
    }
   },
   "outputs": [],
   "source": [
    "os.getcwd()"
   ]
  }
 ],
 "metadata": {
  "kernelspec": {
   "display_name": "Python 3",
   "language": "python",
   "name": "python3"
  },
  "language_info": {
   "codemirror_mode": {
    "name": "ipython",
    "version": 3
   },
   "file_extension": ".py",
   "mimetype": "text/x-python",
   "name": "python",
   "nbconvert_exporter": "python",
   "pygments_lexer": "ipython3",
   "version": "3.6.7"
  },
  "varInspector": {
   "cols": {
    "lenName": 16,
    "lenType": 16,
    "lenVar": 40
   },
   "kernels_config": {
    "python": {
     "delete_cmd_postfix": "",
     "delete_cmd_prefix": "del ",
     "library": "var_list.py",
     "varRefreshCmd": "print(var_dic_list())"
    },
    "r": {
     "delete_cmd_postfix": ") ",
     "delete_cmd_prefix": "rm(",
     "library": "var_list.r",
     "varRefreshCmd": "cat(var_dic_list()) "
    }
   },
   "types_to_exclude": [
    "module",
    "function",
    "builtin_function_or_method",
    "instance",
    "_Feature"
   ],
   "window_display": false
  }
 },
 "nbformat": 4,
 "nbformat_minor": 2
}
