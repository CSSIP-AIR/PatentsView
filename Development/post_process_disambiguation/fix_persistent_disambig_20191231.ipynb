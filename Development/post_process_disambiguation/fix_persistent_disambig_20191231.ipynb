{
 "cells": [
  {
   "cell_type": "code",
   "execution_count": 1,
   "metadata": {
    "ExecuteTime": {
     "end_time": "2020-01-24T21:44:24.877364Z",
     "start_time": "2020-01-24T21:44:24.052203Z"
    }
   },
   "outputs": [],
   "source": [
    "import sys\n",
    "import os\n",
    "import pandas as pd\n",
    "from sqlalchemy import create_engine\n",
    "from warnings import filterwarnings\n",
    "import csv\n",
    "import re, os, random, string, codecs\n",
    "import sys\n",
    "from collections import Counter, defaultdict\n",
    "import time\n",
    "import tqdm\n",
    "project_home = os.environ['PACKAGE_HOME']\n",
    "from Development.helpers import general_helpers"
   ]
  },
  {
   "cell_type": "code",
   "execution_count": 2,
   "metadata": {
    "ExecuteTime": {
     "end_time": "2020-01-24T21:44:24.925780Z",
     "start_time": "2020-01-24T21:44:24.882287Z"
    }
   },
   "outputs": [
    {
     "name": "stdout",
     "output_type": "stream",
     "text": [
      "/pipeline_datadir/upload_20191231/disambig_output\n",
      "patent_20191008 | patent_20191231\n"
     ]
    }
   ],
   "source": [
    "import configparser\n",
    "\n",
    "config = configparser.ConfigParser()\n",
    "config.read(project_home + '/Development/config.ini')\n",
    "\n",
    "db_con = general_helpers.connect_to_db(config['DATABASE']['HOST'], config['DATABASE']['USERNAME'],\n",
    "                                       config['DATABASE']['PASSWORD'], config['DATABASE']['NEW_DB'])\n",
    "\n",
    "db_folder = 'upload_20191231'\n",
    "disambig_folder = \"{}{}/disambig_output\".format(config['FOLDERS']['WORKING_FOLDER'], db_folder)\n",
    "\n",
    "\n",
    "print(disambig_folder)\n",
    "old_db = config['DATABASE']['OLD_DB']\n",
    "new_db = config['DATABASE']['NEW_DB']\n",
    "print(old_db, \"|\", new_db)"
   ]
  },
  {
   "cell_type": "code",
   "execution_count": 3,
   "metadata": {
    "ExecuteTime": {
     "end_time": "2020-01-24T21:44:24.937136Z",
     "start_time": "2020-01-24T21:44:24.932123Z"
    }
   },
   "outputs": [],
   "source": [
    "# 1. create long format persistent_inventor_disambig table - only run once\n",
    "# create_stmt = \"create table {0}.persistent_inventor_disambig_long (`id` int(11) unsigned NOT NULL AUTO_INCREMENT, `uuid` VARCHAR(36), `database_update` VARCHAR(32), `inventor_id` VARCHAR(36), primary key (`id`));\".format(new_db)\n",
    "# print(create_stmt)\n",
    "\n",
    "# db_con.execute(create_stmt)"
   ]
  },
  {
   "cell_type": "code",
   "execution_count": 4,
   "metadata": {
    "ExecuteTime": {
     "end_time": "2020-01-24T21:44:24.987801Z",
     "start_time": "2020-01-24T21:44:24.939878Z"
    }
   },
   "outputs": [],
   "source": [
    "# 2. create output file\n",
    "outfile_name = disambig_folder +'/persistent_inventor_long.tsv'\n",
    "header = ['uuid', 'database_update', 'inventor_id']\n",
    "header_df = pd.DataFrame(columns = header)\n",
    "header_df.to_csv(outfile_name, index=False, header=True, sep='\\t')"
   ]
  },
  {
   "cell_type": "code",
   "execution_count": 5,
   "metadata": {
    "ExecuteTime": {
     "end_time": "2020-01-24T21:44:25.038848Z",
     "start_time": "2020-01-24T21:44:24.990774Z"
    }
   },
   "outputs": [
    {
     "name": "stdout",
     "output_type": "stream",
     "text": [
      "['disamb_inventor_id_20170808', 'disamb_inventor_id_20171003', 'disamb_inventor_id_20171226', 'disamb_inventor_id_20180528', 'disamb_inventor_id_20181127', 'disamb_inventor_id_20190312', 'disamb_inventor_id_20190820', 'disamb_inventor_id_20191008']\n",
      "######################################################################\n",
      "\n",
      "['uuid', 'disamb_inventor_id_20170808', 'disamb_inventor_id_20171003', 'disamb_inventor_id_20171226', 'disamb_inventor_id_20180528', 'disamb_inventor_id_20181127', 'disamb_inventor_id_20190312', 'disamb_inventor_id_20190820', 'disamb_inventor_id_20191008']\n"
     ]
    }
   ],
   "source": [
    "# 2. get disambig cols needed\n",
    "result = db_con.execute(\"select column_name from information_schema.columns where table_schema = '{0}' and table_name = '{1}'\".format(new_db, 'persistent_inventor_disambig_type_2'))\n",
    "pid_t2_cols = [r[0] for r in result]\n",
    "disambig_cols = [x for x in pid_t2_cols if x.startswith('disamb')]\n",
    "print(disambig_cols)\n",
    "print('######################################################################\\n')\n",
    "wide_pid_cols = ['uuid'] + disambig_cols\n",
    "print(wide_pid_cols)"
   ]
  },
  {
   "cell_type": "code",
   "execution_count": 6,
   "metadata": {
    "ExecuteTime": {
     "end_time": "2020-01-24T21:44:25.045979Z",
     "start_time": "2020-01-24T21:44:25.041290Z"
    }
   },
   "outputs": [
    {
     "name": "stdout",
     "output_type": "stream",
     "text": [
      "select ri.uuid, pid_t2.disamb_inventor_id_20170808, pid_t2.disamb_inventor_id_20171003, pid_t2.disamb_inventor_id_20171226, pid_t2.disamb_inventor_id_20180528, pid_t2.disamb_inventor_id_20181127, pid_t2.disamb_inventor_id_20190312, pid_t2.disamb_inventor_id_20190820, pid_t2.disamb_inventor_id_20191008 \n",
      "\n",
      "from persistent_inventor_disambig_type_2 pid_t2 inner join rawinventor ri on pid_t2.patent_id = ri.patent_id and pid_t2.sequence = ri.sequence \n",
      "\n",
      "limit {0} offset {1};\n"
     ]
    }
   ],
   "source": [
    "# 2. build sql query - need to join rawinventor, old rawinventor and persistent_inventor_disambig_type2 together\n",
    "\n",
    "select_piece = \"select ri.uuid, pid_t2.disamb_inventor_id_20170808, pid_t2.disamb_inventor_id_20171003, pid_t2.disamb_inventor_id_20171226, pid_t2.disamb_inventor_id_20180528, pid_t2.disamb_inventor_id_20181127, pid_t2.disamb_inventor_id_20190312, pid_t2.disamb_inventor_id_20190820, pid_t2.disamb_inventor_id_20191008 \" \n",
    "from_piece = \"from {0} pid_t2 inner join {1} ri on pid_t2.patent_id = ri.patent_id and pid_t2.sequence = ri.sequence \".format('persistent_inventor_disambig_type_2', 'rawinventor', old_db)\n",
    "limit_piece = \"limit {0} offset {1};\"\n",
    "sql_stmt_template = select_piece + from_piece + limit_piece\n",
    "print(select_piece + '\\n\\n' + from_piece + '\\n\\n' + limit_piece)"
   ]
  },
  {
   "cell_type": "code",
   "execution_count": 7,
   "metadata": {
    "ExecuteTime": {
     "end_time": "2020-01-24T21:44:28.610457Z",
     "start_time": "2020-01-24T21:44:25.048292Z"
    }
   },
   "outputs": [
    {
     "data": {
      "text/plain": [
       "17165604"
      ]
     },
     "execution_count": 7,
     "metadata": {},
     "output_type": "execute_result"
    }
   ],
   "source": [
    "result = db_con.execute('select count(*) from {}.{}'.format(new_db,'persistent_inventor_disambig_type_2'))\n",
    "total_rows = [r[0] for r in result][0]\n",
    "total_rows"
   ]
  },
  {
   "cell_type": "code",
   "execution_count": 8,
   "metadata": {
    "ExecuteTime": {
     "end_time": "2020-01-24T21:44:54.927152Z",
     "start_time": "2020-01-24T21:44:28.613891Z"
    },
    "scrolled": true
   },
   "outputs": [
    {
     "name": "stdout",
     "output_type": "stream",
     "text": [
      "Estimated # of rounds:  57.21868\n",
      "###########################################\n",
      "\n",
      "Next iteration...  0\n",
      "select ri.uuid, pid_t2.disamb_inventor_id_20170808, pid_t2.disamb_inventor_id_20171003, pid_t2.disamb_inventor_id_20171226, pid_t2.disamb_inventor_id_20180528, pid_t2.disamb_inventor_id_20181127, pid_t2.disamb_inventor_id_20190312, pid_t2.disamb_inventor_id_20190820, pid_t2.disamb_inventor_id_20191008 from persistent_inventor_disambig_type_2 pid_t2 inner join rawinventor ri on pid_t2.patent_id = ri.patent_id and pid_t2.sequence = ri.sequence limit 300000 offset 0\n",
      "300000\n",
      "Average time for 1 iteration  8.685665130615234  seconds\n",
      "###########################################\n",
      "\n",
      "###########################################\n",
      "\n",
      "Next iteration...  1\n",
      "select ri.uuid, pid_t2.disamb_inventor_id_20170808, pid_t2.disamb_inventor_id_20171003, pid_t2.disamb_inventor_id_20171226, pid_t2.disamb_inventor_id_20180528, pid_t2.disamb_inventor_id_20181127, pid_t2.disamb_inventor_id_20190312, pid_t2.disamb_inventor_id_20190820, pid_t2.disamb_inventor_id_20191008 from persistent_inventor_disambig_type_2 pid_t2 inner join rawinventor ri on pid_t2.patent_id = ri.patent_id and pid_t2.sequence = ri.sequence limit 300000 offset 300000\n",
      "300000\n",
      "###########################################\n",
      "\n",
      "###########################################\n",
      "\n",
      "Next iteration...  2\n",
      "select ri.uuid, pid_t2.disamb_inventor_id_20170808, pid_t2.disamb_inventor_id_20171003, pid_t2.disamb_inventor_id_20171226, pid_t2.disamb_inventor_id_20180528, pid_t2.disamb_inventor_id_20181127, pid_t2.disamb_inventor_id_20190312, pid_t2.disamb_inventor_id_20190820, pid_t2.disamb_inventor_id_20191008 from persistent_inventor_disambig_type_2 pid_t2 inner join rawinventor ri on pid_t2.patent_id = ri.patent_id and pid_t2.sequence = ri.sequence limit 300000 offset 600000\n",
      "300000\n",
      "###########################################\n",
      "total time taken 26.28  seconds\n",
      "###########################################\n"
     ]
    }
   ],
   "source": [
    "limit = 300000\n",
    "offset = 0\n",
    "\n",
    "start = time.time()\n",
    "itr = 0\n",
    "\n",
    "print('Estimated # of rounds: ', total_rows/300000)\n",
    "\n",
    "while True:\n",
    "    print('###########################################\\n')\n",
    "    print('Next iteration... ', itr)\n",
    "    \n",
    "    limit_piece = \"limit {0} offset {1}\".format(limit, offset)\n",
    "    sql_stmt_template = select_piece + from_piece + limit_piece\n",
    "    print(sql_stmt_template)\n",
    "    result = db_con.execute(sql_stmt_template)\n",
    "\n",
    "    chunk_results = [r for r in result]\n",
    "    print(len(chunk_results))\n",
    "    \n",
    "    if len(chunk_results) == 0:\n",
    "        break\n",
    "\n",
    "    chunk_df = pd.DataFrame(chunk_results, columns = wide_pid_cols)\n",
    "#     print(chunk_df.head())\n",
    "#     print('######################################################################\\n')\n",
    "    melted_chunk_df = chunk_df.melt(id_vars=['uuid'], value_vars = disambig_cols, var_name = 'database_update', value_name = 'inventor_id')\n",
    "#     print(melted_chunk_df)\n",
    "    # filter here [] only keep rows values in 'inventor id '\n",
    "    melted_chunk_df = melted_chunk_df[melted_chunk_df['inventor_id']!= '']\n",
    "    melted_chunk_df['database_update'] = melted_chunk_df['database_update'].str.replace('disamb_inventor_id_', '')\n",
    "#     print('######################################################################\\n')\n",
    "#     print(melted_chunk_df)\n",
    "    melted_chunk_df.to_csv(outfile_name, index=False, header=False, mode = 'a', sep='\\t')\n",
    "    \n",
    "    offset+=limit \n",
    "    itr+=1\n",
    "\n",
    "    if itr == 1:\n",
    "        \n",
    "        print('Time for 1 iteration: ', time.time() - start, ' seconds')\n",
    "        \n",
    "    print('###########################################\\n')\n",
    "    \n",
    "    \n",
    "print('###########################################')\n",
    "print('total time taken:', round(time.time() - start, 2), ' seconds')\n",
    "print('###########################################')"
   ]
  },
  {
   "cell_type": "code",
   "execution_count": null,
   "metadata": {},
   "outputs": [],
   "source": [
    "# 3. \n",
    "#LOAD DATA INFILE 'persistent_inventor_long.tsv' INTO TABLE persistent_inventor_long FIELDS TERMINATED BY '\\t' (uuid, database_update, inventor_id) SET id = NULL;"
   ]
  }
 ],
 "metadata": {
  "kernelspec": {
   "display_name": "Python 3",
   "language": "python",
   "name": "python3"
  },
  "language_info": {
   "codemirror_mode": {
    "name": "ipython",
    "version": 3
   },
   "file_extension": ".py",
   "mimetype": "text/x-python",
   "name": "python",
   "nbconvert_exporter": "python",
   "pygments_lexer": "ipython3",
   "version": "3.6.7"
  },
  "varInspector": {
   "cols": {
    "lenName": 16,
    "lenType": 16,
    "lenVar": 40
   },
   "kernels_config": {
    "python": {
     "delete_cmd_postfix": "",
     "delete_cmd_prefix": "del ",
     "library": "var_list.py",
     "varRefreshCmd": "print(var_dic_list())"
    },
    "r": {
     "delete_cmd_postfix": ") ",
     "delete_cmd_prefix": "rm(",
     "library": "var_list.r",
     "varRefreshCmd": "cat(var_dic_list()) "
    }
   },
   "types_to_exclude": [
    "module",
    "function",
    "builtin_function_or_method",
    "instance",
    "_Feature"
   ],
   "window_display": false
  }
 },
 "nbformat": 4,
 "nbformat_minor": 2
}
