{
 "cells": [
  {
   "cell_type": "code",
   "execution_count": 14,
   "metadata": {
    "ExecuteTime": {
     "end_time": "2019-12-05T16:57:22.775965Z",
     "start_time": "2019-12-05T16:57:22.765958Z"
    }
   },
   "outputs": [],
   "source": [
    "import xml.etree.ElementTree as ET\n",
    "import json"
   ]
  },
  {
   "cell_type": "code",
   "execution_count": 15,
   "metadata": {
    "ExecuteTime": {
     "end_time": "2019-12-05T16:57:23.245953Z",
     "start_time": "2019-12-05T16:57:23.233321Z"
    }
   },
   "outputs": [],
   "source": [
    "tree=ET.parse(\"dtd_conversion4.xml\")"
   ]
  },
  {
   "cell_type": "code",
   "execution_count": 16,
   "metadata": {
    "ExecuteTime": {
     "end_time": "2019-12-05T16:57:23.693614Z",
     "start_time": "2019-12-05T16:57:23.690794Z"
    }
   },
   "outputs": [],
   "source": [
    "root=tree.getroot()"
   ]
  },
  {
   "cell_type": "code",
   "execution_count": 17,
   "metadata": {
    "ExecuteTime": {
     "end_time": "2019-12-05T16:57:24.183167Z",
     "start_time": "2019-12-05T16:57:24.178314Z"
    }
   },
   "outputs": [
    {
     "data": {
      "text/plain": [
       "{}"
      ]
     },
     "execution_count": 17,
     "metadata": {},
     "output_type": "execute_result"
    }
   ],
   "source": [
    "root.attrib"
   ]
  },
  {
   "cell_type": "code",
   "execution_count": 18,
   "metadata": {
    "ExecuteTime": {
     "end_time": "2019-12-05T16:57:24.656719Z",
     "start_time": "2019-12-05T16:57:24.654040Z"
    }
   },
   "outputs": [],
   "source": [
    "tree_structure={}"
   ]
  },
  {
   "cell_type": "code",
   "execution_count": 19,
   "metadata": {
    "ExecuteTime": {
     "end_time": "2019-12-05T16:57:25.151873Z",
     "start_time": "2019-12-05T16:57:25.146429Z"
    }
   },
   "outputs": [],
   "source": [
    "def print_children(element, tree_structure={},level=0):\n",
    "    for child in element:\n",
    "        prefix=level*\"\\t\"\n",
    "        print(prefix+child.tag)\n",
    "        children=child.getchildren()\n",
    "        if children:\n",
    "            tree_structure[child.tag]={\"derived-db-fields\":[]}\n",
    "            tree_structure[child.tag]=print_children(child, tree_structure[child.tag],level+1)\n",
    "        else:\n",
    "            tree_structure[child.tag]=[{\"db-field\":child.tag,\"existing\":True}]\n",
    "    return tree_structure\n",
    "        "
   ]
  },
  {
   "cell_type": "code",
   "execution_count": 20,
   "metadata": {
    "ExecuteTime": {
     "end_time": "2019-12-05T16:57:25.618629Z",
     "start_time": "2019-12-05T16:57:25.614706Z"
    }
   },
   "outputs": [
    {
     "data": {
      "text/plain": [
       "{}"
      ]
     },
     "execution_count": 20,
     "metadata": {},
     "output_type": "execute_result"
    }
   ],
   "source": [
    "tree_structure"
   ]
  },
  {
   "cell_type": "code",
   "execution_count": 21,
   "metadata": {
    "ExecuteTime": {
     "end_time": "2019-12-05T16:57:26.127644Z",
     "start_time": "2019-12-05T16:57:26.082500Z"
    }
   },
   "outputs": [
    {
     "name": "stdout",
     "output_type": "stream",
     "text": [
      "subdoc-bibliographic-information\n",
      "\tdocument-id\n",
      "\t\tdoc-number\n",
      "\t\tkind-code\n",
      "\t\tdocument-date\n",
      "\t\tcountry-code\n",
      "\tpublication-filing-type\n",
      "\tdomestic-filing-data\n",
      "\t\tapplication-number\n",
      "\t\t\tdoc-number\n",
      "\t\tapplication-number-series-code\n",
      "\t\tfiling-date\n",
      "\t\tcontinued-prosecution-application-flag\n",
      "\t\trule-47-flag\n",
      "\tforeign-priority-data\n",
      "\t\tpriority-application-number\n",
      "\t\t\tdoc-number\n",
      "\t\tfiling-date\n",
      "\t\tcountry-code\n",
      "\ttechnical-information\n",
      "\t\tclassification-ipc\n",
      "\t\t\tclassification-ipc-primary\n",
      "\t\t\t\tipc\n",
      "\t\t\tclassification-ipc-secondary\n",
      "\t\t\t\tipc\n",
      "\t\t\tclassification-ipc-edition\n",
      "\t\tclassification-us\n",
      "\t\t\tclassification-us-primary\n",
      "\t\t\t\tuspc\n",
      "\t\t\t\t\tclass\n",
      "\t\t\t\t\tsubclass\n",
      "\t\t\tclassification-us-secondary\n",
      "\t\t\t\tuspc\n",
      "\t\t\t\t\tclass\n",
      "\t\t\t\t\tsubclass\n",
      "\t\ttitle-of-invention\n",
      "\t\tbotanic\n",
      "\t\t\tlatin-name\n",
      "\t\t\tvariety\n",
      "\t\tcitation\n",
      "\t\t\tcited-patent-literature\n",
      "\t\t\t\tdocument-id\n",
      "\t\t\t\t\tdoc-number\n",
      "\t\t\t\t\tkind-code\n",
      "\t\t\t\t\tdocument-date\n",
      "\t\t\t\t\tcountry-code\n",
      "\t\t\t\tparty\n",
      "\t\t\t\t\tname\n",
      "\t\t\t\t\t\tname-prefix\n",
      "\t\t\t\t\t\tgiven-name\n",
      "\t\t\t\t\t\tmiddle-name\n",
      "\t\t\t\t\t\tfamily-name\n",
      "\t\t\t\t\t\tname-suffix\n",
      "\t\t\t\t\torganization-name\n",
      "\t\t\t\t\taddress\n",
      "\t\t\t\t\t\tmilitary-address\n",
      "\t\t\t\t\t\taddress-1\n",
      "\t\t\t\t\t\taddress-2\n",
      "\t\t\t\t\t\tcity\n",
      "\t\t\t\t\t\tstate\n",
      "\t\t\t\t\t\tpostalcode\n",
      "\t\t\t\t\t\tcountry\n",
      "\t\t\t\t\t\t\tcountry-code\n",
      "\t\t\t\t\t\temail\n",
      "\t\t\t\t\t\ttelephone\n",
      "\t\t\t\t\t\tfax\n",
      "\t\t\t\tclassification-ipc\n",
      "\t\t\t\t\tclassification-ipc-primary\n",
      "\t\t\t\t\t\tipc\n",
      "\t\t\t\t\tclassification-ipc-secondary\n",
      "\t\t\t\t\t\tipc\n",
      "\t\t\t\t\tclassification-ipc-edition\n",
      "\t\t\t\tclassification-us\n",
      "\t\t\t\t\tclassification-us-primary\n",
      "\t\t\t\t\t\tuspc\n",
      "\t\t\t\t\t\t\tclass\n",
      "\t\t\t\t\t\t\tsubclass\n",
      "\t\t\t\t\tclassification-us-secondary\n",
      "\t\t\t\t\t\tuspc\n",
      "\t\t\t\t\t\t\tclass\n",
      "\t\t\t\t\t\t\tsubclass\n",
      "\t\t\trelevant-section\n",
      "\tcontinuity-data\n",
      "\t\tdivision-of\n",
      "\t\t\tparent-child\n",
      "\t\t\t\tchild\n",
      "\t\t\t\t\tdocument-id\n",
      "\t\t\t\t\t\tdoc-number\n",
      "\t\t\t\t\t\tkind-code\n",
      "\t\t\t\t\t\tdocument-date\n",
      "\t\t\t\t\t\tcountry-code\n",
      "\t\t\t\tparent\n",
      "\t\t\t\t\tdocument-id\n",
      "\t\t\t\t\t\tdoc-number\n",
      "\t\t\t\t\t\tkind-code\n",
      "\t\t\t\t\t\tdocument-date\n",
      "\t\t\t\t\t\tcountry-code\n",
      "\t\t\t\tparent-status\n",
      "\t\t\t\tparent-patent\n",
      "\t\t\t\t\tdocument-id\n",
      "\t\t\t\t\t\tdoc-number\n",
      "\t\t\t\t\t\tkind-code\n",
      "\t\t\t\t\t\tdocument-date\n",
      "\t\t\t\t\t\tcountry-code\n",
      "\t\t\tparent-pct\n",
      "\t\t\t\tdocument-id\n",
      "\t\t\t\t\tdoc-number\n",
      "\t\t\t\t\tkind-code\n",
      "\t\t\t\t\tdocument-date\n",
      "\t\t\t\t\tcountry-code\n",
      "\tprior-publication\n",
      "\t\tdocument-id\n",
      "\t\t\tdoc-number\n",
      "\t\t\tkind-code\n",
      "\t\t\tdocument-date\n",
      "\t\t\tcountry-code\n",
      "\tinventors\n",
      "\t\tfirst-named-inventor\n",
      "\t\t\tname\n",
      "\t\t\t\tname-prefix\n",
      "\t\t\t\tgiven-name\n",
      "\t\t\t\tmiddle-name\n",
      "\t\t\t\tfamily-name\n",
      "\t\t\t\tname-suffix\n",
      "\t\t\taddress\n",
      "\t\t\t\tmilitary-address\n",
      "\t\t\t\taddress-1\n",
      "\t\t\t\taddress-2\n",
      "\t\t\t\tcity\n",
      "\t\t\t\tstate\n",
      "\t\t\t\tpostalcode\n",
      "\t\t\t\tcountry\n",
      "\t\t\t\t\tcountry-code\n",
      "\t\t\t\temail\n",
      "\t\t\t\ttelephone\n",
      "\t\t\t\tfax\n",
      "\t\t\tresidence\n",
      "\t\t\t\tmilitary-service\n",
      "\t\t\tauthority-applicant\n",
      "\tassignee\n",
      "\t\tname\n",
      "\t\t\tname-prefix\n",
      "\t\t\tgiven-name\n",
      "\t\t\tmiddle-name\n",
      "\t\t\tfamily-name\n",
      "\t\t\tname-suffix\n",
      "\t\torganization-name\n",
      "\t\taddress\n",
      "\t\t\tmilitary-address\n",
      "\t\t\taddress-1\n",
      "\t\t\taddress-2\n",
      "\t\t\tcity\n",
      "\t\t\tstate\n",
      "\t\t\tpostalcode\n",
      "\t\t\tcountry\n",
      "\t\t\t\tcountry-code\n",
      "\t\t\temail\n",
      "\t\t\ttelephone\n",
      "\t\t\tfax\n",
      "\t\tassignee-type\n",
      "\tcorrespondence-address\n",
      "\t\tname-1\n",
      "\t\tname-2\n",
      "\t\taddress\n",
      "\t\t\tmilitary-address\n",
      "\t\t\taddress-1\n",
      "\t\t\taddress-2\n",
      "\t\t\tcity\n",
      "\t\t\tstate\n",
      "\t\t\tpostalcode\n",
      "\t\t\tcountry\n",
      "\t\t\t\tcountry-code\n",
      "\t\t\temail\n",
      "\t\t\ttelephone\n",
      "\t\t\tfax\n",
      "\tinternational-conventions\n",
      "\t\tpct-application\n",
      "\t\t\tdocument-id\n",
      "\t\t\t\tdoc-number\n",
      "\t\t\t\tkind-code\n",
      "\t\t\t\tdocument-date\n",
      "\t\t\t\tcountry-code\n",
      "\t\tusc371-date\n",
      "\t\tusc102e-date\n",
      "\t\tpct-publication\n",
      "\t\t\tdocument-id\n",
      "\t\t\t\tdoc-number\n",
      "\t\t\t\tkind-code\n",
      "\t\t\t\tdocument-date\n",
      "\t\t\t\tcountry-code\n",
      "\tappendix-data\n",
      "\t\tobject-reference\n",
      "\t\t\tobject-description\n",
      "\t\t\tobject-id\n",
      "\t\t\tobject-contents\n",
      "subdoc-abstract\n",
      "\theading\n",
      "subdoc-description\n",
      "\tcopyright-statement\n",
      "\t\theading\n",
      "\tcross-reference-to-related-applications\n",
      "\t\theading\n",
      "\tfederal-research-statement\n",
      "\t\theading\n",
      "\t\tparagraph-federal-research-statement\n",
      "\tbackground-of-invention\n",
      "\t\theading\n",
      "\tsummary-of-invention\n",
      "\t\theading\n",
      "\tbrief-description-of-drawings\n",
      "\t\theading\n",
      "\tbrief-description-of-sequences\n",
      "\t\theading\n",
      "\tdetailed-description\n",
      "\t\tbiological-deposit\n",
      "\t\t\tnumber\n",
      "\t\t\tdeposit-date\n",
      "\t\t\tdeposit-term\n",
      "\t\t\tdepository\n",
      "\t\t\t\torganization-name\n",
      "\t\t\t\taddress\n",
      "\t\t\t\t\tmilitary-address\n",
      "\t\t\t\t\taddress-1\n",
      "\t\t\t\t\taddress-2\n",
      "\t\t\t\t\tcity\n",
      "\t\t\t\t\tstate\n",
      "\t\t\t\t\tpostalcode\n",
      "\t\t\t\t\tcountry\n",
      "\t\t\t\t\t\tcountry-code\n",
      "\t\t\t\t\temail\n",
      "\t\t\t\t\ttelephone\n",
      "\t\t\t\t\tfax\n",
      "\t\t\tdeposit-accession-number\n",
      "\t\t\tdeposit-description\n",
      "\t\theading\n",
      "\tprogram-listing-deposit\n",
      "\t\theading\n",
      "\t\tnumber\n",
      "\t\tprogram-listing\n",
      "sequence-cwu\n",
      "\tnumber\n",
      "\tsequence-list-old-rules\n",
      "\t\ts-1\n",
      "\t\t\ts-1-iii\n",
      "\t\t\ts-1-iv\n",
      "\t\t\t\tparty\n",
      "\t\t\t\t\tname\n",
      "\t\t\t\t\t\tname-prefix\n",
      "\t\t\t\t\t\tgiven-name\n",
      "\t\t\t\t\t\tmiddle-name\n",
      "\t\t\t\t\t\tfamily-name\n",
      "\t\t\t\t\t\tname-suffix\n",
      "\t\t\t\t\torganization-name\n",
      "\t\t\t\t\taddress\n",
      "\t\t\t\t\t\tmilitary-address\n",
      "\t\t\t\t\t\taddress-1\n",
      "\t\t\t\t\t\taddress-2\n",
      "\t\t\t\t\t\tcity\n",
      "\t\t\t\t\t\tstate\n",
      "\t\t\t\t\t\tpostalcode\n",
      "\t\t\t\t\t\tcountry\n",
      "\t\t\t\t\t\t\tcountry-code\n",
      "\t\t\t\t\t\temail\n",
      "\t\t\t\t\t\ttelephone\n",
      "\t\t\t\t\t\tfax\n",
      "\t\t\ts-1-v\n",
      "\t\t\t\ts-1-v-a\n",
      "\t\t\t\ts-1-v-b\n",
      "\t\t\t\ts-1-v-c\n",
      "\t\t\t\ts-1-v-d\n",
      "\t\t\ts-1-viii\n",
      "\t\t\t\ts-1-viii-a\n",
      "\t\t\t\t\tname\n",
      "\t\t\t\t\t\tname-prefix\n",
      "\t\t\t\t\t\tgiven-name\n",
      "\t\t\t\t\t\tmiddle-name\n",
      "\t\t\t\t\t\tfamily-name\n",
      "\t\t\t\t\t\tname-suffix\n",
      "\t\t\t\ts-1-viii-b\n",
      "\t\t\t\ts-1-viii-c\n",
      "\t\t\ts-1-ix\n",
      "\t\t\t\ts-1-ix-a\n",
      "\t\t\t\t\ttelephone\n",
      "\t\t\t\ts-1-ix-b\n",
      "\t\t\t\ts-1-ix-c\n",
      "\t\ts-2\n",
      "\t\t\ts-2-i\n",
      "\t\t\t\ts-2-i-a\n",
      "\t\t\t\ts-2-i-b\n",
      "\t\t\t\ts-2-i-c\n",
      "\t\t\t\ts-2-i-d\n",
      "\t\t\ts-2-ii\n",
      "\t\t\t\ts-2-ii-mt\n",
      "\t\t\t\ts-2-ii-a\n",
      "\t\t\ts-2-iii\n",
      "\t\t\ts-2-iv\n",
      "\t\t\ts-2-v\n",
      "\t\t\ts-2-vi\n",
      "\t\t\t\ts-2-vi-a\n",
      "\t\t\t\ts-2-vi-b\n",
      "\t\t\t\ts-2-vi-c\n",
      "\t\t\t\ts-2-vi-d\n",
      "\t\t\t\ts-2-vi-e\n",
      "\t\t\t\ts-2-vi-f\n",
      "\t\t\t\ts-2-vi-g\n",
      "\t\t\t\ts-2-vi-h\n",
      "\t\t\t\ts-2-vi-i\n",
      "\t\t\ts-2-vii\n",
      "\t\t\t\ts-2-vii-a\n",
      "\t\t\t\ts-2-vii-b\n",
      "\t\t\ts-2-viii\n",
      "\t\t\t\ts-2-viii-a\n",
      "\t\t\t\ts-2-viii-b\n",
      "\t\t\t\ts-2-viii-c\n",
      "\t\t\ts-2-ix\n",
      "\t\t\t\ts-2-ix-a\n",
      "\t\t\t\ts-2-ix-b\n",
      "\t\t\t\ts-2-ix-c\n",
      "\t\t\t\ts-2-ix-d\n",
      "\t\t\ts-2-x\n",
      "\t\t\t\ts-2-x-a\n",
      "\t\t\t\t\tname\n",
      "\t\t\t\t\t\tname-prefix\n",
      "\t\t\t\t\t\tgiven-name\n",
      "\t\t\t\t\t\tmiddle-name\n",
      "\t\t\t\t\t\tfamily-name\n",
      "\t\t\t\t\t\tname-suffix\n",
      "\t\t\t\ts-2-x-b\n",
      "\t\t\t\ts-2-x-c\n",
      "\t\t\t\ts-2-x-d\n",
      "\t\t\t\ts-2-x-e\n",
      "\t\t\t\ts-2-x-f\n",
      "\t\t\t\ts-2-x-g\n",
      "\t\t\t\ts-2-x-h\n",
      "\t\t\t\t\tdoc-number\n",
      "\t\t\t\ts-2-x-i\n",
      "\t\t\t\t\tdate\n",
      "\t\t\t\ts-2-x-j\n",
      "\t\t\t\t\tdate\n",
      "\t\t\t\ts-2-x-k\n",
      "\t\t\ts-2-xi\n",
      "\timage\n",
      "subdoc-claims\n",
      "\theading\n",
      "\tclaim\n",
      "\t\tclaim-text\n",
      "subdoc-drawings\n",
      "\theading\n",
      "\trepresentative-figure\n",
      "\tfigure\n"
     ]
    },
    {
     "name": "stderr",
     "output_type": "stream",
     "text": [
      "/Users/cdipietro/anaconda3/lib/python3.7/site-packages/ipykernel_launcher.py:5: DeprecationWarning: This method will be removed in future versions.  Use 'list(elem)' or iteration over elem instead.\n",
      "  \"\"\"\n"
     ]
    }
   ],
   "source": [
    "tree_structure=print_children(root, tree_structure)"
   ]
  },
  {
   "cell_type": "code",
   "execution_count": 22,
   "metadata": {
    "ExecuteTime": {
     "end_time": "2019-12-05T16:57:27.372749Z",
     "start_time": "2019-12-05T16:57:27.370093Z"
    }
   },
   "outputs": [],
   "source": [
    "import pprint"
   ]
  },
  {
   "cell_type": "code",
   "execution_count": 23,
   "metadata": {
    "ExecuteTime": {
     "end_time": "2019-12-05T16:57:28.201816Z",
     "start_time": "2019-12-05T16:57:28.193990Z"
    }
   },
   "outputs": [],
   "source": [
    "json.dump(tree_structure, open(\"xml_converted.json\",\"w\"))"
   ]
  },
  {
   "cell_type": "code",
   "execution_count": null,
   "metadata": {},
   "outputs": [],
   "source": []
  }
 ],
 "metadata": {
  "kernelspec": {
   "display_name": "Python 3",
   "language": "python",
   "name": "python3"
  },
  "language_info": {
   "codemirror_mode": {
    "name": "ipython",
    "version": 3
   },
   "file_extension": ".py",
   "mimetype": "text/x-python",
   "name": "python",
   "nbconvert_exporter": "python",
   "pygments_lexer": "ipython3",
   "version": "3.7.3"
  },
  "varInspector": {
   "cols": {
    "lenName": 16,
    "lenType": 16,
    "lenVar": 40
   },
   "kernels_config": {
    "python": {
     "delete_cmd_postfix": "",
     "delete_cmd_prefix": "del ",
     "library": "var_list.py",
     "varRefreshCmd": "print(var_dic_list())"
    },
    "r": {
     "delete_cmd_postfix": ") ",
     "delete_cmd_prefix": "rm(",
     "library": "var_list.r",
     "varRefreshCmd": "cat(var_dic_list()) "
    }
   },
   "types_to_exclude": [
    "module",
    "function",
    "builtin_function_or_method",
    "instance",
    "_Feature"
   ],
   "window_display": false
  }
 },
 "nbformat": 4,
 "nbformat_minor": 2
}
