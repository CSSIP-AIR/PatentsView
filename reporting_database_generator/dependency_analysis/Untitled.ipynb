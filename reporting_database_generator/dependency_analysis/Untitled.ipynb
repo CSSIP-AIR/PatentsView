{
 "cells": [
  {
   "cell_type": "code",
   "execution_count": 175,
   "metadata": {
    "ExecuteTime": {
     "end_time": "2019-02-19T23:07:39.288896Z",
     "start_time": "2019-02-19T23:07:39.281487Z"
    }
   },
   "outputs": [],
   "source": [
    "import sqlparse\n",
    "import networkx as nx\n",
    "import re"
   ]
  },
  {
   "cell_type": "code",
   "execution_count": 180,
   "metadata": {
    "ExecuteTime": {
     "end_time": "2019-02-20T01:22:20.833925Z",
     "start_time": "2019-02-20T01:22:20.821380Z"
    },
    "run_control": {
     "marked": true
    }
   },
   "outputs": [],
   "source": [
    "sql_content = open(\"./01_02_Claims.sql\").read()"
   ]
  },
  {
   "cell_type": "code",
   "execution_count": 183,
   "metadata": {
    "ExecuteTime": {
     "end_time": "2019-02-20T01:23:31.010905Z",
     "start_time": "2019-02-20T01:23:30.970476Z"
    }
   },
   "outputs": [
    {
     "name": "stdout",
     "output_type": "stream",
     "text": [
      "(<Statement '# Make...' at 0x7F277AE39480>,)\n",
      "unknown\n",
      "create table `{{params.reporting_database}}`.`claim` like `{{params.raw_database}}`.`claim`;\n",
      "--\n",
      "(<Statement 'insert...' at 0x7F277AE39930>,)\n",
      "insert\n",
      "insert into `{{params.reporting_database}}`.`claim` select * FROM `{{params.raw_database}}`.`claim`;\n",
      "--\n",
      "()\n"
     ]
    },
    {
     "ename": "IndexError",
     "evalue": "tuple index out of range",
     "output_type": "error",
     "traceback": [
      "\u001b[0;31m---------------------------------------------------------------------------\u001b[0m",
      "\u001b[0;31mIndexError\u001b[0m                                Traceback (most recent call last)",
      "\u001b[0;32m<ipython-input-183-4b12e3f00694>\u001b[0m in \u001b[0;36m<module>\u001b[0;34m\u001b[0m\n\u001b[1;32m      3\u001b[0m     \u001b[0mprint\u001b[0m\u001b[0;34m(\u001b[0m\u001b[0msqlparse\u001b[0m\u001b[0;34m.\u001b[0m\u001b[0mparse\u001b[0m\u001b[0;34m(\u001b[0m\u001b[0msql_statement\u001b[0m\u001b[0;34m)\u001b[0m\u001b[0;34m)\u001b[0m\u001b[0;34m\u001b[0m\u001b[0;34m\u001b[0m\u001b[0m\n\u001b[1;32m      4\u001b[0m     \u001b[0mquery_lines\u001b[0m \u001b[0;34m=\u001b[0m \u001b[0;34m[\u001b[0m\u001b[0;34m]\u001b[0m\u001b[0;34m\u001b[0m\u001b[0;34m\u001b[0m\u001b[0m\n\u001b[0;32m----> 5\u001b[0;31m     \u001b[0mparsed_statement\u001b[0m \u001b[0;34m=\u001b[0m \u001b[0msqlparse\u001b[0m\u001b[0;34m.\u001b[0m\u001b[0mparse\u001b[0m\u001b[0;34m(\u001b[0m\u001b[0msql_statement\u001b[0m\u001b[0;34m)\u001b[0m\u001b[0;34m[\u001b[0m\u001b[0;36m0\u001b[0m\u001b[0;34m]\u001b[0m\u001b[0;34m\u001b[0m\u001b[0;34m\u001b[0m\u001b[0m\n\u001b[0m\u001b[1;32m      6\u001b[0m     \u001b[0;32mfor\u001b[0m \u001b[0msql_line\u001b[0m \u001b[0;32min\u001b[0m \u001b[0mparsed_statement\u001b[0m\u001b[0;34m.\u001b[0m\u001b[0mvalue\u001b[0m\u001b[0;34m.\u001b[0m\u001b[0msplit\u001b[0m\u001b[0;34m(\u001b[0m\u001b[0;34m\"\\n\"\u001b[0m\u001b[0;34m)\u001b[0m\u001b[0;34m:\u001b[0m\u001b[0;34m\u001b[0m\u001b[0;34m\u001b[0m\u001b[0m\n\u001b[1;32m      7\u001b[0m         \u001b[0;32mif\u001b[0m \u001b[0;32mnot\u001b[0m \u001b[0msql_line\u001b[0m\u001b[0;34m.\u001b[0m\u001b[0mstartswith\u001b[0m\u001b[0;34m(\u001b[0m\u001b[0;34m\"#\"\u001b[0m\u001b[0;34m)\u001b[0m\u001b[0;34m:\u001b[0m\u001b[0;34m\u001b[0m\u001b[0;34m\u001b[0m\u001b[0m\n",
      "\u001b[0;31mIndexError\u001b[0m: tuple index out of range"
     ]
    }
   ],
   "source": [
    "sql_statements = sqlparse.split(sql_content)\n",
    "for sql_statement in sql_statements:\n",
    "    print(sqlparse.parse(sql_statement))\n",
    "    query_lines = []\n",
    "    parsed_statement = sqlparse.parse(sql_statement)[0]\n",
    "    for sql_line in parsed_statement.value.split(\"\\n\"):\n",
    "        if not sql_line.startswith(\"#\"):\n",
    "            query_lines.append(\" \".join(sql_line.split()))\n",
    "    single_line_query = \" \".join(query_lines).replace(\"[\\s]+\", \" \")\n",
    "    print((parsed_statement.get_type().lower()))\n",
    "    print(single_line_query)\n",
    "    print(\"--\")"
   ]
  },
  {
   "cell_type": "markdown",
   "metadata": {},
   "source": [
    "# Dependency Generation"
   ]
  },
  {
   "cell_type": "code",
   "execution_count": 131,
   "metadata": {
    "ExecuteTime": {
     "end_time": "2019-02-19T21:58:00.372620Z",
     "start_time": "2019-02-19T21:57:59.933593Z"
    }
   },
   "outputs": [],
   "source": [
    "all_sql_content = open(\"./generate_database.sql\").read()\n",
    "\n",
    "sql_statements = sqlparse.split(all_sql_content)"
   ]
  },
  {
   "cell_type": "code",
   "execution_count": 132,
   "metadata": {
    "ExecuteTime": {
     "end_time": "2019-02-19T21:58:03.174217Z",
     "start_time": "2019-02-19T21:58:01.748734Z"
    }
   },
   "outputs": [],
   "source": [
    "all_insert_queries = []\n",
    "for sql_statement in sql_statements:\n",
    "    query_lines = []\n",
    "    parsed_statement = sqlparse.parse(sql_statement)[0]\n",
    "    for sql_line in parsed_statement.value.split(\"\\n\"):\n",
    "        if not sql_line.startswith(\"#\"):\n",
    "            query_lines.append(\" \".join(sql_line.split()))\n",
    "    if len(query_lines) < 1:\n",
    "        continue\n",
    "    single_line_query = \" \".join(query_lines).replace(\"[\\s]+\", \" \").replace(\n",
    "        \"PatentsView_20171226_v2\", \"PatentsView\").replace(\n",
    "            \"patent_20171226\", \"patent\")\n",
    "    if parsed_statement.get_type().lower() == 'ddl':\n",
    "        if single_line_query.startswith(\"DROP\"):\n",
    "            continue\n",
    "    if parsed_statement.get_type().lower() == 'insert':\n",
    "        all_insert_queries.append(single_line_query)"
   ]
  },
  {
   "cell_type": "code",
   "execution_count": 133,
   "metadata": {
    "ExecuteTime": {
     "end_time": "2019-02-19T21:58:06.278706Z",
     "start_time": "2019-02-19T21:58:06.272053Z"
    }
   },
   "outputs": [],
   "source": [
    "G=nx.DiGraph()"
   ]
  },
  {
   "cell_type": "code",
   "execution_count": 164,
   "metadata": {
    "ExecuteTime": {
     "end_time": "2019-02-19T22:19:23.836628Z",
     "start_time": "2019-02-19T22:19:23.813185Z"
    }
   },
   "outputs": [
    {
     "name": "stdout",
     "output_type": "stream",
     "text": [
      "insert into `PatentsView`.`cpc_current_copy` select distinct patent_id,sequence,section_id,subsection_id,group_id,subgroup_id,category from `PatentsView`.`cpc_current`;\n",
      "`PatentsView`.`cpc_current_copy`\n",
      "`PatentsView`.`cpc_current`\n"
     ]
    }
   ],
   "source": [
    "dependencies = []\n",
    "for insert_query in all_insert_queries:\n",
    "    insert_destination_search = re.search(\"INSERT INTO\\s+(`[^`]+`\\.`[^`]+`)\",\n",
    "                                          insert_query, re.IGNORECASE)\n",
    "    if insert_destination_search is None:\n",
    "        print(insert_query)\n",
    "    destination = insert_destination_search.groups(1)[0]\n",
    "#    print(destination)\n",
    "    table_finder = re.compile(\"`[^`]+`\\.`[^`]+`\",  re.IGNORECASE)\n",
    "    tables = table_finder.findall(insert_query)\n",
    "    G.add_node(\n",
    "        destination,attr_dict= {\n",
    "            \"sql\":\n",
    "            re.sub(\n",
    "                \"`PatentsView`(\\.`[^`]+`)\",\n",
    "                \"`{{reporting_database}}`\\1\",\n",
    "                re.sub(\n",
    "                    \"`patent`(\\.`[^`]+`)\",\n",
    "                    \"`{{raw_database}}`\\1\",\n",
    "                    insert_query,\n",
    "                    flags=re.IGNORECASE),\n",
    "                flags=re.IGNORECASE)\n",
    "        })\n",
    "    if destination=='`PatentsView`.`cpc_current_copy`':\n",
    "            print(insert_query)\n",
    "    for table in tables:\n",
    "        if destination=='`PatentsView`.`cpc_current_copy`':\n",
    "            print(table)\n",
    "        if table != destination:\n",
    "            G.add_edge(table, destination)"
   ]
  },
  {
   "cell_type": "code",
   "execution_count": 167,
   "metadata": {
    "ExecuteTime": {
     "end_time": "2019-02-19T22:23:06.928358Z",
     "start_time": "2019-02-19T22:23:06.885167Z"
    }
   },
   "outputs": [
    {
     "ename": "NetworkXNotImplemented",
     "evalue": "not implemented for directed type",
     "output_type": "error",
     "traceback": [
      "\u001b[0;31m---------------------------------------------------------------------------\u001b[0m",
      "\u001b[0;31mNetworkXNotImplemented\u001b[0m                    Traceback (most recent call last)",
      "\u001b[0;32m<ipython-input-167-7fb86d6575b9>\u001b[0m in \u001b[0;36m<module>\u001b[0;34m\u001b[0m\n\u001b[0;32m----> 1\u001b[0;31m \u001b[0mnx\u001b[0m\u001b[0;34m.\u001b[0m\u001b[0mconnected_components\u001b[0m\u001b[0;34m(\u001b[0m\u001b[0mG\u001b[0m\u001b[0;34m)\u001b[0m\u001b[0;34m\u001b[0m\u001b[0;34m\u001b[0m\u001b[0m\n\u001b[0m",
      "\u001b[0;32m<decorator-gen-294>\u001b[0m in \u001b[0;36mconnected_components\u001b[0;34m(G)\u001b[0m\n",
      "\u001b[0;32m/opt/conda/lib/python3.6/site-packages/networkx/utils/decorators.py\u001b[0m in \u001b[0;36m_not_implemented_for\u001b[0;34m(not_implement_for_func, *args, **kwargs)\u001b[0m\n\u001b[1;32m     78\u001b[0m         \u001b[0;32mif\u001b[0m \u001b[0mmatch\u001b[0m\u001b[0;34m:\u001b[0m\u001b[0;34m\u001b[0m\u001b[0;34m\u001b[0m\u001b[0m\n\u001b[1;32m     79\u001b[0m             \u001b[0mmsg\u001b[0m \u001b[0;34m=\u001b[0m \u001b[0;34m'not implemented for %s type'\u001b[0m \u001b[0;34m%\u001b[0m \u001b[0;34m' '\u001b[0m\u001b[0;34m.\u001b[0m\u001b[0mjoin\u001b[0m\u001b[0;34m(\u001b[0m\u001b[0mgraph_types\u001b[0m\u001b[0;34m)\u001b[0m\u001b[0;34m\u001b[0m\u001b[0;34m\u001b[0m\u001b[0m\n\u001b[0;32m---> 80\u001b[0;31m             \u001b[0;32mraise\u001b[0m \u001b[0mnx\u001b[0m\u001b[0;34m.\u001b[0m\u001b[0mNetworkXNotImplemented\u001b[0m\u001b[0;34m(\u001b[0m\u001b[0mmsg\u001b[0m\u001b[0;34m)\u001b[0m\u001b[0;34m\u001b[0m\u001b[0;34m\u001b[0m\u001b[0m\n\u001b[0m\u001b[1;32m     81\u001b[0m         \u001b[0;32melse\u001b[0m\u001b[0;34m:\u001b[0m\u001b[0;34m\u001b[0m\u001b[0;34m\u001b[0m\u001b[0m\n\u001b[1;32m     82\u001b[0m             \u001b[0;32mreturn\u001b[0m \u001b[0mnot_implement_for_func\u001b[0m\u001b[0;34m(\u001b[0m\u001b[0;34m*\u001b[0m\u001b[0margs\u001b[0m\u001b[0;34m,\u001b[0m \u001b[0;34m**\u001b[0m\u001b[0mkwargs\u001b[0m\u001b[0;34m)\u001b[0m\u001b[0;34m\u001b[0m\u001b[0;34m\u001b[0m\u001b[0m\n",
      "\u001b[0;31mNetworkXNotImplemented\u001b[0m: not implemented for directed type"
     ]
    }
   ],
   "source": [
    "nx.connected_components(G)"
   ]
  },
  {
   "cell_type": "code",
   "execution_count": 116,
   "metadata": {
    "ExecuteTime": {
     "end_time": "2019-02-19T21:49:20.586317Z",
     "start_time": "2019-02-19T21:49:20.568412Z"
    }
   },
   "outputs": [
    {
     "data": {
      "text/plain": [
       "[('`patent`.`patent_assignee`', 0),\n",
       " ('`patent`.`patent_inventor`', 0),\n",
       " ('`patent`.`patent_lawyer`', 0),\n",
       " ('`patent`.`rawexaminer`', 0),\n",
       " ('`patent`.`rawlocation`', 0),\n",
       " ('`patent`.`patent`', 0),\n",
       " ('`patent`.`rawassignee`', 0),\n",
       " ('`patent`.`location`', 0),\n",
       " ('`patent`.`rawinventor`', 0),\n",
       " ('`patent`.`foreigncitation`', 0),\n",
       " ('`patent`.`usapplicationcitation`', 0),\n",
       " ('`patent`.`uspatentcitation`', 0),\n",
       " ('`patent`.`application`', 0),\n",
       " ('`patent`.`us_term_of_grant`', 0),\n",
       " ('`patent`.`location_assignee`', 0),\n",
       " ('`patent`.`location_inventor`', 0),\n",
       " ('`patent`.`assignee`', 0),\n",
       " ('`PatentsView`.`temp_assignee_num_patents`', 0),\n",
       " ('`patent`.`inventor`', 0),\n",
       " ('`patent`.`rawlawyer`', 0),\n",
       " ('`patent`.`lawyer`', 0),\n",
       " ('`patent`.`foreign_priority`', 0),\n",
       " ('`patent`.`pct_data`', 0),\n",
       " ('`patent`.`cpc_current`', 0),\n",
       " ('`patent`.`cpc_subsection`', 0),\n",
       " ('`patent`.`cpc_group`', 0),\n",
       " ('`patent`.`cpc_subgroup`', 0),\n",
       " ('`patent`.`ipcr`', 0),\n",
       " ('`patent`.`nber`', 0),\n",
       " ('`patent`.`nber_category`', 0),\n",
       " ('`patent`.`nber_subcategory`', 0),\n",
       " ('`patent`.`uspc_current`', 0),\n",
       " ('`patent`.`mainclass_current`', 0),\n",
       " ('`patent`.`subclass_current`', 0),\n",
       " ('`PatentsView`.`uspc_current_mainclass_copy`', 0),\n",
       " ('`PatentsView`.`cpc_current_subsection_copy`', 0),\n",
       " ('`PatentsView`.`cpc_current_group_copy`', 0),\n",
       " ('`PatentsView`.`uspc_current_copy`', 0),\n",
       " ('`PatentsView`.`cpc_current_copy`', 0),\n",
       " ('`PatentsView`.`nber_copy`', 0),\n",
       " ('`patent`.`wipo`', 0),\n",
       " ('`patent`.`wipo_field`', 0),\n",
       " ('`patent`.`government_interest`', 0),\n",
       " ('`patent`.`government_organization`', 0),\n",
       " ('`patent`.`patent_contractawardnumber`', 0),\n",
       " ('`patent`.`patent_govintorg`', 0),\n",
       " ('`patent`.`claim`', 0),\n",
       " ('`PatentsView`.`temp_id_mapping_assignee`', 1),\n",
       " ('`PatentsView`.`temp_id_mapping_inventor`', 1),\n",
       " ('`PatentsView`.`temp_id_mapping_lawyer`', 1),\n",
       " ('`PatentsView`.`temp_id_mapping_examiner`', 1),\n",
       " ('`PatentsView`.`temp_id_mapping_location_transformed`', 1),\n",
       " ('`PatentsView`.`temp_num_foreign_documents_cited`', 1),\n",
       " ('`PatentsView`.`temp_num_us_applications_cited`', 1),\n",
       " ('`PatentsView`.`temp_num_us_patents_cited`', 1),\n",
       " ('`PatentsView`.`temp_num_times_cited_by_us_patents`', 1),\n",
       " ('`PatentsView`.`temp_patent_earliest_application_date`', 1),\n",
       " ('`PatentsView`.`temp_patent_date`', 1),\n",
       " ('`PatentsView`.`application`', 1),\n",
       " ('`PatentsView`.`temp_location_num_patents`', 1),\n",
       " ('`PatentsView`.`temp_inventor_num_patents`', 1),\n",
       " ('`PatentsView`.`temp_lawyer_num_patents`', 1),\n",
       " ('`PatentsView`.`temp_cpc_subsection_title`', 1),\n",
       " ('`PatentsView`.`temp_cpc_group_title`', 1),\n",
       " ('`PatentsView`.`temp_cpc_subgroup_title`', 1),\n",
       " ('`PatentsView`.`temp_mainclass_current_title`', 1),\n",
       " ('`PatentsView`.`temp_subclass_current_title`', 1),\n",
       " ('`PatentsView`.`inventor_coinventor`', 1),\n",
       " ('`PatentsView`.`cpc_group`', 1),\n",
       " ('`PatentsView`.`cpc_subgroup`', 1),\n",
       " ('`PatentsView`.`nber_category`', 1),\n",
       " ('`PatentsView`.`nber_subcategory`', 1),\n",
       " ('`PatentsView`.`uspc_mainclass`', 1),\n",
       " ('`PatentsView`.`uspc_subclass`', 1),\n",
       " ('`PatentsView`.`wipo`', 1),\n",
       " ('`PatentsView`.`wipo_field`', 1),\n",
       " ('`PatentsView`.`government_interest`', 1),\n",
       " ('`PatentsView`.`government_organization`', 1),\n",
       " ('`PatentsView`.`patent_contractawardnumber`', 1),\n",
       " ('`PatentsView`.`patent_govintorg`', 1),\n",
       " ('`PatentsView`.`claim`', 1),\n",
       " ('`PatentsView`.`temp_id_mapping_location`', 2),\n",
       " ('`PatentsView`.`temp_location_num_assignees`', 2),\n",
       " ('`PatentsView`.`temp_location_num_inventors`', 2),\n",
       " ('`PatentsView`.`temp_assignee_num_inventors`', 2),\n",
       " ('`PatentsView`.`temp_assignee_years_active`', 2),\n",
       " ('`PatentsView`.`temp_inventor_num_assignees`', 2),\n",
       " ('`PatentsView`.`temp_inventor_years_active`', 2),\n",
       " ('`PatentsView`.`temp_lawyer_num_assignees`', 2),\n",
       " ('`PatentsView`.`temp_lawyer_num_inventors`', 2),\n",
       " ('`PatentsView`.`temp_lawyer_years_active`', 2),\n",
       " ('`PatentsView`.`examiner`', 2),\n",
       " ('`PatentsView`.`patent_examiner`', 2),\n",
       " ('`PatentsView`.`foreignpriority`', 2),\n",
       " ('`PatentsView`.`pctdata`', 2),\n",
       " ('`PatentsView`.`usapplicationcitation`', 2),\n",
       " ('`PatentsView`.`uspatentcitation`', 2),\n",
       " ('`PatentsView`.`cpc_current_subsection_patent_year`', 2),\n",
       " ('`PatentsView`.`cpc_current_group_patent_year`', 2),\n",
       " ('`PatentsView`.`temp_ipcr_years_active`', 2),\n",
       " ('`PatentsView`.`nber_subcategory_patent_year`', 2),\n",
       " ('`PatentsView`.`uspc_current_mainclass_application_year`', 2),\n",
       " ('`PatentsView`.`cpc_current_group_application_year`', 2),\n",
       " ('`PatentsView`.`uspc_current_mainclass_patent_year`', 2),\n",
       " ('`PatentsView`.`assignee_inventor`', 2),\n",
       " ('`PatentsView`.`inventor_cpc_subsection`', 2),\n",
       " ('`PatentsView`.`inventor_cpc_group`', 2),\n",
       " ('`PatentsView`.`inventor_uspc_mainclass`', 2),\n",
       " ('`PatentsView`.`inventor_year`', 2),\n",
       " ('`PatentsView`.`assignee_cpc_subsection`', 2),\n",
       " ('`PatentsView`.`assignee_cpc_group`', 2),\n",
       " ('`PatentsView`.`assignee_nber_subcategory`', 2),\n",
       " ('`PatentsView`.`assignee_uspc_mainclass`', 2),\n",
       " ('`PatentsView`.`assignee_year`', 2),\n",
       " ('`PatentsView`.`location_cpc_subsection`', 2),\n",
       " ('`PatentsView`.`location_cpc_group`', 2),\n",
       " ('`PatentsView`.`location_uspc_mainclass`', 2),\n",
       " ('`PatentsView`.`location_nber_subcategory`', 2),\n",
       " ('`PatentsView`.`location_year`', 2),\n",
       " ('`PatentsView`.`inventor_rawinventor`', 2),\n",
       " ('`PatentsView`.`location_assignee`', 3),\n",
       " ('`PatentsView`.`location_inventor`', 3),\n",
       " ('`PatentsView`.`patent_lawyer`', 3),\n",
       " ('`PatentsView`.`cpc_current_subsection`', 3),\n",
       " ('`PatentsView`.`cpc_current_group`', 3),\n",
       " ('`PatentsView`.`temp_ipcr_aggregations`', 3),\n",
       " ('`PatentsView`.`uspc_current_mainclass`', 3),\n",
       " ('`PatentsView`.`temp_location_patent`', 4),\n",
       " ('`PatentsView`.`temp_cpc_current_subsection_aggregate_counts`', 4),\n",
       " ('`PatentsView`.`temp_cpc_current_group_aggregate_counts`', 4),\n",
       " ('`PatentsView`.`ipcr`', 4),\n",
       " ('`PatentsView`.`temp_nber_subcategory_aggregate_counts`', 4),\n",
       " ('`PatentsView`.`temp_mainclass_current_aggregate_counts`', 4),\n",
       " ('`PatentsView`.`temp_patent_aggregations`', 5),\n",
       " ('`PatentsView`.`temp_assignee_lastknown_location`', 5),\n",
       " ('`PatentsView`.`patent_assignee`', 5),\n",
       " ('`PatentsView`.`temp_inventor_lastknown_location`', 5),\n",
       " ('`PatentsView`.`patent_inventor`', 5),\n",
       " ('`PatentsView`.`nber`', 5),\n",
       " ('`PatentsView`.`uspc_current`', 5),\n",
       " ('`PatentsView`.`temp_patent_firstnamed_assignee`', 6),\n",
       " ('`PatentsView`.`temp_patent_firstnamed_inventor`', 6),\n",
       " ('`PatentsView`.`location`', 6),\n",
       " ('`PatentsView`.`assignee`', 6),\n",
       " ('`PatentsView`.`inventor`', 6),\n",
       " ('`PatentsView`.`lawyer`', 6),\n",
       " ('`PatentsView`.`patent`', 7),\n",
       " ('`PatentsView`.`cpc_current`', 7)]"
      ]
     },
     "execution_count": 116,
     "metadata": {},
     "output_type": "execute_result"
    }
   ],
   "source": [
    "sorted(G.in_degree, key=lambda x: x[1])"
   ]
  },
  {
   "cell_type": "code",
   "execution_count": 160,
   "metadata": {
    "ExecuteTime": {
     "end_time": "2019-02-19T22:08:16.539278Z",
     "start_time": "2019-02-19T22:08:16.529592Z"
    }
   },
   "outputs": [],
   "source": [
    "node_levels=[]\n",
    "current_level=0\n",
    "while True:\n",
    "    current_level_items=list(filter( lambda x: x[1]==0, G.in_degree))\n",
    "#    print(current_level_items)\n",
    "    if len(current_level_items) <1:\n",
    "        break\n",
    "    for current_level_item in current_level_items:\n",
    "        node_levels.append((current_level_item[0],current_level))\n",
    "        G.remove_node(current_level_item[0])\n",
    "    current_level+=1\n",
    "#    print(\"---\")\n",
    "    "
   ]
  },
  {
   "cell_type": "code",
   "execution_count": 179,
   "metadata": {
    "ExecuteTime": {
     "end_time": "2019-02-19T23:08:45.562503Z",
     "start_time": "2019-02-19T23:08:45.534804Z"
    }
   },
   "outputs": [
    {
     "ename": "NetworkXNotImplemented",
     "evalue": "not implemented for directed type",
     "output_type": "error",
     "traceback": [
      "\u001b[0;31m---------------------------------------------------------------------------\u001b[0m",
      "\u001b[0;31mNetworkXNotImplemented\u001b[0m                    Traceback (most recent call last)",
      "\u001b[0;32m<ipython-input-179-bf10f64c8c24>\u001b[0m in \u001b[0;36m<module>\u001b[0;34m\u001b[0m\n\u001b[0;32m----> 1\u001b[0;31m \u001b[0mnx\u001b[0m\u001b[0;34m.\u001b[0m\u001b[0mclique\u001b[0m\u001b[0;34m.\u001b[0m\u001b[0menumerate_all_cliques\u001b[0m\u001b[0;34m(\u001b[0m\u001b[0mG\u001b[0m\u001b[0;34m)\u001b[0m\u001b[0;34m\u001b[0m\u001b[0;34m\u001b[0m\u001b[0m\n\u001b[0m",
      "\u001b[0;32m<decorator-gen-282>\u001b[0m in \u001b[0;36menumerate_all_cliques\u001b[0;34m(G)\u001b[0m\n",
      "\u001b[0;32m/opt/conda/lib/python3.6/site-packages/networkx/utils/decorators.py\u001b[0m in \u001b[0;36m_not_implemented_for\u001b[0;34m(not_implement_for_func, *args, **kwargs)\u001b[0m\n\u001b[1;32m     78\u001b[0m         \u001b[0;32mif\u001b[0m \u001b[0mmatch\u001b[0m\u001b[0;34m:\u001b[0m\u001b[0;34m\u001b[0m\u001b[0;34m\u001b[0m\u001b[0m\n\u001b[1;32m     79\u001b[0m             \u001b[0mmsg\u001b[0m \u001b[0;34m=\u001b[0m \u001b[0;34m'not implemented for %s type'\u001b[0m \u001b[0;34m%\u001b[0m \u001b[0;34m' '\u001b[0m\u001b[0;34m.\u001b[0m\u001b[0mjoin\u001b[0m\u001b[0;34m(\u001b[0m\u001b[0mgraph_types\u001b[0m\u001b[0;34m)\u001b[0m\u001b[0;34m\u001b[0m\u001b[0;34m\u001b[0m\u001b[0m\n\u001b[0;32m---> 80\u001b[0;31m             \u001b[0;32mraise\u001b[0m \u001b[0mnx\u001b[0m\u001b[0;34m.\u001b[0m\u001b[0mNetworkXNotImplemented\u001b[0m\u001b[0;34m(\u001b[0m\u001b[0mmsg\u001b[0m\u001b[0;34m)\u001b[0m\u001b[0;34m\u001b[0m\u001b[0;34m\u001b[0m\u001b[0m\n\u001b[0m\u001b[1;32m     81\u001b[0m         \u001b[0;32melse\u001b[0m\u001b[0;34m:\u001b[0m\u001b[0;34m\u001b[0m\u001b[0;34m\u001b[0m\u001b[0m\n\u001b[1;32m     82\u001b[0m             \u001b[0;32mreturn\u001b[0m \u001b[0mnot_implement_for_func\u001b[0m\u001b[0;34m(\u001b[0m\u001b[0;34m*\u001b[0m\u001b[0margs\u001b[0m\u001b[0;34m,\u001b[0m \u001b[0;34m**\u001b[0m\u001b[0mkwargs\u001b[0m\u001b[0;34m)\u001b[0m\u001b[0;34m\u001b[0m\u001b[0;34m\u001b[0m\u001b[0m\n",
      "\u001b[0;31mNetworkXNotImplemented\u001b[0m: not implemented for directed type"
     ]
    }
   ],
   "source": [
    "nx.clique.enumerate_all_cliques(G)"
   ]
  },
  {
   "cell_type": "code",
   "execution_count": 174,
   "metadata": {
    "ExecuteTime": {
     "end_time": "2019-02-19T22:50:03.343415Z",
     "start_time": "2019-02-19T22:50:03.299931Z"
    }
   },
   "outputs": [],
   "source": [
    "pd.DataFrame(list(G.edges())).to_csv(\"reporting_db_generation_dependencies.csv\", index=False, header=False)"
   ]
  },
  {
   "cell_type": "code",
   "execution_count": 163,
   "metadata": {
    "ExecuteTime": {
     "end_time": "2019-02-19T22:10:17.701405Z",
     "start_time": "2019-02-19T22:10:17.674471Z"
    }
   },
   "outputs": [],
   "source": [
    "pd.DataFrame(node_levels).to_csv(\"table_levels.csv\", index=False, header=False)"
   ]
  }
 ],
 "metadata": {
  "kernelspec": {
   "display_name": "Python 3",
   "language": "python",
   "name": "python3"
  },
  "language_info": {
   "codemirror_mode": {
    "name": "ipython",
    "version": 3
   },
   "file_extension": ".py",
   "mimetype": "text/x-python",
   "name": "python",
   "nbconvert_exporter": "python",
   "pygments_lexer": "ipython3",
   "version": "3.6.7"
  },
  "varInspector": {
   "cols": {
    "lenName": 16,
    "lenType": 16,
    "lenVar": 40
   },
   "kernels_config": {
    "python": {
     "delete_cmd_postfix": "",
     "delete_cmd_prefix": "del ",
     "library": "var_list.py",
     "varRefreshCmd": "print(var_dic_list())"
    },
    "r": {
     "delete_cmd_postfix": ") ",
     "delete_cmd_prefix": "rm(",
     "library": "var_list.r",
     "varRefreshCmd": "cat(var_dic_list()) "
    }
   },
   "types_to_exclude": [
    "module",
    "function",
    "builtin_function_or_method",
    "instance",
    "_Feature"
   ],
   "window_display": false
  }
 },
 "nbformat": 4,
 "nbformat_minor": 2
}
