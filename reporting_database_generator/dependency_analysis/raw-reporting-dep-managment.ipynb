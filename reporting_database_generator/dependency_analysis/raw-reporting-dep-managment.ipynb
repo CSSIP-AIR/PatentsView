{
 "cells": [
  {
   "cell_type": "code",
   "execution_count": null,
   "metadata": {},
   "outputs": [],
   "source": [
    "class Table:\n",
    "    self.name=None\n",
    "    self.typ=None\n",
    "    self.creators=[]\n",
    "    def __init__(self, name, typ):\n",
    "        self.name = name\n",
    "        self.typ = typ\n",
    "    def add_dependant(self, name)"
   ]
  },
  {
   "cell_type": "code",
   "execution_count": 1,
   "metadata": {
    "ExecuteTime": {
     "end_time": "2017-10-03T18:58:44.704234Z",
     "start_time": "2017-10-03T18:58:42.996234Z"
    }
   },
   "outputs": [],
   "source": [
    "import pandas as pd"
   ]
  },
  {
   "cell_type": "code",
   "execution_count": 8,
   "metadata": {
    "ExecuteTime": {
     "end_time": "2017-10-04T15:26:26.826133Z",
     "start_time": "2017-10-04T15:26:26.794932Z"
    }
   },
   "outputs": [],
   "source": [
    "dependencies=pd.read_csv(\"./dependencies.csv\", header=None)"
   ]
  },
  {
   "cell_type": "code",
   "execution_count": 9,
   "metadata": {
    "ExecuteTime": {
     "end_time": "2017-10-04T15:26:48.609369Z",
     "start_time": "2017-10-04T15:26:48.578168Z"
    }
   },
   "outputs": [],
   "source": [
    "def create_dep_ll(x, universal_ll):\n",
    "    if x[0] not in universal_ll:\n",
    "        universal_ll[x[0]] = []\n",
    "    universal_ll[x[0]].append(x[1])"
   ]
  },
  {
   "cell_type": "code",
   "execution_count": 16,
   "metadata": {
    "ExecuteTime": {
     "end_time": "2017-10-04T15:28:01.052798Z",
     "start_time": "2017-10-04T15:28:01.005997Z"
    }
   },
   "outputs": [],
   "source": [
    "univ={}\n",
    "trash=dependencies.apply(create_dep_ll,1, args=(univ,))"
   ]
  },
  {
   "cell_type": "code",
   "execution_count": 25,
   "metadata": {
    "ExecuteTime": {
     "end_time": "2017-10-04T15:31:06.055277Z",
     "start_time": "2017-10-04T15:31:06.039677Z"
    }
   },
   "outputs": [],
   "source": [
    "node_list=dependencies[1].tolist()"
   ]
  },
  {
   "cell_type": "code",
   "execution_count": 27,
   "metadata": {
    "ExecuteTime": {
     "end_time": "2017-10-04T15:31:23.154015Z",
     "start_time": "2017-10-04T15:31:23.122814Z"
    }
   },
   "outputs": [],
   "source": [
    "node_list+=dependencies[0].tolist()"
   ]
  },
  {
   "cell_type": "code",
   "execution_count": 29,
   "metadata": {
    "ExecuteTime": {
     "end_time": "2017-10-04T15:31:33.795024Z",
     "start_time": "2017-10-04T15:31:33.748223Z"
    }
   },
   "outputs": [
    {
     "data": {
      "text/plain": [
       "131"
      ]
     },
     "execution_count": 29,
     "metadata": {},
     "output_type": "execute_result"
    }
   ],
   "source": [
    "len(set(node_list))"
   ]
  },
  {
   "cell_type": "code",
   "execution_count": 65,
   "metadata": {
    "ExecuteTime": {
     "end_time": "2017-10-04T19:20:15.584321Z",
     "start_time": "2017-10-04T19:20:15.537520Z"
    }
   },
   "outputs": [
    {
     "data": {
      "text/plain": [
       "{'`PatentsView`.`application`',\n",
       " '`PatentsView`.`assignee_cpc_group`',\n",
       " '`PatentsView`.`assignee_cpc_subsection`',\n",
       " '`PatentsView`.`assignee_inventor`',\n",
       " '`PatentsView`.`assignee_nber_subcategory`',\n",
       " '`PatentsView`.`assignee_uspc_mainclass`',\n",
       " '`PatentsView`.`assignee_year`',\n",
       " '`PatentsView`.`assignee`',\n",
       " '`PatentsView`.`cpc_current_group_application_year`',\n",
       " '`PatentsView`.`cpc_current_group_patent_year`',\n",
       " '`PatentsView`.`cpc_current_group`',\n",
       " '`PatentsView`.`cpc_current_subsection_patent_year`',\n",
       " '`PatentsView`.`cpc_current_subsection`',\n",
       " '`PatentsView`.`cpc_current`',\n",
       " '`PatentsView`.`examiner`',\n",
       " '`PatentsView`.`foreignpriority`',\n",
       " '`PatentsView`.`government_interest`',\n",
       " '`PatentsView`.`government_organization``',\n",
       " '`PatentsView`.`inventor_coinventor`',\n",
       " '`PatentsView`.`inventor_cpc_group`',\n",
       " '`PatentsView`.`inventor_cpc_subsection`',\n",
       " '`PatentsView`.`inventor_nber_subcategory`',\n",
       " '`PatentsView`.`inventor_uspc_mainclass`',\n",
       " '`PatentsView`.`inventor`',\n",
       " '`PatentsView`.`inventors`',\n",
       " '`PatentsView`.`ipcr`',\n",
       " '`PatentsView`.`lawyer`',\n",
       " '`PatentsView`.`location_assignee`',\n",
       " '`PatentsView`.`location_cpc_group`',\n",
       " '`PatentsView`.`location_cpc_subsection`',\n",
       " '`PatentsView`.`location_inventor`',\n",
       " '`PatentsView`.`location_nber_subcategory`',\n",
       " '`PatentsView`.`location_uspc_mainclass`',\n",
       " '`PatentsView`.`location_year`',\n",
       " '`PatentsView`.`location`',\n",
       " '`PatentsView`.`nber_subcategory_patent_year`',\n",
       " '`PatentsView`.`nber`',\n",
       " '`PatentsView`.`patent2`',\n",
       " '`PatentsView`.`patent3`',\n",
       " '`PatentsView`.`patent_assignee`',\n",
       " '`PatentsView`.`patent_contractawardnumber`',\n",
       " '`PatentsView`.`patent_examiner`',\n",
       " '`PatentsView`.`patent_govintorg``',\n",
       " '`PatentsView`.`patent_inventor`',\n",
       " '`PatentsView`.`patent_lawyer`',\n",
       " '`PatentsView`.`patent_year`',\n",
       " '`PatentsView`.`patent`',\n",
       " '`PatentsView`.`pctdata`',\n",
       " '`PatentsView`.`temp_assignee_lastknown_location`',\n",
       " '`PatentsView`.`temp_assignee_num_inventors`',\n",
       " '`PatentsView`.`temp_assignee_num_patents`',\n",
       " '`PatentsView`.`temp_assignee_years_active`',\n",
       " '`PatentsView`.`temp_cpc_current_group_aggregate_counts`',\n",
       " '`PatentsView`.`temp_cpc_current_subsection_aggregate_counts`',\n",
       " '`PatentsView`.`temp_cpc_group_title`',\n",
       " '`PatentsView`.`temp_cpc_subgroup_title`',\n",
       " '`PatentsView`.`temp_cpc_subsection_title`',\n",
       " '`PatentsView`.`temp_id_mapping_assignee`',\n",
       " '`PatentsView`.`temp_id_mapping_examiner`',\n",
       " '`PatentsView`.`temp_id_mapping_inventor`',\n",
       " '`PatentsView`.`temp_id_mapping_lawyer`',\n",
       " '`PatentsView`.`temp_id_mapping_location_transformed`',\n",
       " '`PatentsView`.`temp_id_mapping_location`',\n",
       " '`PatentsView`.`temp_inventor_lastknown_location`',\n",
       " '`PatentsView`.`temp_inventor_num_assignees`',\n",
       " '`PatentsView`.`temp_inventor_num_patents`',\n",
       " '`PatentsView`.`temp_inventor_years_active`',\n",
       " '`PatentsView`.`temp_ipcr_aggregations`',\n",
       " '`PatentsView`.`temp_ipcr_years_active`',\n",
       " '`PatentsView`.`temp_lawyer_num_assignees`',\n",
       " '`PatentsView`.`temp_lawyer_num_inventors`',\n",
       " '`PatentsView`.`temp_lawyer_num_patents`',\n",
       " '`PatentsView`.`temp_lawyer_years_active`',\n",
       " '`PatentsView`.`temp_location_num_assignees`',\n",
       " '`PatentsView`.`temp_location_num_inventors`',\n",
       " '`PatentsView`.`temp_location_num_patents`',\n",
       " '`PatentsView`.`temp_location_patent`',\n",
       " '`PatentsView`.`temp_mainclass_current_aggregate_counts`',\n",
       " '`PatentsView`.`temp_mainclass_current_title`',\n",
       " '`PatentsView`.`temp_nber_subcategory_aggregate_counts`',\n",
       " '`PatentsView`.`temp_num_foreign_documents_cited`',\n",
       " '`PatentsView`.`temp_num_times_cited_by_us_patents`',\n",
       " '`PatentsView`.`temp_num_us_applications_cited`',\n",
       " '`PatentsView`.`temp_num_us_patents_cited`',\n",
       " '`PatentsView`.`temp_patent_aggregations`',\n",
       " '`PatentsView`.`temp_patent_date`',\n",
       " '`PatentsView`.`temp_patent_earliest_application_date`',\n",
       " '`PatentsView`.`temp_patent_firstnamed_assignee`',\n",
       " '`PatentsView`.`temp_patent_firstnamed_inventor`',\n",
       " '`PatentsView`.`temp_subclass_current_title`',\n",
       " '`PatentsView`.`usapplicationcitation`',\n",
       " '`PatentsView`.`uspatentcitation`',\n",
       " '`PatentsView`.`uspc_current_mainclass_application_year`',\n",
       " '`PatentsView`.`uspc_current_mainclass_patent_year`',\n",
       " '`PatentsView`.`uspc_current_mainclass`',\n",
       " '`PatentsView`.`uspc_current`',\n",
       " '`PatentsView`.`wipo_field`',\n",
       " '`PatentsView`.`wipo`',\n",
       " '`patent`.`application`',\n",
       " '`patent`.`cpc_current`',\n",
       " '`patent`.`cpc_group`',\n",
       " '`patent`.`cpc_subgroup`',\n",
       " '`patent`.`cpc_subsection`',\n",
       " '`patent`.`foreign_priority`',\n",
       " '`patent`.`foreigncitation`',\n",
       " '`patent`.`government_interest`',\n",
       " '`patent`.`government_organization`',\n",
       " '`patent`.`ipcr`',\n",
       " '`patent`.`location_assignee`',\n",
       " '`patent`.`location_inventor`',\n",
       " '`patent`.`location`',\n",
       " '`patent`.`mainclass_current`',\n",
       " '`patent`.`nber`',\n",
       " '`patent`.`patent_assignee`',\n",
       " '`patent`.`patent_contractawardnumber`',\n",
       " '`patent`.`patent_govintorg`',\n",
       " '`patent`.`patent_inventor`',\n",
       " '`patent`.`patent_lawyer`',\n",
       " '`patent`.`patent`',\n",
       " '`patent`.`patents`',\n",
       " '`patent`.`pctdata`',\n",
       " '`patent`.`rawassignee`',\n",
       " '`patent`.`rawexaminer`',\n",
       " '`patent`.`rawinventor`',\n",
       " '`patent`.`rawlocation`',\n",
       " '`patent`.`subclass_current`',\n",
       " '`patent`.`usapplicationcitation`',\n",
       " '`patent`.`uspatentcitation`',\n",
       " '`patent`.`uspc_current`',\n",
       " '`patent`.`wipo_field`',\n",
       " '`patent`.`wipo`'}"
      ]
     },
     "execution_count": 65,
     "metadata": {},
     "output_type": "execute_result"
    }
   ],
   "source": [
    "set(node_list)"
   ]
  },
  {
   "cell_type": "code",
   "execution_count": 57,
   "metadata": {
    "ExecuteTime": {
     "end_time": "2017-10-04T19:18:54.427237Z",
     "start_time": "2017-10-04T19:18:54.380436Z"
    }
   },
   "outputs": [],
   "source": [
    "import networkx as nx\n",
    "G=nx.DiGraph()"
   ]
  },
  {
   "cell_type": "code",
   "execution_count": 58,
   "metadata": {
    "ExecuteTime": {
     "end_time": "2017-10-04T19:18:55.597267Z",
     "start_time": "2017-10-04T19:18:55.581667Z"
    }
   },
   "outputs": [],
   "source": [
    "G.add_nodes_from(set(node_list))"
   ]
  },
  {
   "cell_type": "code",
   "execution_count": 59,
   "metadata": {
    "ExecuteTime": {
     "end_time": "2017-10-04T19:18:58.094332Z",
     "start_time": "2017-10-04T19:18:58.063131Z"
    }
   },
   "outputs": [],
   "source": [
    "tuples = [tuple(x) for x in dependencies.values]"
   ]
  },
  {
   "cell_type": "code",
   "execution_count": 60,
   "metadata": {
    "ExecuteTime": {
     "end_time": "2017-10-04T19:18:59.139558Z",
     "start_time": "2017-10-04T19:18:59.123958Z"
    }
   },
   "outputs": [],
   "source": [
    "G.add_edges_from(tuples)"
   ]
  },
  {
   "cell_type": "code",
   "execution_count": 61,
   "metadata": {
    "ExecuteTime": {
     "end_time": "2017-10-04T19:19:01.713624Z",
     "start_time": "2017-10-04T19:19:01.666823Z"
    }
   },
   "outputs": [
    {
     "data": {
      "text/plain": [
       "203"
      ]
     },
     "execution_count": 61,
     "metadata": {},
     "output_type": "execute_result"
    }
   ],
   "source": [
    "G.number_of_edges()"
   ]
  },
  {
   "cell_type": "code",
   "execution_count": 38,
   "metadata": {
    "ExecuteTime": {
     "end_time": "2017-10-04T15:34:56.288834Z",
     "start_time": "2017-10-04T15:34:53.855188Z"
    }
   },
   "outputs": [],
   "source": [
    "\n",
    "import matplotlib.pyplot as plt"
   ]
  },
  {
   "cell_type": "code",
   "execution_count": 87,
   "metadata": {
    "ExecuteTime": {
     "end_time": "2017-10-04T19:30:40.869435Z",
     "start_time": "2017-10-04T19:30:40.588628Z"
    }
   },
   "outputs": [
    {
     "name": "stderr",
     "output_type": "stream",
     "text": [
      "C:\\Users\\smadhavan\\AppData\\Local\\Continuum\\Anaconda3\\lib\\site-packages\\networkx\\drawing\\nx_pylab.py:126: MatplotlibDeprecationWarning: pyplot.hold is deprecated.\n",
      "    Future behavior will be consistent with the long-time default:\n",
      "    plot commands add elements without first clearing the\n",
      "    Axes and/or Figure.\n",
      "  b = plt.ishold()\n",
      "C:\\Users\\smadhavan\\AppData\\Local\\Continuum\\Anaconda3\\lib\\site-packages\\networkx\\drawing\\nx_pylab.py:138: MatplotlibDeprecationWarning: pyplot.hold is deprecated.\n",
      "    Future behavior will be consistent with the long-time default:\n",
      "    plot commands add elements without first clearing the\n",
      "    Axes and/or Figure.\n",
      "  plt.hold(b)\n",
      "C:\\Users\\smadhavan\\AppData\\Local\\Continuum\\Anaconda3\\lib\\site-packages\\matplotlib\\__init__.py:917: UserWarning: axes.hold is deprecated. Please remove it from your matplotlibrc and/or style files.\n",
      "  warnings.warn(self.msg_depr_set % key)\n",
      "C:\\Users\\smadhavan\\AppData\\Local\\Continuum\\Anaconda3\\lib\\site-packages\\matplotlib\\rcsetup.py:152: UserWarning: axes.hold is deprecated, will be removed in 3.0\n",
      "  warnings.warn(\"axes.hold is deprecated, will be removed in 3.0\")\n"
     ]
    },
    {
     "data": {
      "image/png": "[encoded data removed]",
      "text/plain": [
       "<matplotlib.figure.Figure at 0xc371208>"
      ]
     },
     "metadata": {},
     "output_type": "display_data"
    }
   ],
   "source": [
    "%matplotlib inline\n",
    "plt.figure(3,figsize=(16,12)) \n",
    "nx.draw_shell(nx.bfs_tree(G,'`patent`.`government_organization`', reverse=False ), with_labels=True, figsize=(20,20))\n",
    "\n"
   ]
  },
  {
   "cell_type": "code",
   "execution_count": 45,
   "metadata": {
    "ExecuteTime": {
     "end_time": "2017-10-04T15:37:57.706252Z",
     "start_time": "2017-10-04T15:37:57.675050Z"
    }
   },
   "outputs": [
    {
     "ename": "TypeError",
     "evalue": "'module' object is not callable",
     "output_type": "error",
     "traceback": [
      "\u001b[1;31m---------------------------------------------------------------------------\u001b[0m",
      "\u001b[1;31mTypeError\u001b[0m                                 Traceback (most recent call last)",
      "\u001b[1;32m<ipython-input-45-9a4a5bed2586>\u001b[0m in \u001b[0;36m<module>\u001b[1;34m()\u001b[0m\n\u001b[0;32m      1\u001b[0m \u001b[0mget_ipython\u001b[0m\u001b[1;33m(\u001b[0m\u001b[1;33m)\u001b[0m\u001b[1;33m.\u001b[0m\u001b[0mmagic\u001b[0m\u001b[1;33m(\u001b[0m\u001b[1;34m'matplotlib inline'\u001b[0m\u001b[1;33m)\u001b[0m\u001b[1;33m\u001b[0m\u001b[0m\n\u001b[1;32m----> 2\u001b[1;33m \u001b[0mnx\u001b[0m\u001b[1;33m.\u001b[0m\u001b[0mdraw\u001b[0m\u001b[1;33m(\u001b[0m\u001b[0mnx\u001b[0m\u001b[1;33m.\u001b[0m\u001b[0mclique\u001b[0m\u001b[1;33m(\u001b[0m\u001b[0mG\u001b[0m\u001b[1;33m)\u001b[0m\u001b[1;33m,\u001b[0m \u001b[0mwith_labels\u001b[0m\u001b[1;33m=\u001b[0m\u001b[1;32mTrue\u001b[0m\u001b[1;33m)\u001b[0m\u001b[1;33m\u001b[0m\u001b[0m\n\u001b[0m",
      "\u001b[1;31mTypeError\u001b[0m: 'module' object is not callable"
     ]
    }
   ],
   "source": [
    "%matplotlib inline\n",
    "nx.draw(nx.clique(G), with_labels=True)"
   ]
  },
  {
   "cell_type": "code",
   "execution_count": 91,
   "metadata": {
    "ExecuteTime": {
     "end_time": "2017-10-05T17:27:08.235556Z",
     "start_time": "2017-10-05T17:27:08.218554Z"
    }
   },
   "outputs": [],
   "source": [
    "UG=G.to_undirected()"
   ]
  },
  {
   "cell_type": "code",
   "execution_count": 99,
   "metadata": {
    "ExecuteTime": {
     "end_time": "2017-10-05T18:14:09.083035Z",
     "start_time": "2017-10-05T18:14:09.074035Z"
    }
   },
   "outputs": [],
   "source": [
    "reach={}\n",
    "for node in nx.descendants(G,source=\"`patent`.`uspatentcitation`\"):\n",
    "    hops=str(nx.shortest_path_length(G, source=\"`patent`.`uspatentcitation`\" ,target=node))\n",
    "    #print(node+\" : \")\n",
    "    if hops not in reach:\n",
    "        reach[hops]=[]\n",
    "    reach[hops].append(node)"
   ]
  },
  {
   "cell_type": "code",
   "execution_count": 100,
   "metadata": {
    "ExecuteTime": {
     "end_time": "2017-10-05T18:14:18.193035Z",
     "start_time": "2017-10-05T18:14:18.170035Z"
    }
   },
   "outputs": [
    {
     "name": "stdout",
     "output_type": "stream",
     "text": [
      "{'1': ['`PatentsView`.`temp_num_us_patents_cited`',\n",
      "       '`PatentsView`.`temp_num_times_cited_by_us_patents`'],\n",
      " '2': ['`PatentsView`.`temp_patent_aggregations`'],\n",
      " '3': ['`PatentsView`.`patent`'],\n",
      " '4': ['`PatentsView`.`temp_cpc_current_subsection_aggregate_counts`',\n",
      "       '`PatentsView`.`temp_cpc_current_group_aggregate_counts`',\n",
      "       '`PatentsView`.`usapplicationcitation`',\n",
      "       '`PatentsView`.`uspc_current_mainclass_application_year`',\n",
      "       '`PatentsView`.`cpc_current_subsection_patent_year`',\n",
      "       '`PatentsView`.`pctdata`',\n",
      "       '`PatentsView`.`patent_year`',\n",
      "       '`PatentsView`.`cpc_current_group_application_year`',\n",
      "       '`PatentsView`.`uspc_current_mainclass_patent_year`',\n",
      "       '`PatentsView`.`foreignpriority`',\n",
      "       '`PatentsView`.`temp_nber_subcategory_aggregate_counts`',\n",
      "       '`PatentsView`.`uspatentcitation`',\n",
      "       '`PatentsView`.`cpc_current_group_patent_year`',\n",
      "       '`PatentsView`.`nber_subcategory_patent_year`',\n",
      "       '`PatentsView`.`temp_ipcr_years_active`',\n",
      "       '`PatentsView`.`temp_mainclass_current_aggregate_counts`',\n",
      "       '`PatentsView`.`assignee_year`'],\n",
      " '5': ['`PatentsView`.`cpc_current`',\n",
      "       '`PatentsView`.`patent3`',\n",
      "       '`PatentsView`.`uspc_current`',\n",
      "       '`PatentsView`.`nber`',\n",
      "       '`PatentsView`.`cpc_current_group`',\n",
      "       '`PatentsView`.`cpc_current_subsection`',\n",
      "       '`PatentsView`.`uspc_current_mainclass`',\n",
      "       '`PatentsView`.`patent2`',\n",
      "       '`PatentsView`.`ipcr`'],\n",
      " '6': ['`PatentsView`.`assignee_nber_subcategory`',\n",
      "       '`PatentsView`.`assignee_cpc_subsection`',\n",
      "       '`PatentsView`.`inventor_uspc_mainclass`',\n",
      "       '`PatentsView`.`inventor_cpc_subsection`',\n",
      "       '`PatentsView`.`location_uspc_mainclass`',\n",
      "       '`PatentsView`.`assignee_uspc_mainclass`',\n",
      "       '`PatentsView`.`inventor_cpc_group`',\n",
      "       '`PatentsView`.`inventor_nber_subcategory`',\n",
      "       '`PatentsView`.`assignee_cpc_group`']}\n"
     ]
    }
   ],
   "source": [
    "import pprint\n",
    "pprint.pprint(reach)"
   ]
  }
 ],
 "metadata": {
  "kernelspec": {
   "display_name": "Python 3",
   "language": "python",
   "name": "python3"
  },
  "language_info": {
   "codemirror_mode": {
    "name": "ipython",
    "version": 3
   },
   "file_extension": ".py",
   "mimetype": "text/x-python",
   "name": "python",
   "nbconvert_exporter": "python",
   "pygments_lexer": "ipython3",
   "version": "3.6.7"
  },
  "varInspector": {
   "cols": {
    "lenName": 16,
    "lenType": 16,
    "lenVar": 40
   },
   "kernels_config": {
    "python": {
     "delete_cmd_postfix": "",
     "delete_cmd_prefix": "del ",
     "library": "var_list.py",
     "varRefreshCmd": "print(var_dic_list())"
    },
    "r": {
     "delete_cmd_postfix": ") ",
     "delete_cmd_prefix": "rm(",
     "library": "var_list.r",
     "varRefreshCmd": "cat(var_dic_list()) "
    }
   },
   "types_to_exclude": [
    "module",
    "function",
    "builtin_function_or_method",
    "instance",
    "_Feature"
   ],
   "window_display": false
  }
 },
 "nbformat": 4,
 "nbformat_minor": 2
}
