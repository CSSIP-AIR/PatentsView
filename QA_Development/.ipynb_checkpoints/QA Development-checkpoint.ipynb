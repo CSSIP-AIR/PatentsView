{
 "cells": [
  {
   "cell_type": "code",
   "execution_count": 2,
   "metadata": {
    "collapsed": false
   },
   "outputs": [],
   "source": [
    "import re\n",
    "import pandas as pd\n",
    "import MySQLdb\n",
    "import sys\n",
    "#update this with the path to where your config file with database credentials lives\n",
    "sys.path.append(\"D:/DataBaseUpdate/To_clone\")\n",
    "from ConfigFiles import config #this reads in one's database credentials"
   ]
  },
  {
   "cell_type": "code",
   "execution_count": 17,
   "metadata": {
    "collapsed": true
   },
   "outputs": [],
   "source": [
    "mydb = MySQLdb.connect(config.host, config.username, config.password, 'patent_20171003')\n",
    "cursor = mydb.cursor()"
   ]
  },
  {
   "cell_type": "markdown",
   "metadata": {},
   "source": [
    "### Check for sensible numbers and distributions"
   ]
  },
  {
   "cell_type": "code",
   "execution_count": 18,
   "metadata": {
    "collapsed": false
   },
   "outputs": [
    {
     "name": "stdout",
     "output_type": "stream",
     "text": [
      "Number of Patents is Reasonable\n"
     ]
    }
   ],
   "source": [
    "def check_patent():\n",
    "    cursor.execute(\"select count(id) from patent_20170808.patent;\")\n",
    "    count_old = int(cursor.fetchall()[0][0])\n",
    "    cursor.execute(\"select count(id) from patent_20171003.patent;\")\n",
    "    count_new = int(cursor.fetchall()[0][0])\n",
    "    if count_new > count_old + 10000 and count_new < count_old + 300000:\n",
    "        print \"Number of Patents is Reasonable\"\n",
    "    else:\n",
    "        print \"Problem: Number of Patents is not Reasonable. It is \", count_new, \"and last time it was \", count_old\n",
    "check_patent()"
   ]
  },
  {
   "cell_type": "markdown",
   "metadata": {},
   "source": [
    "Things to Check:\n",
    "\n",
    " 1) Number of entries in all non-empty tables [excluding government_organization and wipo_fields] is within 10% of what it was last time and is greater than the number last time. Instead of writing a ton of separate functions figure out (1) how to get a list of table from the database. (2) write one function that takes in a table name as an argument and then runs the equality check on that table (you can modify the check_patent function we wrote) and (3) iterate over the tables and apply this function to each of the tables. \n",
    " \n",
    " 2) The ratio of distinct ids to total ids is with in .1 of what it was last time for each table. For example, the ratio of [select count(distinct id) from patent] divided by [select count(id) from patent] is close to the same ratio from last year. The id column is often patent_id, but in other tables it is not, if you can't tell just ask. Probably you will want to end up with a similar function to the function above that will use a dictionary to map each table name to the id column you've identified. \n",
    " \n",
    " 2) The distribution of patents across patent type and patent kind are similar to how they were last time.\n",
    " \n",
    " 3) The latest date in the patent table is the expected final date (in this case 2017-10-03).\n",
    " \n",
    " 4) The count of null and blank values for all columns in all tables is within 10% of last year. Follow a methodolgy similar to in step 1.\n"
   ]
  },
  {
   "cell_type": "markdown",
   "metadata": {},
   "source": [
    "### Check Joins between tables"
   ]
  },
  {
   "cell_type": "code",
   "execution_count": null,
   "metadata": {
    "collapsed": true
   },
   "outputs": [],
   "source": []
  }
 ],
 "metadata": {
  "anaconda-cloud": {},
  "kernelspec": {
   "display_name": "Python [conda root]",
   "language": "python",
   "name": "conda-root-py"
  },
  "language_info": {
   "codemirror_mode": {
    "name": "ipython",
    "version": 2
   },
   "file_extension": ".py",
   "mimetype": "text/x-python",
   "name": "python",
   "nbconvert_exporter": "python",
   "pygments_lexer": "ipython2",
   "version": "2.7.12"
  }
 },
 "nbformat": 4,
 "nbformat_minor": 1
}
