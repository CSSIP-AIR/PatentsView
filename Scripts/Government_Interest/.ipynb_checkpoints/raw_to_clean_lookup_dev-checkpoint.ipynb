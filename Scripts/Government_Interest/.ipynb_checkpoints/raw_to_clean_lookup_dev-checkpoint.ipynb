{
 "cells": [
  {
   "cell_type": "code",
   "execution_count": 1,
   "metadata": {
    "collapsed": false
   },
   "outputs": [],
   "source": [
    "import pandas as pd\n",
    "import string\n",
    "import re"
   ]
  },
  {
   "cell_type": "code",
   "execution_count": 62,
   "metadata": {
    "collapsed": false
   },
   "outputs": [
    {
     "data": {
      "text/html": [
       "<div>\n",
       "<table border=\"1\" class=\"dataframe\">\n",
       "  <thead>\n",
       "    <tr style=\"text-align: right;\">\n",
       "      <th></th>\n",
       "      <th>raw_org</th>\n",
       "      <th>clean_org</th>\n",
       "    </tr>\n",
       "  </thead>\n",
       "  <tbody>\n",
       "    <tr>\n",
       "      <th>0</th>\n",
       "      <td>Advanced Research Projects AgencyEnergy</td>\n",
       "      <td>Advanced Research Projects Agency-Energy</td>\n",
       "    </tr>\n",
       "    <tr>\n",
       "      <th>1</th>\n",
       "      <td>US Department of EnergyAdvanced Research Proje...</td>\n",
       "      <td>Advanced Research Projects Agency-Energy</td>\n",
       "    </tr>\n",
       "    <tr>\n",
       "      <th>2</th>\n",
       "      <td>Office of ArpaE</td>\n",
       "      <td>Advanced Research Projects Agency-Energy</td>\n",
       "    </tr>\n",
       "    <tr>\n",
       "      <th>3</th>\n",
       "      <td>Advanced Technology Research Center</td>\n",
       "      <td>Advanced Technology Program</td>\n",
       "    </tr>\n",
       "    <tr>\n",
       "      <th>4</th>\n",
       "      <td>Advanced Technical Program</td>\n",
       "      <td>Advanced Technology Program</td>\n",
       "    </tr>\n",
       "  </tbody>\n",
       "</table>\n",
       "</div>"
      ],
      "text/plain": [
       "                                             raw_org  \\\n",
       "0            Advanced Research Projects AgencyEnergy   \n",
       "1  US Department of EnergyAdvanced Research Proje...   \n",
       "2                                    Office of ArpaE   \n",
       "3                Advanced Technology Research Center   \n",
       "4                         Advanced Technical Program   \n",
       "\n",
       "                                  clean_org  \n",
       "0  Advanced Research Projects Agency-Energy  \n",
       "1  Advanced Research Projects Agency-Energy  \n",
       "2  Advanced Research Projects Agency-Energy  \n",
       "3               Advanced Technology Program  \n",
       "4               Advanced Technology Program  "
      ]
     },
     "execution_count": 62,
     "metadata": {},
     "output_type": "execute_result"
    }
   ],
   "source": [
    "data_file = \"D:/DataBaseUpdate/PersistentFiles/existing_orgs_lookup.csv\"\n",
    "new_data = \"D:/DataBaseUpdate/2017_Oct/processed_gov/distinctOrgs.txt\"\n",
    "govt_acro = \"D:/DataBaseUpdate/PersistentFiles/list_of_government_agencies.csv\"\n",
    "#def update_lookup(data_file, new_data)\n",
    "new_orgs = pd.read_csv(new_data, delimiter = \"\\t\")\n",
    "existing_lookup = pd.read_csv(data_file).dropna()\n",
    "government_orgs = pd.read_csv(govt_acro)\n",
    "existing_lookup.head()"
   ]
  },
  {
   "cell_type": "code",
   "execution_count": 63,
   "metadata": {
    "collapsed": false
   },
   "outputs": [
    {
     "data": {
      "text/html": [
       "<div>\n",
       "<table border=\"1\" class=\"dataframe\">\n",
       "  <thead>\n",
       "    <tr style=\"text-align: right;\">\n",
       "      <th></th>\n",
       "      <th>Organization</th>\n",
       "      <th>InstanceCount</th>\n",
       "    </tr>\n",
       "  </thead>\n",
       "  <tbody>\n",
       "    <tr>\n",
       "      <th>0</th>\n",
       "      <td>Naval Air Systems Command</td>\n",
       "      <td>3</td>\n",
       "    </tr>\n",
       "    <tr>\n",
       "      <th>1</th>\n",
       "      <td>Nih</td>\n",
       "      <td>144</td>\n",
       "    </tr>\n",
       "    <tr>\n",
       "      <th>2</th>\n",
       "      <td>US Department of the Army</td>\n",
       "      <td>2</td>\n",
       "    </tr>\n",
       "    <tr>\n",
       "      <th>3</th>\n",
       "      <td>Nih P50 Centers In Excellence In Genomic Science</td>\n",
       "      <td>2</td>\n",
       "    </tr>\n",
       "    <tr>\n",
       "      <th>4</th>\n",
       "      <td>Navy</td>\n",
       "      <td>64</td>\n",
       "    </tr>\n",
       "  </tbody>\n",
       "</table>\n",
       "</div>"
      ],
      "text/plain": [
       "                                       Organization  InstanceCount\n",
       "0                         Naval Air Systems Command              3\n",
       "1                                               Nih            144\n",
       "2                         US Department of the Army              2\n",
       "3  Nih P50 Centers In Excellence In Genomic Science              2\n",
       "4                                              Navy             64"
      ]
     },
     "execution_count": 63,
     "metadata": {},
     "output_type": "execute_result"
    }
   ],
   "source": [
    "#create an improved title function that handles small words as English actually does and drop punctuation\n",
    "def better_title(text):\n",
    "    title = \" \".join([item if item not in [\"Of\", \"The\", \"For\", \"And\", \"On\"] else item.lower() for item in text.title().split( )])\n",
    "    return title.translate(None, string.punctuation)\n",
    "#process the new organizations\n",
    "new_orgs[\"Organization\"] = new_orgs[\"Organization\"].map(lambda x : better_title(x))\n",
    "new_orgs.head()"
   ]
  },
  {
   "cell_type": "code",
   "execution_count": 64,
   "metadata": {
    "collapsed": true
   },
   "outputs": [],
   "source": [
    "#create a look up for already matched organizations\n",
    "orgs_to_find = list(new_orgs['Organization'])\n",
    "org_dict = dict(zip(list(existing_lookup[\"raw_org\"]),list(existing_lookup[\"clean_org\"])))\n",
    "existing = list(existing_lookup[\"raw_org\"])\n",
    "#Create an acronym/long form dictionary\n",
    "govt_acc_dict = dict(zip([better_title(item.strip()) for item in government_orgs[\"Acronym\"]], [item.strip() for item in government_orgs[\"Long_form\"]]))\n",
    "govt_long = [better_title(item.strip()) for item in government_orgs[\"Long_form\"]]\n",
    "govt_dict['Usaf'] = \"AIR FORCE\" #there is an extra 'department' here"
   ]
  },
  {
   "cell_type": "code",
   "execution_count": 74,
   "metadata": {
    "collapsed": false
   },
   "outputs": [
    {
     "data": {
      "text/plain": [
       "False"
      ]
     },
     "execution_count": 74,
     "metadata": {},
     "output_type": "execute_result"
    }
   ],
   "source": [
    "\"Navy\" in govt_long"
   ]
  },
  {
   "cell_type": "code",
   "execution_count": 71,
   "metadata": {
    "collapsed": true
   },
   "outputs": [],
   "source": [
    "def govt_match(item, gov_org_long, gov_org_acc_dict):\n",
    "    for org in gov_org_long:\n",
    "        if org in item:\n",
    "            return org\n",
    "    for acc in gov_org_acc_dict.keys():\n",
    "        if re.search(r'\\b'+ acc + r'\\b', item):\n",
    "            return org\n",
    "    return None"
   ]
  },
  {
   "cell_type": "code",
   "execution_count": 72,
   "metadata": {
    "collapsed": false
   },
   "outputs": [],
   "source": [
    "gov_match = [govt_match(item, govt_long, govt_acc_dict) for item in orgs_to_find]\n",
    "matches = pd.DataFrame({\"Org\":orgs_to_find, \"Match\": gov_match})"
   ]
  },
  {
   "cell_type": "code",
   "execution_count": 75,
   "metadata": {
    "collapsed": false
   },
   "outputs": [
    {
     "data": {
      "text/plain": [
       "444"
      ]
     },
     "execution_count": 75,
     "metadata": {},
     "output_type": "execute_result"
    }
   ],
   "source": [
    "matched = matches[matches['Match']!=None]\n"
   ]
  },
  {
   "cell_type": "code",
   "execution_count": 73,
   "metadata": {
    "collapsed": false
   },
   "outputs": [
    {
     "data": {
      "text/html": [
       "<div>\n",
       "<table border=\"1\" class=\"dataframe\">\n",
       "  <thead>\n",
       "    <tr style=\"text-align: right;\">\n",
       "      <th></th>\n",
       "      <th>Match</th>\n",
       "      <th>Org</th>\n",
       "    </tr>\n",
       "  </thead>\n",
       "  <tbody>\n",
       "    <tr>\n",
       "      <th>0</th>\n",
       "      <td>None</td>\n",
       "      <td>Naval Air Systems Command</td>\n",
       "    </tr>\n",
       "    <tr>\n",
       "      <th>1</th>\n",
       "      <td>None</td>\n",
       "      <td>US Department of the Army</td>\n",
       "    </tr>\n",
       "    <tr>\n",
       "      <th>2</th>\n",
       "      <td>None</td>\n",
       "      <td>Navy</td>\n",
       "    </tr>\n",
       "    <tr>\n",
       "      <th>3</th>\n",
       "      <td>None</td>\n",
       "      <td>Government Contract No 11C0042</td>\n",
       "    </tr>\n",
       "    <tr>\n",
       "      <th>4</th>\n",
       "      <td>None</td>\n",
       "      <td>Carter Technologies Co</td>\n",
       "    </tr>\n",
       "  </tbody>\n",
       "</table>\n",
       "</div>"
      ],
      "text/plain": [
       "  Match                             Org\n",
       "0  None       Naval Air Systems Command\n",
       "1  None       US Department of the Army\n",
       "2  None                            Navy\n",
       "3  None  Government Contract No 11C0042\n",
       "4  None          Carter Technologies Co"
      ]
     },
     "execution_count": 73,
     "metadata": {},
     "output_type": "execute_result"
    }
   ],
   "source": [
    "matches.head()"
   ]
  },
  {
   "cell_type": "code",
   "execution_count": 66,
   "metadata": {
    "collapsed": false
   },
   "outputs": [],
   "source": [
    "gov_orgs_found = 0\n",
    "for item in orgs_to_find:\n",
    "    if item == \"Department of DefenseUsa Medical Research Aqc\":\n",
    "        print item\n",
    "    clean = item.translate(None, string.punctuation)\n",
    "    if item in existing:\n",
    "        orgs_to_find.remove(item)\n",
    "    elif clean in existing:\n",
    "        orgs_to_find.remove(item)\n",
    "        org_dict[item] = org_dict[clean]\n",
    "    else:\n",
    "        for acro in govt_acc_dict.keys():\n",
    "            if re.search(r'\\b'+ acro + r'\\b', item):\n",
    "                org_dict[item] = better_title(govt_acc_dict[acro])\n",
    "                try:\n",
    "                    orgs_to_find.remove(item)\n",
    "                except:\n",
    "                    pass\n",
    "                gov_orgs_found +=1\n",
    "        counter = 0\n",
    "        for full_name in govt_long:\n",
    "            if item == \"Department of DefenseUsa Medical Research Aqc\":\n",
    "                counter +=1\n",
    "                print \"here\"\n",
    "                if counter == 61:\n",
    "                    print item, full_name\n",
    "                    print full_name in item\n",
    "            if full_name in item:\n",
    "                org_dict[item] = full_name\n",
    "                try:\n",
    "                    orgs_to_find.remove(item)\n",
    "                except:\n",
    "                    pass\n",
    "                gov_orgs_found +=1"
   ]
  },
  {
   "cell_type": "code",
   "execution_count": 50,
   "metadata": {
    "collapsed": false
   },
   "outputs": [
    {
     "data": {
      "text/plain": [
       "['US Department of the Army',\n",
       " 'Navy',\n",
       " 'Government Contract No 11C0042',\n",
       " 'Carter Technologies Co',\n",
       " 'Va Boston Healthcare System',\n",
       " 'Future Internet That Supports Trustworthy Cloud Computing',\n",
       " 'Office of Biological',\n",
       " 'Department of the NavyNaval Air Systems Command',\n",
       " 'Nfs']"
      ]
     },
     "execution_count": 50,
     "metadata": {},
     "output_type": "execute_result"
    }
   ],
   "source": [
    "orgs_to_find[1:10]"
   ]
  },
  {
   "cell_type": "code",
   "execution_count": 35,
   "metadata": {
    "collapsed": false
   },
   "outputs": [
    {
     "data": {
      "text/plain": [
       "['Department of Defense',\n",
       " 'Department of Energy',\n",
       " 'Department of the Interior',\n",
       " 'Department of Justice',\n",
       " 'Department of Labor',\n",
       " 'Department of State',\n",
       " 'Department of Transportation',\n",
       " 'Delaware River Basin Commission',\n",
       " 'Bureau of Economic Analysis',\n",
       " 'Election Assistance Commission']"
      ]
     },
     "execution_count": 35,
     "metadata": {},
     "output_type": "execute_result"
    }
   ],
   "source": [
    "govt_long[60:70]"
   ]
  },
  {
   "cell_type": "code",
   "execution_count": 38,
   "metadata": {
    "collapsed": false
   },
   "outputs": [
    {
     "data": {
      "text/plain": [
       "'Department of Defense'"
      ]
     },
     "execution_count": 38,
     "metadata": {},
     "output_type": "execute_result"
    }
   ],
   "source": [
    "govt_long[60]"
   ]
  },
  {
   "cell_type": "code",
   "execution_count": 37,
   "metadata": {
    "collapsed": false
   },
   "outputs": [
    {
     "data": {
      "text/plain": [
       "'Department of DefenseUsa Medical Research Aqc'"
      ]
     },
     "execution_count": 37,
     "metadata": {},
     "output_type": "execute_result"
    }
   ],
   "source": [
    "orgs_to_find[32]"
   ]
  },
  {
   "cell_type": "code",
   "execution_count": 41,
   "metadata": {
    "collapsed": false
   },
   "outputs": [
    {
     "data": {
      "text/plain": [
       "True"
      ]
     },
     "execution_count": 41,
     "metadata": {},
     "output_type": "execute_result"
    }
   ],
   "source": [
    "govt_long[60] in orgs_to_find[32]"
   ]
  },
  {
   "cell_type": "code",
   "execution_count": 27,
   "metadata": {
    "collapsed": false
   },
   "outputs": [],
   "source": [
    "missed = pd.DataFrame(orgs_to_find)\n",
    "missed.to_csv(\"missed_for_qa.csv\")"
   ]
  },
  {
   "cell_type": "code",
   "execution_count": 14,
   "metadata": {
    "collapsed": false
   },
   "outputs": [
    {
     "data": {
      "text/html": [
       "<div>\n",
       "<table border=\"1\" class=\"dataframe\">\n",
       "  <thead>\n",
       "    <tr style=\"text-align: right;\">\n",
       "      <th></th>\n",
       "      <th>Acronym</th>\n",
       "      <th>Long_form</th>\n",
       "      <th></th>\n",
       "    </tr>\n",
       "  </thead>\n",
       "  <tbody>\n",
       "    <tr>\n",
       "      <th>0</th>\n",
       "      <td>ABMC</td>\n",
       "      <td>AMERICAN BATTLE MONUMENTS COMMISSION</td>\n",
       "      <td></td>\n",
       "    </tr>\n",
       "    <tr>\n",
       "      <th>1</th>\n",
       "      <td>ACF</td>\n",
       "      <td>ADMINISTRATION OF CHILDREN AND FAMILIES</td>\n",
       "      <td></td>\n",
       "    </tr>\n",
       "    <tr>\n",
       "      <th>2</th>\n",
       "      <td>ACFR</td>\n",
       "      <td>ADMINISTRATIVE COMMITTEE OF THE FEDERAL REGISTER</td>\n",
       "      <td></td>\n",
       "    </tr>\n",
       "    <tr>\n",
       "      <th>3</th>\n",
       "      <td>ADF</td>\n",
       "      <td>AFRICAN DEVELOPMENT FOUNDATION</td>\n",
       "      <td></td>\n",
       "    </tr>\n",
       "    <tr>\n",
       "      <th>4</th>\n",
       "      <td>AFRH</td>\n",
       "      <td>ARMED FORCES RETIREMENT HOME</td>\n",
       "      <td></td>\n",
       "    </tr>\n",
       "  </tbody>\n",
       "</table>\n",
       "</div>"
      ],
      "text/plain": [
       "  Acronym                                          Long_form   \n",
       "0   ABMC               AMERICAN BATTLE MONUMENTS COMMISSION    \n",
       "1    ACF            ADMINISTRATION OF CHILDREN AND FAMILIES    \n",
       "2   ACFR   ADMINISTRATIVE COMMITTEE OF THE FEDERAL REGISTER    \n",
       "3    ADF                     AFRICAN DEVELOPMENT FOUNDATION    \n",
       "4   AFRH                       ARMED FORCES RETIREMENT HOME    "
      ]
     },
     "execution_count": 14,
     "metadata": {},
     "output_type": "execute_result"
    }
   ],
   "source": [
    "govt_lookup.head()"
   ]
  },
  {
   "cell_type": "code",
   "execution_count": 12,
   "metadata": {
    "collapsed": false
   },
   "outputs": [
    {
     "data": {
      "text/html": [
       "<div>\n",
       "<table border=\"1\" class=\"dataframe\">\n",
       "  <thead>\n",
       "    <tr style=\"text-align: right;\">\n",
       "      <th></th>\n",
       "      <th>Organization</th>\n",
       "      <th>InstanceCount</th>\n",
       "    </tr>\n",
       "  </thead>\n",
       "  <tbody>\n",
       "    <tr>\n",
       "      <th>0</th>\n",
       "      <td>Naval Air Systems Command</td>\n",
       "      <td>3</td>\n",
       "    </tr>\n",
       "    <tr>\n",
       "      <th>1</th>\n",
       "      <td>NIH</td>\n",
       "      <td>144</td>\n",
       "    </tr>\n",
       "    <tr>\n",
       "      <th>2</th>\n",
       "      <td>U.S. Department of the Army</td>\n",
       "      <td>2</td>\n",
       "    </tr>\n",
       "    <tr>\n",
       "      <th>3</th>\n",
       "      <td>NIH P50 Centers in Excellence in Genomic Science</td>\n",
       "      <td>2</td>\n",
       "    </tr>\n",
       "    <tr>\n",
       "      <th>4</th>\n",
       "      <td>Navy</td>\n",
       "      <td>64</td>\n",
       "    </tr>\n",
       "  </tbody>\n",
       "</table>\n",
       "</div>"
      ],
      "text/plain": [
       "                                       Organization  InstanceCount\n",
       "0                         Naval Air Systems Command              3\n",
       "1                                               NIH            144\n",
       "2                       U.S. Department of the Army              2\n",
       "3  NIH P50 Centers in Excellence in Genomic Science              2\n",
       "4                                              Navy             64"
      ]
     },
     "execution_count": 12,
     "metadata": {},
     "output_type": "execute_result"
    }
   ],
   "source": [
    "new_orgs.head()"
   ]
  },
  {
   "cell_type": "code",
   "execution_count": 8,
   "metadata": {
    "collapsed": false
   },
   "outputs": [
    {
     "data": {
      "text/html": [
       "<div>\n",
       "<table border=\"1\" class=\"dataframe\">\n",
       "  <thead>\n",
       "    <tr style=\"text-align: right;\">\n",
       "      <th></th>\n",
       "      <th>raw_org</th>\n",
       "      <th>clean_org</th>\n",
       "      <th>ignore</th>\n",
       "    </tr>\n",
       "  </thead>\n",
       "  <tbody>\n",
       "    <tr>\n",
       "      <th>0</th>\n",
       "      <td>Advanced Research Projects Agency-Energy</td>\n",
       "      <td>Advanced Research Projects Agency-Energy</td>\n",
       "      <td>NaN</td>\n",
       "    </tr>\n",
       "    <tr>\n",
       "      <th>1</th>\n",
       "      <td>U.S. Department of Energy/Advanced Research Pr...</td>\n",
       "      <td>Advanced Research Projects Agency-Energy</td>\n",
       "      <td>NaN</td>\n",
       "    </tr>\n",
       "    <tr>\n",
       "      <th>2</th>\n",
       "      <td>Office of ARPA-E</td>\n",
       "      <td>Advanced Research Projects Agency-Energy</td>\n",
       "      <td>NaN</td>\n",
       "    </tr>\n",
       "    <tr>\n",
       "      <th>3</th>\n",
       "      <td>Air Force Office of Science and Research</td>\n",
       "      <td>Air Force Office of Scientific Research</td>\n",
       "      <td>NaN</td>\n",
       "    </tr>\n",
       "    <tr>\n",
       "      <th>4</th>\n",
       "      <td>Air Force Office of Scientific Research</td>\n",
       "      <td>Air Force Office of Scientific Research</td>\n",
       "      <td>NaN</td>\n",
       "    </tr>\n",
       "  </tbody>\n",
       "</table>\n",
       "</div>"
      ],
      "text/plain": [
       "                                             raw_org  \\\n",
       "0           Advanced Research Projects Agency-Energy   \n",
       "1  U.S. Department of Energy/Advanced Research Pr...   \n",
       "2                                   Office of ARPA-E   \n",
       "3           Air Force Office of Science and Research   \n",
       "4            Air Force Office of Scientific Research   \n",
       "\n",
       "                                  clean_org ignore  \n",
       "0  Advanced Research Projects Agency-Energy    NaN  \n",
       "1  Advanced Research Projects Agency-Energy    NaN  \n",
       "2  Advanced Research Projects Agency-Energy    NaN  \n",
       "3   Air Force Office of Scientific Research    NaN  \n",
       "4   Air Force Office of Scientific Research    NaN  "
      ]
     },
     "execution_count": 8,
     "metadata": {},
     "output_type": "execute_result"
    }
   ],
   "source": [
    "existing_lookup.head()"
   ]
  },
  {
   "cell_type": "code",
   "execution_count": 9,
   "metadata": {
    "collapsed": true
   },
   "outputs": [],
   "source": [
    "ner_output = pd.read_csv(\"D:/DataBaseUpdate/2017_Oct/processed_gov/NER_output.txt\", delimiter = \"\\t\")"
   ]
  },
  {
   "cell_type": "code",
   "execution_count": 10,
   "metadata": {
    "collapsed": false
   },
   "outputs": [
    {
     "data": {
      "text/html": [
       "<div>\n",
       "<table border=\"1\" class=\"dataframe\">\n",
       "  <thead>\n",
       "    <tr style=\"text-align: right;\">\n",
       "      <th></th>\n",
       "      <th>Patent number</th>\n",
       "      <th>TwinArch set</th>\n",
       "      <th>GI title</th>\n",
       "      <th>GI statement</th>\n",
       "      <th>Orgs</th>\n",
       "      <th>Contract/award(s)</th>\n",
       "      <th>Has address</th>\n",
       "      <th>Has phone</th>\n",
       "    </tr>\n",
       "  </thead>\n",
       "  <tbody>\n",
       "    <tr>\n",
       "      <th>0</th>\n",
       "      <td>US09730438</td>\n",
       "      <td>20170815</td>\n",
       "      <td>STATEMENT OF UNITED STATES FEDERALLY FUNDED RE...</td>\n",
       "      <td>This invention was made with government suppor...</td>\n",
       "      <td>Animal and Plant Health Inspection Service|Uni...</td>\n",
       "      <td>11-7415-0842-CA</td>\n",
       "      <td>NaN</td>\n",
       "      <td>0</td>\n",
       "    </tr>\n",
       "    <tr>\n",
       "      <th>1</th>\n",
       "      <td>US09730492</td>\n",
       "      <td>20170815</td>\n",
       "      <td>NaN</td>\n",
       "      <td>A portion of the disclosure of this patent doc...</td>\n",
       "      <td>Trademark Office|Patent and Trademark Office</td>\n",
       "      <td>NaN</td>\n",
       "      <td>NaN</td>\n",
       "      <td>0</td>\n",
       "    </tr>\n",
       "    <tr>\n",
       "      <th>2</th>\n",
       "      <td>US09730582</td>\n",
       "      <td>20170815</td>\n",
       "      <td>ORIGIN OF THE INVENTION</td>\n",
       "      <td>The invention described herein was made in the...</td>\n",
       "      <td>NASA|United States Government|Government</td>\n",
       "      <td>S)202|96-517 35</td>\n",
       "      <td>NaN</td>\n",
       "      <td>0</td>\n",
       "    </tr>\n",
       "    <tr>\n",
       "      <th>3</th>\n",
       "      <td>US09730615</td>\n",
       "      <td>20170815</td>\n",
       "      <td>NaN</td>\n",
       "      <td>The U.S. Government has a paid-up license in t...</td>\n",
       "      <td>National Institutes of Health|U.S. Government|...</td>\n",
       "      <td>RO1EB000975|P41RR15241|R01AG20012</td>\n",
       "      <td>NaN</td>\n",
       "      <td>0</td>\n",
       "    </tr>\n",
       "    <tr>\n",
       "      <th>4</th>\n",
       "      <td>US09730632</td>\n",
       "      <td>20170815</td>\n",
       "      <td>NaN</td>\n",
       "      <td>The U.S. Government has a paid-up license in t...</td>\n",
       "      <td>National Institutes of Health|U.S. Government</td>\n",
       "      <td>2R44HL075983-02</td>\n",
       "      <td>NaN</td>\n",
       "      <td>0</td>\n",
       "    </tr>\n",
       "  </tbody>\n",
       "</table>\n",
       "</div>"
      ],
      "text/plain": [
       "  Patent number  TwinArch set  \\\n",
       "0    US09730438      20170815   \n",
       "1    US09730492      20170815   \n",
       "2    US09730582      20170815   \n",
       "3    US09730615      20170815   \n",
       "4    US09730632      20170815   \n",
       "\n",
       "                                            GI title  \\\n",
       "0  STATEMENT OF UNITED STATES FEDERALLY FUNDED RE...   \n",
       "1                                                NaN   \n",
       "2                            ORIGIN OF THE INVENTION   \n",
       "3                                                NaN   \n",
       "4                                                NaN   \n",
       "\n",
       "                                        GI statement  \\\n",
       "0  This invention was made with government suppor...   \n",
       "1  A portion of the disclosure of this patent doc...   \n",
       "2  The invention described herein was made in the...   \n",
       "3  The U.S. Government has a paid-up license in t...   \n",
       "4  The U.S. Government has a paid-up license in t...   \n",
       "\n",
       "                                                Orgs  \\\n",
       "0  Animal and Plant Health Inspection Service|Uni...   \n",
       "1       Trademark Office|Patent and Trademark Office   \n",
       "2           NASA|United States Government|Government   \n",
       "3  National Institutes of Health|U.S. Government|...   \n",
       "4      National Institutes of Health|U.S. Government   \n",
       "\n",
       "                   Contract/award(s)  Has address  Has phone  \n",
       "0                    11-7415-0842-CA          NaN          0  \n",
       "1                                NaN          NaN          0  \n",
       "2                    S)202|96-517 35          NaN          0  \n",
       "3  RO1EB000975|P41RR15241|R01AG20012          NaN          0  \n",
       "4                    2R44HL075983-02          NaN          0  "
      ]
     },
     "execution_count": 10,
     "metadata": {},
     "output_type": "execute_result"
    }
   ],
   "source": [
    "ner_output.head()"
   ]
  },
  {
   "cell_type": "code",
   "execution_count": null,
   "metadata": {
    "collapsed": true
   },
   "outputs": [],
   "source": [
    "def better_title(text):\n",
    "    return \" \".join([item if item not in [\"Of\", \"The\", \"For\", \"And\", \"On\"] else item.lower() for item in text.title().split( )])\n"
   ]
  }
 ],
 "metadata": {
  "anaconda-cloud": {},
  "kernelspec": {
   "display_name": "Python [conda root]",
   "language": "python",
   "name": "conda-root-py"
  },
  "language_info": {
   "codemirror_mode": {
    "name": "ipython",
    "version": 2
   },
   "file_extension": ".py",
   "mimetype": "text/x-python",
   "name": "python",
   "nbconvert_exporter": "python",
   "pygments_lexer": "ipython2",
   "version": "2.7.12"
  }
 },
 "nbformat": 4,
 "nbformat_minor": 1
}
